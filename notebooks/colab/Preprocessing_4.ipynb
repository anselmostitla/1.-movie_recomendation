{
  "nbformat": 4,
  "nbformat_minor": 0,
  "metadata": {
    "colab": {
      "name": "Preprocessing 4.ipynb",
      "provenance": []
    },
    "kernelspec": {
      "name": "python3",
      "display_name": "Python 3"
    }
  },
  "cells": [
    {
      "cell_type": "code",
      "metadata": {
        "id": "oH_RktSXf72o"
      },
      "source": [
        "import pandas as pd\n",
        "import numpy as np\n",
        "import requests\n",
        "import bs4 as bs\n",
        "import urllib.request "
      ],
      "execution_count": 1,
      "outputs": []
    },
    {
      "cell_type": "markdown",
      "metadata": {
        "id": "NTVzls7Kg6fl"
      },
      "source": [
        "**<h1>Extractin features of 2020 movies from wikipedia</h1>**"
      ]
    },
    {
      "cell_type": "code",
      "metadata": {
        "id": "JYawMzD6g3Ia"
      },
      "source": [
        "link = 'https://en.wikipedia.org/wiki/List_of_American_films_of_2020'"
      ],
      "execution_count": 2,
      "outputs": []
    },
    {
      "cell_type": "code",
      "metadata": {
        "id": "fsjb003biPFn"
      },
      "source": [
        "source = urllib.request.urlopen(link).read()\n",
        "soup = bs.BeautifulSoup(source,'lxml')"
      ],
      "execution_count": 3,
      "outputs": []
    },
    {
      "cell_type": "code",
      "metadata": {
        "id": "iERNF9EKkZ6A"
      },
      "source": [
        "tables = soup.find_all('table',class_='wikitable sortable')"
      ],
      "execution_count": 4,
      "outputs": []
    },
    {
      "cell_type": "code",
      "metadata": {
        "id": "imzI7iHKkqWS",
        "outputId": "177f05e8-432e-4295-a2b0-74376267da0e",
        "colab": {
          "base_uri": "https://localhost:8080/",
          "height": 33
        }
      },
      "source": [
        "len(tables)"
      ],
      "execution_count": 5,
      "outputs": [
        {
          "output_type": "execute_result",
          "data": {
            "text/plain": [
              "4"
            ]
          },
          "metadata": {
            "tags": []
          },
          "execution_count": 5
        }
      ]
    },
    {
      "cell_type": "code",
      "metadata": {
        "id": "PbuGOI1Ikw5j",
        "outputId": "cc4802b0-0f79-4505-994d-202f33fb3bcc",
        "colab": {
          "base_uri": "https://localhost:8080/",
          "height": 33
        }
      },
      "source": [
        "type(tables[0])"
      ],
      "execution_count": 6,
      "outputs": [
        {
          "output_type": "execute_result",
          "data": {
            "text/plain": [
              "bs4.element.Tag"
            ]
          },
          "metadata": {
            "tags": []
          },
          "execution_count": 6
        }
      ]
    },
    {
      "cell_type": "code",
      "metadata": {
        "id": "dJdQjW4HlAPh"
      },
      "source": [
        "df1 = pd.read_html(str(tables[0]))[0]\n",
        "df2 = pd.read_html(str(tables[1]))[0]\n",
        "df3 = pd.read_html(str(tables[2]))[0]\n",
        "df4 = pd.read_html(str(tables[3]).replace(\"'1\\\"\\'\",'\"1\"'))[0]"
      ],
      "execution_count": 7,
      "outputs": []
    },
    {
      "cell_type": "code",
      "metadata": {
        "id": "TzdjZ8vwm9GO"
      },
      "source": [
        "df = df1.append( df2.append( df3.append(df4,ignore_index=True) ,ignore_index=True) ,ignore_index=True)"
      ],
      "execution_count": 8,
      "outputs": []
    },
    {
      "cell_type": "code",
      "metadata": {
        "id": "m8S5m3CunPeo",
        "outputId": "5deb7e89-1b03-4323-992a-7281d972842c",
        "colab": {
          "base_uri": "https://localhost:8080/",
          "height": 656
        }
      },
      "source": [
        "df"
      ],
      "execution_count": 9,
      "outputs": [
        {
          "output_type": "execute_result",
          "data": {
            "text/html": [
              "<div>\n",
              "<style scoped>\n",
              "    .dataframe tbody tr th:only-of-type {\n",
              "        vertical-align: middle;\n",
              "    }\n",
              "\n",
              "    .dataframe tbody tr th {\n",
              "        vertical-align: top;\n",
              "    }\n",
              "\n",
              "    .dataframe thead th {\n",
              "        text-align: right;\n",
              "    }\n",
              "</style>\n",
              "<table border=\"1\" class=\"dataframe\">\n",
              "  <thead>\n",
              "    <tr style=\"text-align: right;\">\n",
              "      <th></th>\n",
              "      <th>Opening</th>\n",
              "      <th>Opening.1</th>\n",
              "      <th>Title</th>\n",
              "      <th>Production company</th>\n",
              "      <th>Cast and crew</th>\n",
              "      <th>Ref.</th>\n",
              "    </tr>\n",
              "  </thead>\n",
              "  <tbody>\n",
              "    <tr>\n",
              "      <th>0</th>\n",
              "      <td>JANUARY</td>\n",
              "      <td>3</td>\n",
              "      <td>The Grudge</td>\n",
              "      <td>Screen Gems / Stage 6 Films / Ghost House Pict...</td>\n",
              "      <td>Nicolas Pesce (director/screenplay); Andrea Ri...</td>\n",
              "      <td>[2]</td>\n",
              "    </tr>\n",
              "    <tr>\n",
              "      <th>1</th>\n",
              "      <td>JANUARY</td>\n",
              "      <td>10</td>\n",
              "      <td>Underwater</td>\n",
              "      <td>20th Century Fox / TSG Entertainment / Chernin...</td>\n",
              "      <td>William Eubank (director); Brian Duffield, Ada...</td>\n",
              "      <td>[3]</td>\n",
              "    </tr>\n",
              "    <tr>\n",
              "      <th>2</th>\n",
              "      <td>JANUARY</td>\n",
              "      <td>10</td>\n",
              "      <td>Like a Boss</td>\n",
              "      <td>Paramount Pictures</td>\n",
              "      <td>Miguel Arteta (director); Sam Pitman, Adam Col...</td>\n",
              "      <td>[4]</td>\n",
              "    </tr>\n",
              "    <tr>\n",
              "      <th>3</th>\n",
              "      <td>JANUARY</td>\n",
              "      <td>10</td>\n",
              "      <td>Inherit the Viper</td>\n",
              "      <td>Barry Films / Tycor International Film Company</td>\n",
              "      <td>Anthony Jerjen (director); Andrew Crabtree (sc...</td>\n",
              "      <td>[5]</td>\n",
              "    </tr>\n",
              "    <tr>\n",
              "      <th>4</th>\n",
              "      <td>JANUARY</td>\n",
              "      <td>10</td>\n",
              "      <td>The Sonata</td>\n",
              "      <td>Screen Media Films</td>\n",
              "      <td>Andrew Desmond (director/screenplay); Arthur M...</td>\n",
              "      <td>[6]</td>\n",
              "    </tr>\n",
              "    <tr>\n",
              "      <th>...</th>\n",
              "      <td>...</td>\n",
              "      <td>...</td>\n",
              "      <td>...</td>\n",
              "      <td>...</td>\n",
              "      <td>...</td>\n",
              "      <td>...</td>\n",
              "    </tr>\n",
              "    <tr>\n",
              "      <th>215</th>\n",
              "      <td>DECEMBER</td>\n",
              "      <td>25</td>\n",
              "      <td>News of the World</td>\n",
              "      <td>Universal Pictures</td>\n",
              "      <td>Paul Greengrass (director/screenplay); Luke Da...</td>\n",
              "      <td>[207]</td>\n",
              "    </tr>\n",
              "    <tr>\n",
              "      <th>216</th>\n",
              "      <td>DECEMBER</td>\n",
              "      <td>25</td>\n",
              "      <td>One Night in Miami</td>\n",
              "      <td>Amazon Studios</td>\n",
              "      <td>Regina King (director); Kemp Powers (screenpla...</td>\n",
              "      <td>[208]</td>\n",
              "    </tr>\n",
              "    <tr>\n",
              "      <th>217</th>\n",
              "      <td>DECEMBER</td>\n",
              "      <td>25</td>\n",
              "      <td>Promising Young Woman</td>\n",
              "      <td>Focus Features / FilmNation Entertainment</td>\n",
              "      <td>Emerald Fennell (director/screenplay); Carey M...</td>\n",
              "      <td>[209]</td>\n",
              "    </tr>\n",
              "    <tr>\n",
              "      <th>218</th>\n",
              "      <td>DECEMBER</td>\n",
              "      <td>25</td>\n",
              "      <td>Sylvie's Love</td>\n",
              "      <td>Amazon Studios</td>\n",
              "      <td>Eugene Ashe (director/screenplay); Tessa Thomp...</td>\n",
              "      <td>[210]</td>\n",
              "    </tr>\n",
              "    <tr>\n",
              "      <th>219</th>\n",
              "      <td>DECEMBER</td>\n",
              "      <td>30</td>\n",
              "      <td>Monster Hunter</td>\n",
              "      <td>Screen Gems / Constantin Film / Tencent Pictur...</td>\n",
              "      <td>Paul W. S. Anderson (director/screenplay); Mil...</td>\n",
              "      <td>[211]</td>\n",
              "    </tr>\n",
              "  </tbody>\n",
              "</table>\n",
              "<p>220 rows × 6 columns</p>\n",
              "</div>"
            ],
            "text/plain": [
              "      Opening  ...   Ref.\n",
              "0     JANUARY  ...    [2]\n",
              "1     JANUARY  ...    [3]\n",
              "2     JANUARY  ...    [4]\n",
              "3     JANUARY  ...    [5]\n",
              "4     JANUARY  ...    [6]\n",
              "..        ...  ...    ...\n",
              "215  DECEMBER  ...  [207]\n",
              "216  DECEMBER  ...  [208]\n",
              "217  DECEMBER  ...  [209]\n",
              "218  DECEMBER  ...  [210]\n",
              "219  DECEMBER  ...  [211]\n",
              "\n",
              "[220 rows x 6 columns]"
            ]
          },
          "metadata": {
            "tags": []
          },
          "execution_count": 9
        }
      ]
    },
    {
      "cell_type": "code",
      "metadata": {
        "id": "1OrHOud9nWig"
      },
      "source": [
        "df_2020 = df[['Title','Cast and crew']]\n",
        "# df_2020 = df[['Title','Cast and crew']][142:146]"
      ],
      "execution_count": 10,
      "outputs": []
    },
    {
      "cell_type": "code",
      "metadata": {
        "id": "eR87MmPanpSg",
        "outputId": "89cbeea3-db24-448b-92eb-588a006d409c",
        "colab": {
          "base_uri": "https://localhost:8080/",
          "height": 406
        }
      },
      "source": [
        "df_2020"
      ],
      "execution_count": 11,
      "outputs": [
        {
          "output_type": "execute_result",
          "data": {
            "text/html": [
              "<div>\n",
              "<style scoped>\n",
              "    .dataframe tbody tr th:only-of-type {\n",
              "        vertical-align: middle;\n",
              "    }\n",
              "\n",
              "    .dataframe tbody tr th {\n",
              "        vertical-align: top;\n",
              "    }\n",
              "\n",
              "    .dataframe thead th {\n",
              "        text-align: right;\n",
              "    }\n",
              "</style>\n",
              "<table border=\"1\" class=\"dataframe\">\n",
              "  <thead>\n",
              "    <tr style=\"text-align: right;\">\n",
              "      <th></th>\n",
              "      <th>Title</th>\n",
              "      <th>Cast and crew</th>\n",
              "    </tr>\n",
              "  </thead>\n",
              "  <tbody>\n",
              "    <tr>\n",
              "      <th>0</th>\n",
              "      <td>The Grudge</td>\n",
              "      <td>Nicolas Pesce (director/screenplay); Andrea Ri...</td>\n",
              "    </tr>\n",
              "    <tr>\n",
              "      <th>1</th>\n",
              "      <td>Underwater</td>\n",
              "      <td>William Eubank (director); Brian Duffield, Ada...</td>\n",
              "    </tr>\n",
              "    <tr>\n",
              "      <th>2</th>\n",
              "      <td>Like a Boss</td>\n",
              "      <td>Miguel Arteta (director); Sam Pitman, Adam Col...</td>\n",
              "    </tr>\n",
              "    <tr>\n",
              "      <th>3</th>\n",
              "      <td>Inherit the Viper</td>\n",
              "      <td>Anthony Jerjen (director); Andrew Crabtree (sc...</td>\n",
              "    </tr>\n",
              "    <tr>\n",
              "      <th>4</th>\n",
              "      <td>The Sonata</td>\n",
              "      <td>Andrew Desmond (director/screenplay); Arthur M...</td>\n",
              "    </tr>\n",
              "    <tr>\n",
              "      <th>...</th>\n",
              "      <td>...</td>\n",
              "      <td>...</td>\n",
              "    </tr>\n",
              "    <tr>\n",
              "      <th>215</th>\n",
              "      <td>News of the World</td>\n",
              "      <td>Paul Greengrass (director/screenplay); Luke Da...</td>\n",
              "    </tr>\n",
              "    <tr>\n",
              "      <th>216</th>\n",
              "      <td>One Night in Miami</td>\n",
              "      <td>Regina King (director); Kemp Powers (screenpla...</td>\n",
              "    </tr>\n",
              "    <tr>\n",
              "      <th>217</th>\n",
              "      <td>Promising Young Woman</td>\n",
              "      <td>Emerald Fennell (director/screenplay); Carey M...</td>\n",
              "    </tr>\n",
              "    <tr>\n",
              "      <th>218</th>\n",
              "      <td>Sylvie's Love</td>\n",
              "      <td>Eugene Ashe (director/screenplay); Tessa Thomp...</td>\n",
              "    </tr>\n",
              "    <tr>\n",
              "      <th>219</th>\n",
              "      <td>Monster Hunter</td>\n",
              "      <td>Paul W. S. Anderson (director/screenplay); Mil...</td>\n",
              "    </tr>\n",
              "  </tbody>\n",
              "</table>\n",
              "<p>220 rows × 2 columns</p>\n",
              "</div>"
            ],
            "text/plain": [
              "                     Title                                      Cast and crew\n",
              "0               The Grudge  Nicolas Pesce (director/screenplay); Andrea Ri...\n",
              "1               Underwater  William Eubank (director); Brian Duffield, Ada...\n",
              "2              Like a Boss  Miguel Arteta (director); Sam Pitman, Adam Col...\n",
              "3        Inherit the Viper  Anthony Jerjen (director); Andrew Crabtree (sc...\n",
              "4               The Sonata  Andrew Desmond (director/screenplay); Arthur M...\n",
              "..                     ...                                                ...\n",
              "215      News of the World  Paul Greengrass (director/screenplay); Luke Da...\n",
              "216     One Night in Miami  Regina King (director); Kemp Powers (screenpla...\n",
              "217  Promising Young Woman  Emerald Fennell (director/screenplay); Carey M...\n",
              "218          Sylvie's Love  Eugene Ashe (director/screenplay); Tessa Thomp...\n",
              "219         Monster Hunter  Paul W. S. Anderson (director/screenplay); Mil...\n",
              "\n",
              "[220 rows x 2 columns]"
            ]
          },
          "metadata": {
            "tags": []
          },
          "execution_count": 11
        }
      ]
    },
    {
      "cell_type": "code",
      "metadata": {
        "id": "Rbn6VQZLogJC",
        "outputId": "57be9fee-868e-4716-8e5d-3b917169c12a",
        "colab": {
          "base_uri": "https://localhost:8080/",
          "height": 186
        }
      },
      "source": [
        "!pip install tmdbv3api"
      ],
      "execution_count": 12,
      "outputs": [
        {
          "output_type": "stream",
          "text": [
            "Collecting tmdbv3api\n",
            "  Downloading https://files.pythonhosted.org/packages/3e/03/e7ae6cb2777876f8d412e45c74abc639c77e1c91a97d73a99d542f4c43b0/tmdbv3api-1.6.2-py2.py3-none-any.whl\n",
            "Requirement already satisfied: requests in /usr/local/lib/python3.6/dist-packages (from tmdbv3api) (2.23.0)\n",
            "Requirement already satisfied: urllib3!=1.25.0,!=1.25.1,<1.26,>=1.21.1 in /usr/local/lib/python3.6/dist-packages (from requests->tmdbv3api) (1.24.3)\n",
            "Requirement already satisfied: certifi>=2017.4.17 in /usr/local/lib/python3.6/dist-packages (from requests->tmdbv3api) (2020.6.20)\n",
            "Requirement already satisfied: chardet<4,>=3.0.2 in /usr/local/lib/python3.6/dist-packages (from requests->tmdbv3api) (3.0.4)\n",
            "Requirement already satisfied: idna<3,>=2.5 in /usr/local/lib/python3.6/dist-packages (from requests->tmdbv3api) (2.10)\n",
            "Installing collected packages: tmdbv3api\n",
            "Successfully installed tmdbv3api-1.6.2\n"
          ],
          "name": "stdout"
        }
      ]
    },
    {
      "cell_type": "code",
      "metadata": {
        "id": "iyonmxP1nsA0"
      },
      "source": [
        "from tmdbv3api import TMDb\n",
        "import json\n",
        "import requests\n",
        "tmdb = TMDb()\n",
        "tmdb.api_key='5492165c61b1a21c06eb3a3b578a6339'"
      ],
      "execution_count": 13,
      "outputs": []
    },
    {
      "cell_type": "code",
      "metadata": {
        "id": "O27MqMlbvVwY"
      },
      "source": [
        "from tmdbv3api import Movie\n",
        "tmdb_movie = Movie()"
      ],
      "execution_count": 14,
      "outputs": []
    },
    {
      "cell_type": "code",
      "metadata": {
        "id": "KUSl45T7vm_3"
      },
      "source": [
        "# def get_genre(y):\n",
        "#     x=str(y)\n",
        "#     genres = []\n",
        "#     result = tmdb_movie.search(x)\n",
        "#     movie_id = result[0].id\n",
        "#     response = requests.get('https://api.themoviedb.org/3/movie/{}?api_key={}'.format(movie_id,tmdb.api_key))\n",
        "#     data_json = response.json()\n",
        "#     if data_json['genres']:\n",
        "#         genre_str = \" \" \n",
        "#         for i in range(0,len(data_json['genres'])):\n",
        "#             genres.append(data_json['genres'][i]['name'])\n",
        "#         return genre_str.join(genres)\n",
        "#     else:\n",
        "#         np.NaN\n",
        "\n",
        "#     return data_json"
      ],
      "execution_count": 15,
      "outputs": []
    },
    {
      "cell_type": "code",
      "metadata": {
        "id": "hTmDPfbpVkz7"
      },
      "source": [
        "# def get_genre(y):\n",
        "#     x=str(y)\n",
        "#     genres = []\n",
        "#     result = tmdb_movie.search(x)\n",
        "#     movie_id = result[0].id\n",
        "#     response = requests.get('https://api.themoviedb.org/3/movie/{}?api_key={}'.format(movie_id,tmdb.api_key))\n",
        "#     data_json = response.json()\n",
        "#     if data_json['genres']:\n",
        "#         genre_str = \" \" \n",
        "#         for i in range(0,len(data_json['genres'])):\n",
        "#             genres.append(data_json['genres'][i]['name'])\n",
        "#         genre_list = str(genres)\n",
        "#         return genre_list\n",
        "# #         return genre_str.join(genre_list)\n",
        "#     else:\n",
        "#         np.NaN"
      ],
      "execution_count": 16,
      "outputs": []
    },
    {
      "cell_type": "code",
      "metadata": {
        "id": "PNC5jxubB52y"
      },
      "source": [
        "# This is the valid\n",
        "def get_genre(y):\n",
        "    x=str(y)\n",
        "    genres = []\n",
        "    result = tmdb_movie.search(x)     # Finds all titles that include x, \n",
        "    if str(result) != \"[]\":\n",
        "      movie_id = result[0].id           # the first coincides with x\n",
        "\n",
        "      response = requests.get('https://api.themoviedb.org/3/movie/{}?api_key={}'.format(movie_id,tmdb.api_key))\n",
        "      data_json = response.json()\n",
        "\n",
        "      if data_json['genres']:\n",
        "          genre_str = \" \" \n",
        "          for i in range(0,len(data_json['genres'])):\n",
        "              genres.append(data_json['genres'][i]['name'])\n",
        "          return genre_str.join(genres)\n",
        "      # else:\n",
        "      #   return np.NaN\n",
        "\n",
        "    else:     \n",
        "      return np.NaN"
      ],
      "execution_count": 17,
      "outputs": []
    },
    {
      "cell_type": "code",
      "metadata": {
        "id": "JpwwY8e3wX1R",
        "outputId": "d2c032ee-2b82-40ff-af1e-ea6f5884f74e",
        "colab": {
          "base_uri": "https://localhost:8080/",
          "height": 593
        }
      },
      "source": [
        "df_2020['genres'] = df_2020['Title'].map(lambda x: get_genre(x))\n",
        "# df_2020['genres'][0]\n",
        "df_2020"
      ],
      "execution_count": 18,
      "outputs": [
        {
          "output_type": "stream",
          "text": [
            "/usr/local/lib/python3.6/dist-packages/ipykernel_launcher.py:1: SettingWithCopyWarning: \n",
            "A value is trying to be set on a copy of a slice from a DataFrame.\n",
            "Try using .loc[row_indexer,col_indexer] = value instead\n",
            "\n",
            "See the caveats in the documentation: https://pandas.pydata.org/pandas-docs/stable/user_guide/indexing.html#returning-a-view-versus-a-copy\n",
            "  \"\"\"Entry point for launching an IPython kernel.\n"
          ],
          "name": "stderr"
        },
        {
          "output_type": "execute_result",
          "data": {
            "text/html": [
              "<div>\n",
              "<style scoped>\n",
              "    .dataframe tbody tr th:only-of-type {\n",
              "        vertical-align: middle;\n",
              "    }\n",
              "\n",
              "    .dataframe tbody tr th {\n",
              "        vertical-align: top;\n",
              "    }\n",
              "\n",
              "    .dataframe thead th {\n",
              "        text-align: right;\n",
              "    }\n",
              "</style>\n",
              "<table border=\"1\" class=\"dataframe\">\n",
              "  <thead>\n",
              "    <tr style=\"text-align: right;\">\n",
              "      <th></th>\n",
              "      <th>Title</th>\n",
              "      <th>Cast and crew</th>\n",
              "      <th>genres</th>\n",
              "    </tr>\n",
              "  </thead>\n",
              "  <tbody>\n",
              "    <tr>\n",
              "      <th>0</th>\n",
              "      <td>The Grudge</td>\n",
              "      <td>Nicolas Pesce (director/screenplay); Andrea Ri...</td>\n",
              "      <td>Horror Mystery</td>\n",
              "    </tr>\n",
              "    <tr>\n",
              "      <th>1</th>\n",
              "      <td>Underwater</td>\n",
              "      <td>William Eubank (director); Brian Duffield, Ada...</td>\n",
              "      <td>Action Horror Science Fiction Thriller</td>\n",
              "    </tr>\n",
              "    <tr>\n",
              "      <th>2</th>\n",
              "      <td>Like a Boss</td>\n",
              "      <td>Miguel Arteta (director); Sam Pitman, Adam Col...</td>\n",
              "      <td>Comedy</td>\n",
              "    </tr>\n",
              "    <tr>\n",
              "      <th>3</th>\n",
              "      <td>Inherit the Viper</td>\n",
              "      <td>Anthony Jerjen (director); Andrew Crabtree (sc...</td>\n",
              "      <td>Drama Thriller Crime</td>\n",
              "    </tr>\n",
              "    <tr>\n",
              "      <th>4</th>\n",
              "      <td>The Sonata</td>\n",
              "      <td>Andrew Desmond (director/screenplay); Arthur M...</td>\n",
              "      <td>Horror Thriller Mystery</td>\n",
              "    </tr>\n",
              "    <tr>\n",
              "      <th>...</th>\n",
              "      <td>...</td>\n",
              "      <td>...</td>\n",
              "      <td>...</td>\n",
              "    </tr>\n",
              "    <tr>\n",
              "      <th>215</th>\n",
              "      <td>News of the World</td>\n",
              "      <td>Paul Greengrass (director/screenplay); Luke Da...</td>\n",
              "      <td>Drama Western</td>\n",
              "    </tr>\n",
              "    <tr>\n",
              "      <th>216</th>\n",
              "      <td>One Night in Miami</td>\n",
              "      <td>Regina King (director); Kemp Powers (screenpla...</td>\n",
              "      <td>Drama</td>\n",
              "    </tr>\n",
              "    <tr>\n",
              "      <th>217</th>\n",
              "      <td>Promising Young Woman</td>\n",
              "      <td>Emerald Fennell (director/screenplay); Carey M...</td>\n",
              "      <td>Thriller Crime Drama</td>\n",
              "    </tr>\n",
              "    <tr>\n",
              "      <th>218</th>\n",
              "      <td>Sylvie's Love</td>\n",
              "      <td>Eugene Ashe (director/screenplay); Tessa Thomp...</td>\n",
              "      <td>Drama</td>\n",
              "    </tr>\n",
              "    <tr>\n",
              "      <th>219</th>\n",
              "      <td>Monster Hunter</td>\n",
              "      <td>Paul W. S. Anderson (director/screenplay); Mil...</td>\n",
              "      <td>Fantasy Action Adventure</td>\n",
              "    </tr>\n",
              "  </tbody>\n",
              "</table>\n",
              "<p>220 rows × 3 columns</p>\n",
              "</div>"
            ],
            "text/plain": [
              "                     Title  ...                                  genres\n",
              "0               The Grudge  ...                          Horror Mystery\n",
              "1               Underwater  ...  Action Horror Science Fiction Thriller\n",
              "2              Like a Boss  ...                                  Comedy\n",
              "3        Inherit the Viper  ...                    Drama Thriller Crime\n",
              "4               The Sonata  ...                 Horror Thriller Mystery\n",
              "..                     ...  ...                                     ...\n",
              "215      News of the World  ...                           Drama Western\n",
              "216     One Night in Miami  ...                                   Drama\n",
              "217  Promising Young Woman  ...                    Thriller Crime Drama\n",
              "218          Sylvie's Love  ...                                   Drama\n",
              "219         Monster Hunter  ...                Fantasy Action Adventure\n",
              "\n",
              "[220 rows x 3 columns]"
            ]
          },
          "metadata": {
            "tags": []
          },
          "execution_count": 18
        }
      ]
    },
    {
      "cell_type": "code",
      "metadata": {
        "id": "tMcyrTWgVG0u"
      },
      "source": [
        "# def list_to_string(x):\n",
        "#   if x:\n",
        "#     return x.replace(',','').replace('[','').replace(']','').replace(\"'\",'')\n",
        "#   else:\n",
        "#     return np.NaN"
      ],
      "execution_count": 19,
      "outputs": []
    },
    {
      "cell_type": "code",
      "metadata": {
        "id": "A6xmRvcrnq1R"
      },
      "source": [
        "# df_2020['genres'] = df_2020['genres'].map(lambda x: list_to_string(x))"
      ],
      "execution_count": 20,
      "outputs": []
    },
    {
      "cell_type": "code",
      "metadata": {
        "id": "OSCuXUproEhw",
        "outputId": "d9e0bd55-bd54-4348-e392-93f38f69fddf",
        "colab": {
          "base_uri": "https://localhost:8080/",
          "height": 473
        }
      },
      "source": [
        "df_2020"
      ],
      "execution_count": 21,
      "outputs": [
        {
          "output_type": "execute_result",
          "data": {
            "text/html": [
              "<div>\n",
              "<style scoped>\n",
              "    .dataframe tbody tr th:only-of-type {\n",
              "        vertical-align: middle;\n",
              "    }\n",
              "\n",
              "    .dataframe tbody tr th {\n",
              "        vertical-align: top;\n",
              "    }\n",
              "\n",
              "    .dataframe thead th {\n",
              "        text-align: right;\n",
              "    }\n",
              "</style>\n",
              "<table border=\"1\" class=\"dataframe\">\n",
              "  <thead>\n",
              "    <tr style=\"text-align: right;\">\n",
              "      <th></th>\n",
              "      <th>Title</th>\n",
              "      <th>Cast and crew</th>\n",
              "      <th>genres</th>\n",
              "    </tr>\n",
              "  </thead>\n",
              "  <tbody>\n",
              "    <tr>\n",
              "      <th>0</th>\n",
              "      <td>The Grudge</td>\n",
              "      <td>Nicolas Pesce (director/screenplay); Andrea Ri...</td>\n",
              "      <td>Horror Mystery</td>\n",
              "    </tr>\n",
              "    <tr>\n",
              "      <th>1</th>\n",
              "      <td>Underwater</td>\n",
              "      <td>William Eubank (director); Brian Duffield, Ada...</td>\n",
              "      <td>Action Horror Science Fiction Thriller</td>\n",
              "    </tr>\n",
              "    <tr>\n",
              "      <th>2</th>\n",
              "      <td>Like a Boss</td>\n",
              "      <td>Miguel Arteta (director); Sam Pitman, Adam Col...</td>\n",
              "      <td>Comedy</td>\n",
              "    </tr>\n",
              "    <tr>\n",
              "      <th>3</th>\n",
              "      <td>Inherit the Viper</td>\n",
              "      <td>Anthony Jerjen (director); Andrew Crabtree (sc...</td>\n",
              "      <td>Drama Thriller Crime</td>\n",
              "    </tr>\n",
              "    <tr>\n",
              "      <th>4</th>\n",
              "      <td>The Sonata</td>\n",
              "      <td>Andrew Desmond (director/screenplay); Arthur M...</td>\n",
              "      <td>Horror Thriller Mystery</td>\n",
              "    </tr>\n",
              "    <tr>\n",
              "      <th>...</th>\n",
              "      <td>...</td>\n",
              "      <td>...</td>\n",
              "      <td>...</td>\n",
              "    </tr>\n",
              "    <tr>\n",
              "      <th>215</th>\n",
              "      <td>News of the World</td>\n",
              "      <td>Paul Greengrass (director/screenplay); Luke Da...</td>\n",
              "      <td>Drama Western</td>\n",
              "    </tr>\n",
              "    <tr>\n",
              "      <th>216</th>\n",
              "      <td>One Night in Miami</td>\n",
              "      <td>Regina King (director); Kemp Powers (screenpla...</td>\n",
              "      <td>Drama</td>\n",
              "    </tr>\n",
              "    <tr>\n",
              "      <th>217</th>\n",
              "      <td>Promising Young Woman</td>\n",
              "      <td>Emerald Fennell (director/screenplay); Carey M...</td>\n",
              "      <td>Thriller Crime Drama</td>\n",
              "    </tr>\n",
              "    <tr>\n",
              "      <th>218</th>\n",
              "      <td>Sylvie's Love</td>\n",
              "      <td>Eugene Ashe (director/screenplay); Tessa Thomp...</td>\n",
              "      <td>Drama</td>\n",
              "    </tr>\n",
              "    <tr>\n",
              "      <th>219</th>\n",
              "      <td>Monster Hunter</td>\n",
              "      <td>Paul W. S. Anderson (director/screenplay); Mil...</td>\n",
              "      <td>Fantasy Action Adventure</td>\n",
              "    </tr>\n",
              "  </tbody>\n",
              "</table>\n",
              "<p>220 rows × 3 columns</p>\n",
              "</div>"
            ],
            "text/plain": [
              "                     Title  ...                                  genres\n",
              "0               The Grudge  ...                          Horror Mystery\n",
              "1               Underwater  ...  Action Horror Science Fiction Thriller\n",
              "2              Like a Boss  ...                                  Comedy\n",
              "3        Inherit the Viper  ...                    Drama Thriller Crime\n",
              "4               The Sonata  ...                 Horror Thriller Mystery\n",
              "..                     ...  ...                                     ...\n",
              "215      News of the World  ...                           Drama Western\n",
              "216     One Night in Miami  ...                                   Drama\n",
              "217  Promising Young Woman  ...                    Thriller Crime Drama\n",
              "218          Sylvie's Love  ...                                   Drama\n",
              "219         Monster Hunter  ...                Fantasy Action Adventure\n",
              "\n",
              "[220 rows x 3 columns]"
            ]
          },
          "metadata": {
            "tags": []
          },
          "execution_count": 21
        }
      ]
    },
    {
      "cell_type": "code",
      "metadata": {
        "id": "mf29tIOPqjoN"
      },
      "source": [
        "def get_director(x):\n",
        "  if \" (director)\" in x:\n",
        "    return x.split(\" (director)\")[0]\n",
        "  elif \" (directors)\" in x:\n",
        "    return x.split(\" (directors)\")[0]\n",
        "  else:\n",
        "    return x.split(\"(director/screenplay)\")[0]"
      ],
      "execution_count": 22,
      "outputs": []
    },
    {
      "cell_type": "code",
      "metadata": {
        "id": "ngzZkEozqkUA",
        "outputId": "54cc1b67-6256-4c53-90ba-3fa87f2219ce",
        "colab": {
          "base_uri": "https://localhost:8080/",
          "height": 693
        }
      },
      "source": [
        "df_2020['director_name'] = df['Cast and crew'].map(lambda x: get_director(x))\n",
        "df_2020"
      ],
      "execution_count": 23,
      "outputs": [
        {
          "output_type": "stream",
          "text": [
            "/usr/local/lib/python3.6/dist-packages/ipykernel_launcher.py:1: SettingWithCopyWarning: \n",
            "A value is trying to be set on a copy of a slice from a DataFrame.\n",
            "Try using .loc[row_indexer,col_indexer] = value instead\n",
            "\n",
            "See the caveats in the documentation: https://pandas.pydata.org/pandas-docs/stable/user_guide/indexing.html#returning-a-view-versus-a-copy\n",
            "  \"\"\"Entry point for launching an IPython kernel.\n"
          ],
          "name": "stderr"
        },
        {
          "output_type": "execute_result",
          "data": {
            "text/html": [
              "<div>\n",
              "<style scoped>\n",
              "    .dataframe tbody tr th:only-of-type {\n",
              "        vertical-align: middle;\n",
              "    }\n",
              "\n",
              "    .dataframe tbody tr th {\n",
              "        vertical-align: top;\n",
              "    }\n",
              "\n",
              "    .dataframe thead th {\n",
              "        text-align: right;\n",
              "    }\n",
              "</style>\n",
              "<table border=\"1\" class=\"dataframe\">\n",
              "  <thead>\n",
              "    <tr style=\"text-align: right;\">\n",
              "      <th></th>\n",
              "      <th>Title</th>\n",
              "      <th>Cast and crew</th>\n",
              "      <th>genres</th>\n",
              "      <th>director_name</th>\n",
              "    </tr>\n",
              "  </thead>\n",
              "  <tbody>\n",
              "    <tr>\n",
              "      <th>0</th>\n",
              "      <td>The Grudge</td>\n",
              "      <td>Nicolas Pesce (director/screenplay); Andrea Ri...</td>\n",
              "      <td>Horror Mystery</td>\n",
              "      <td>Nicolas Pesce</td>\n",
              "    </tr>\n",
              "    <tr>\n",
              "      <th>1</th>\n",
              "      <td>Underwater</td>\n",
              "      <td>William Eubank (director); Brian Duffield, Ada...</td>\n",
              "      <td>Action Horror Science Fiction Thriller</td>\n",
              "      <td>William Eubank</td>\n",
              "    </tr>\n",
              "    <tr>\n",
              "      <th>2</th>\n",
              "      <td>Like a Boss</td>\n",
              "      <td>Miguel Arteta (director); Sam Pitman, Adam Col...</td>\n",
              "      <td>Comedy</td>\n",
              "      <td>Miguel Arteta</td>\n",
              "    </tr>\n",
              "    <tr>\n",
              "      <th>3</th>\n",
              "      <td>Inherit the Viper</td>\n",
              "      <td>Anthony Jerjen (director); Andrew Crabtree (sc...</td>\n",
              "      <td>Drama Thriller Crime</td>\n",
              "      <td>Anthony Jerjen</td>\n",
              "    </tr>\n",
              "    <tr>\n",
              "      <th>4</th>\n",
              "      <td>The Sonata</td>\n",
              "      <td>Andrew Desmond (director/screenplay); Arthur M...</td>\n",
              "      <td>Horror Thriller Mystery</td>\n",
              "      <td>Andrew Desmond</td>\n",
              "    </tr>\n",
              "    <tr>\n",
              "      <th>...</th>\n",
              "      <td>...</td>\n",
              "      <td>...</td>\n",
              "      <td>...</td>\n",
              "      <td>...</td>\n",
              "    </tr>\n",
              "    <tr>\n",
              "      <th>215</th>\n",
              "      <td>News of the World</td>\n",
              "      <td>Paul Greengrass (director/screenplay); Luke Da...</td>\n",
              "      <td>Drama Western</td>\n",
              "      <td>Paul Greengrass</td>\n",
              "    </tr>\n",
              "    <tr>\n",
              "      <th>216</th>\n",
              "      <td>One Night in Miami</td>\n",
              "      <td>Regina King (director); Kemp Powers (screenpla...</td>\n",
              "      <td>Drama</td>\n",
              "      <td>Regina King</td>\n",
              "    </tr>\n",
              "    <tr>\n",
              "      <th>217</th>\n",
              "      <td>Promising Young Woman</td>\n",
              "      <td>Emerald Fennell (director/screenplay); Carey M...</td>\n",
              "      <td>Thriller Crime Drama</td>\n",
              "      <td>Emerald Fennell</td>\n",
              "    </tr>\n",
              "    <tr>\n",
              "      <th>218</th>\n",
              "      <td>Sylvie's Love</td>\n",
              "      <td>Eugene Ashe (director/screenplay); Tessa Thomp...</td>\n",
              "      <td>Drama</td>\n",
              "      <td>Eugene Ashe</td>\n",
              "    </tr>\n",
              "    <tr>\n",
              "      <th>219</th>\n",
              "      <td>Monster Hunter</td>\n",
              "      <td>Paul W. S. Anderson (director/screenplay); Mil...</td>\n",
              "      <td>Fantasy Action Adventure</td>\n",
              "      <td>Paul W. S. Anderson</td>\n",
              "    </tr>\n",
              "  </tbody>\n",
              "</table>\n",
              "<p>220 rows × 4 columns</p>\n",
              "</div>"
            ],
            "text/plain": [
              "                     Title  ...         director_name\n",
              "0               The Grudge  ...        Nicolas Pesce \n",
              "1               Underwater  ...        William Eubank\n",
              "2              Like a Boss  ...         Miguel Arteta\n",
              "3        Inherit the Viper  ...        Anthony Jerjen\n",
              "4               The Sonata  ...       Andrew Desmond \n",
              "..                     ...  ...                   ...\n",
              "215      News of the World  ...      Paul Greengrass \n",
              "216     One Night in Miami  ...           Regina King\n",
              "217  Promising Young Woman  ...      Emerald Fennell \n",
              "218          Sylvie's Love  ...          Eugene Ashe \n",
              "219         Monster Hunter  ...  Paul W. S. Anderson \n",
              "\n",
              "[220 rows x 4 columns]"
            ]
          },
          "metadata": {
            "tags": []
          },
          "execution_count": 23
        }
      ]
    },
    {
      "cell_type": "code",
      "metadata": {
        "id": "WoFbQJTjqkcu",
        "outputId": "596bf035-03a0-43aa-f2b7-65e6b79508db",
        "colab": {
          "base_uri": "https://localhost:8080/",
          "height": 51
        }
      },
      "source": [
        "df_2020['Cast and crew'][0]  "
      ],
      "execution_count": 24,
      "outputs": [
        {
          "output_type": "execute_result",
          "data": {
            "application/vnd.google.colaboratory.intrinsic+json": {
              "type": "string"
            },
            "text/plain": [
              "'Nicolas Pesce (director/screenplay); Andrea Riseborough, Demián Bichir, John Cho, Betty Gilpin, Lin Shaye, Jacki Weaver'"
            ]
          },
          "metadata": {
            "tags": []
          },
          "execution_count": 24
        }
      ]
    },
    {
      "cell_type": "code",
      "metadata": {
        "id": "rKetvQ08qkjm"
      },
      "source": [
        "def get_actorN(x,N):\n",
        "  if \"(screenplay); \" in x:\n",
        "    if len( (x.split(\"(screenplay); \")[1]).split(\", \") ) >= N:\n",
        "      return (x.split(\"(screenplay); \")[1]).split(\", \")[N-1]\n",
        "    else:\n",
        "      return np.NaN\n",
        "  elif \"/screenplay); \" in x:\n",
        "    if len( (x.split(\"/screenplay); \")[1]).split(\", \") ) >= N:\n",
        "      return (x.split(\"/screenplay); \")[1]).split(\", \")[N-1]\n",
        "    else:\n",
        "      return np.NaN    \n",
        "  else:\n",
        "    return np.NaN"
      ],
      "execution_count": 25,
      "outputs": []
    },
    {
      "cell_type": "code",
      "metadata": {
        "id": "BQLzzTulqkp7",
        "outputId": "943a0e0f-51c2-433a-860b-430ab9af9a6b",
        "colab": {
          "base_uri": "https://localhost:8080/",
          "height": 710
        }
      },
      "source": [
        "df_2020['actor_1_name'] = df_2020['Cast and crew'].map(lambda x: get_actorN(x,1))\n",
        "df_2020"
      ],
      "execution_count": 26,
      "outputs": [
        {
          "output_type": "stream",
          "text": [
            "/usr/local/lib/python3.6/dist-packages/ipykernel_launcher.py:1: SettingWithCopyWarning: \n",
            "A value is trying to be set on a copy of a slice from a DataFrame.\n",
            "Try using .loc[row_indexer,col_indexer] = value instead\n",
            "\n",
            "See the caveats in the documentation: https://pandas.pydata.org/pandas-docs/stable/user_guide/indexing.html#returning-a-view-versus-a-copy\n",
            "  \"\"\"Entry point for launching an IPython kernel.\n"
          ],
          "name": "stderr"
        },
        {
          "output_type": "execute_result",
          "data": {
            "text/html": [
              "<div>\n",
              "<style scoped>\n",
              "    .dataframe tbody tr th:only-of-type {\n",
              "        vertical-align: middle;\n",
              "    }\n",
              "\n",
              "    .dataframe tbody tr th {\n",
              "        vertical-align: top;\n",
              "    }\n",
              "\n",
              "    .dataframe thead th {\n",
              "        text-align: right;\n",
              "    }\n",
              "</style>\n",
              "<table border=\"1\" class=\"dataframe\">\n",
              "  <thead>\n",
              "    <tr style=\"text-align: right;\">\n",
              "      <th></th>\n",
              "      <th>Title</th>\n",
              "      <th>Cast and crew</th>\n",
              "      <th>genres</th>\n",
              "      <th>director_name</th>\n",
              "      <th>actor_1_name</th>\n",
              "    </tr>\n",
              "  </thead>\n",
              "  <tbody>\n",
              "    <tr>\n",
              "      <th>0</th>\n",
              "      <td>The Grudge</td>\n",
              "      <td>Nicolas Pesce (director/screenplay); Andrea Ri...</td>\n",
              "      <td>Horror Mystery</td>\n",
              "      <td>Nicolas Pesce</td>\n",
              "      <td>Andrea Riseborough</td>\n",
              "    </tr>\n",
              "    <tr>\n",
              "      <th>1</th>\n",
              "      <td>Underwater</td>\n",
              "      <td>William Eubank (director); Brian Duffield, Ada...</td>\n",
              "      <td>Action Horror Science Fiction Thriller</td>\n",
              "      <td>William Eubank</td>\n",
              "      <td>Kristen Stewart</td>\n",
              "    </tr>\n",
              "    <tr>\n",
              "      <th>2</th>\n",
              "      <td>Like a Boss</td>\n",
              "      <td>Miguel Arteta (director); Sam Pitman, Adam Col...</td>\n",
              "      <td>Comedy</td>\n",
              "      <td>Miguel Arteta</td>\n",
              "      <td>Tiffany Haddish</td>\n",
              "    </tr>\n",
              "    <tr>\n",
              "      <th>3</th>\n",
              "      <td>Inherit the Viper</td>\n",
              "      <td>Anthony Jerjen (director); Andrew Crabtree (sc...</td>\n",
              "      <td>Drama Thriller Crime</td>\n",
              "      <td>Anthony Jerjen</td>\n",
              "      <td>Josh Hartnett</td>\n",
              "    </tr>\n",
              "    <tr>\n",
              "      <th>4</th>\n",
              "      <td>The Sonata</td>\n",
              "      <td>Andrew Desmond (director/screenplay); Arthur M...</td>\n",
              "      <td>Horror Thriller Mystery</td>\n",
              "      <td>Andrew Desmond</td>\n",
              "      <td>Freya Tingley</td>\n",
              "    </tr>\n",
              "    <tr>\n",
              "      <th>...</th>\n",
              "      <td>...</td>\n",
              "      <td>...</td>\n",
              "      <td>...</td>\n",
              "      <td>...</td>\n",
              "      <td>...</td>\n",
              "    </tr>\n",
              "    <tr>\n",
              "      <th>215</th>\n",
              "      <td>News of the World</td>\n",
              "      <td>Paul Greengrass (director/screenplay); Luke Da...</td>\n",
              "      <td>Drama Western</td>\n",
              "      <td>Paul Greengrass</td>\n",
              "      <td>Tom Hanks</td>\n",
              "    </tr>\n",
              "    <tr>\n",
              "      <th>216</th>\n",
              "      <td>One Night in Miami</td>\n",
              "      <td>Regina King (director); Kemp Powers (screenpla...</td>\n",
              "      <td>Drama</td>\n",
              "      <td>Regina King</td>\n",
              "      <td>Kingsley Ben-Adir</td>\n",
              "    </tr>\n",
              "    <tr>\n",
              "      <th>217</th>\n",
              "      <td>Promising Young Woman</td>\n",
              "      <td>Emerald Fennell (director/screenplay); Carey M...</td>\n",
              "      <td>Thriller Crime Drama</td>\n",
              "      <td>Emerald Fennell</td>\n",
              "      <td>Carey Mulligan</td>\n",
              "    </tr>\n",
              "    <tr>\n",
              "      <th>218</th>\n",
              "      <td>Sylvie's Love</td>\n",
              "      <td>Eugene Ashe (director/screenplay); Tessa Thomp...</td>\n",
              "      <td>Drama</td>\n",
              "      <td>Eugene Ashe</td>\n",
              "      <td>Tessa Thompson</td>\n",
              "    </tr>\n",
              "    <tr>\n",
              "      <th>219</th>\n",
              "      <td>Monster Hunter</td>\n",
              "      <td>Paul W. S. Anderson (director/screenplay); Mil...</td>\n",
              "      <td>Fantasy Action Adventure</td>\n",
              "      <td>Paul W. S. Anderson</td>\n",
              "      <td>Milla Jovovich</td>\n",
              "    </tr>\n",
              "  </tbody>\n",
              "</table>\n",
              "<p>220 rows × 5 columns</p>\n",
              "</div>"
            ],
            "text/plain": [
              "                     Title  ...        actor_1_name\n",
              "0               The Grudge  ...  Andrea Riseborough\n",
              "1               Underwater  ...     Kristen Stewart\n",
              "2              Like a Boss  ...     Tiffany Haddish\n",
              "3        Inherit the Viper  ...       Josh Hartnett\n",
              "4               The Sonata  ...       Freya Tingley\n",
              "..                     ...  ...                 ...\n",
              "215      News of the World  ...           Tom Hanks\n",
              "216     One Night in Miami  ...   Kingsley Ben-Adir\n",
              "217  Promising Young Woman  ...      Carey Mulligan\n",
              "218          Sylvie's Love  ...      Tessa Thompson\n",
              "219         Monster Hunter  ...      Milla Jovovich\n",
              "\n",
              "[220 rows x 5 columns]"
            ]
          },
          "metadata": {
            "tags": []
          },
          "execution_count": 26
        }
      ]
    },
    {
      "cell_type": "code",
      "metadata": {
        "id": "y0oAm50GEygS",
        "outputId": "317c4609-587f-4f5e-d944-b886110e6124",
        "colab": {
          "base_uri": "https://localhost:8080/",
          "height": 673
        }
      },
      "source": [
        "df_2020['actor_2_name'] = df_2020['Cast and crew'].map(lambda x: get_actorN(x,2))\n",
        "df_2020"
      ],
      "execution_count": 27,
      "outputs": [
        {
          "output_type": "execute_result",
          "data": {
            "text/html": [
              "<div>\n",
              "<style scoped>\n",
              "    .dataframe tbody tr th:only-of-type {\n",
              "        vertical-align: middle;\n",
              "    }\n",
              "\n",
              "    .dataframe tbody tr th {\n",
              "        vertical-align: top;\n",
              "    }\n",
              "\n",
              "    .dataframe thead th {\n",
              "        text-align: right;\n",
              "    }\n",
              "</style>\n",
              "<table border=\"1\" class=\"dataframe\">\n",
              "  <thead>\n",
              "    <tr style=\"text-align: right;\">\n",
              "      <th></th>\n",
              "      <th>Title</th>\n",
              "      <th>Cast and crew</th>\n",
              "      <th>genres</th>\n",
              "      <th>director_name</th>\n",
              "      <th>actor_1_name</th>\n",
              "      <th>actor_2_name</th>\n",
              "    </tr>\n",
              "  </thead>\n",
              "  <tbody>\n",
              "    <tr>\n",
              "      <th>0</th>\n",
              "      <td>The Grudge</td>\n",
              "      <td>Nicolas Pesce (director/screenplay); Andrea Ri...</td>\n",
              "      <td>Horror Mystery</td>\n",
              "      <td>Nicolas Pesce</td>\n",
              "      <td>Andrea Riseborough</td>\n",
              "      <td>Demián Bichir</td>\n",
              "    </tr>\n",
              "    <tr>\n",
              "      <th>1</th>\n",
              "      <td>Underwater</td>\n",
              "      <td>William Eubank (director); Brian Duffield, Ada...</td>\n",
              "      <td>Action Horror Science Fiction Thriller</td>\n",
              "      <td>William Eubank</td>\n",
              "      <td>Kristen Stewart</td>\n",
              "      <td>Vincent Cassel</td>\n",
              "    </tr>\n",
              "    <tr>\n",
              "      <th>2</th>\n",
              "      <td>Like a Boss</td>\n",
              "      <td>Miguel Arteta (director); Sam Pitman, Adam Col...</td>\n",
              "      <td>Comedy</td>\n",
              "      <td>Miguel Arteta</td>\n",
              "      <td>Tiffany Haddish</td>\n",
              "      <td>Rose Byrne</td>\n",
              "    </tr>\n",
              "    <tr>\n",
              "      <th>3</th>\n",
              "      <td>Inherit the Viper</td>\n",
              "      <td>Anthony Jerjen (director); Andrew Crabtree (sc...</td>\n",
              "      <td>Drama Thriller Crime</td>\n",
              "      <td>Anthony Jerjen</td>\n",
              "      <td>Josh Hartnett</td>\n",
              "      <td>Margarita Levieva</td>\n",
              "    </tr>\n",
              "    <tr>\n",
              "      <th>4</th>\n",
              "      <td>The Sonata</td>\n",
              "      <td>Andrew Desmond (director/screenplay); Arthur M...</td>\n",
              "      <td>Horror Thriller Mystery</td>\n",
              "      <td>Andrew Desmond</td>\n",
              "      <td>Freya Tingley</td>\n",
              "      <td>Simon Abkarian</td>\n",
              "    </tr>\n",
              "    <tr>\n",
              "      <th>...</th>\n",
              "      <td>...</td>\n",
              "      <td>...</td>\n",
              "      <td>...</td>\n",
              "      <td>...</td>\n",
              "      <td>...</td>\n",
              "      <td>...</td>\n",
              "    </tr>\n",
              "    <tr>\n",
              "      <th>215</th>\n",
              "      <td>News of the World</td>\n",
              "      <td>Paul Greengrass (director/screenplay); Luke Da...</td>\n",
              "      <td>Drama Western</td>\n",
              "      <td>Paul Greengrass</td>\n",
              "      <td>Tom Hanks</td>\n",
              "      <td>Helena Zengel</td>\n",
              "    </tr>\n",
              "    <tr>\n",
              "      <th>216</th>\n",
              "      <td>One Night in Miami</td>\n",
              "      <td>Regina King (director); Kemp Powers (screenpla...</td>\n",
              "      <td>Drama</td>\n",
              "      <td>Regina King</td>\n",
              "      <td>Kingsley Ben-Adir</td>\n",
              "      <td>Eli Goree</td>\n",
              "    </tr>\n",
              "    <tr>\n",
              "      <th>217</th>\n",
              "      <td>Promising Young Woman</td>\n",
              "      <td>Emerald Fennell (director/screenplay); Carey M...</td>\n",
              "      <td>Thriller Crime Drama</td>\n",
              "      <td>Emerald Fennell</td>\n",
              "      <td>Carey Mulligan</td>\n",
              "      <td>Bo Burnham</td>\n",
              "    </tr>\n",
              "    <tr>\n",
              "      <th>218</th>\n",
              "      <td>Sylvie's Love</td>\n",
              "      <td>Eugene Ashe (director/screenplay); Tessa Thomp...</td>\n",
              "      <td>Drama</td>\n",
              "      <td>Eugene Ashe</td>\n",
              "      <td>Tessa Thompson</td>\n",
              "      <td>Nnamdi Asomugha</td>\n",
              "    </tr>\n",
              "    <tr>\n",
              "      <th>219</th>\n",
              "      <td>Monster Hunter</td>\n",
              "      <td>Paul W. S. Anderson (director/screenplay); Mil...</td>\n",
              "      <td>Fantasy Action Adventure</td>\n",
              "      <td>Paul W. S. Anderson</td>\n",
              "      <td>Milla Jovovich</td>\n",
              "      <td>Tony Jaa</td>\n",
              "    </tr>\n",
              "  </tbody>\n",
              "</table>\n",
              "<p>220 rows × 6 columns</p>\n",
              "</div>"
            ],
            "text/plain": [
              "                     Title  ...       actor_2_name\n",
              "0               The Grudge  ...      Demián Bichir\n",
              "1               Underwater  ...     Vincent Cassel\n",
              "2              Like a Boss  ...         Rose Byrne\n",
              "3        Inherit the Viper  ...  Margarita Levieva\n",
              "4               The Sonata  ...     Simon Abkarian\n",
              "..                     ...  ...                ...\n",
              "215      News of the World  ...      Helena Zengel\n",
              "216     One Night in Miami  ...          Eli Goree\n",
              "217  Promising Young Woman  ...         Bo Burnham\n",
              "218          Sylvie's Love  ...    Nnamdi Asomugha\n",
              "219         Monster Hunter  ...           Tony Jaa\n",
              "\n",
              "[220 rows x 6 columns]"
            ]
          },
          "metadata": {
            "tags": []
          },
          "execution_count": 27
        }
      ]
    },
    {
      "cell_type": "code",
      "metadata": {
        "id": "Jn92iAP_Fbo-",
        "outputId": "2692143d-7cad-4fcd-aa20-3629b13acf70",
        "colab": {
          "base_uri": "https://localhost:8080/",
          "height": 773
        }
      },
      "source": [
        "df_2020['actor_3_name'] = df_2020['Cast and crew'].map(lambda x: get_actorN(x,3))\n",
        "df_2020"
      ],
      "execution_count": 28,
      "outputs": [
        {
          "output_type": "execute_result",
          "data": {
            "text/html": [
              "<div>\n",
              "<style scoped>\n",
              "    .dataframe tbody tr th:only-of-type {\n",
              "        vertical-align: middle;\n",
              "    }\n",
              "\n",
              "    .dataframe tbody tr th {\n",
              "        vertical-align: top;\n",
              "    }\n",
              "\n",
              "    .dataframe thead th {\n",
              "        text-align: right;\n",
              "    }\n",
              "</style>\n",
              "<table border=\"1\" class=\"dataframe\">\n",
              "  <thead>\n",
              "    <tr style=\"text-align: right;\">\n",
              "      <th></th>\n",
              "      <th>Title</th>\n",
              "      <th>Cast and crew</th>\n",
              "      <th>genres</th>\n",
              "      <th>director_name</th>\n",
              "      <th>actor_1_name</th>\n",
              "      <th>actor_2_name</th>\n",
              "      <th>actor_3_name</th>\n",
              "    </tr>\n",
              "  </thead>\n",
              "  <tbody>\n",
              "    <tr>\n",
              "      <th>0</th>\n",
              "      <td>The Grudge</td>\n",
              "      <td>Nicolas Pesce (director/screenplay); Andrea Ri...</td>\n",
              "      <td>Horror Mystery</td>\n",
              "      <td>Nicolas Pesce</td>\n",
              "      <td>Andrea Riseborough</td>\n",
              "      <td>Demián Bichir</td>\n",
              "      <td>John Cho</td>\n",
              "    </tr>\n",
              "    <tr>\n",
              "      <th>1</th>\n",
              "      <td>Underwater</td>\n",
              "      <td>William Eubank (director); Brian Duffield, Ada...</td>\n",
              "      <td>Action Horror Science Fiction Thriller</td>\n",
              "      <td>William Eubank</td>\n",
              "      <td>Kristen Stewart</td>\n",
              "      <td>Vincent Cassel</td>\n",
              "      <td>Jessica Henwick</td>\n",
              "    </tr>\n",
              "    <tr>\n",
              "      <th>2</th>\n",
              "      <td>Like a Boss</td>\n",
              "      <td>Miguel Arteta (director); Sam Pitman, Adam Col...</td>\n",
              "      <td>Comedy</td>\n",
              "      <td>Miguel Arteta</td>\n",
              "      <td>Tiffany Haddish</td>\n",
              "      <td>Rose Byrne</td>\n",
              "      <td>Salma Hayek</td>\n",
              "    </tr>\n",
              "    <tr>\n",
              "      <th>3</th>\n",
              "      <td>Inherit the Viper</td>\n",
              "      <td>Anthony Jerjen (director); Andrew Crabtree (sc...</td>\n",
              "      <td>Drama Thriller Crime</td>\n",
              "      <td>Anthony Jerjen</td>\n",
              "      <td>Josh Hartnett</td>\n",
              "      <td>Margarita Levieva</td>\n",
              "      <td>Chandler Riggs</td>\n",
              "    </tr>\n",
              "    <tr>\n",
              "      <th>4</th>\n",
              "      <td>The Sonata</td>\n",
              "      <td>Andrew Desmond (director/screenplay); Arthur M...</td>\n",
              "      <td>Horror Thriller Mystery</td>\n",
              "      <td>Andrew Desmond</td>\n",
              "      <td>Freya Tingley</td>\n",
              "      <td>Simon Abkarian</td>\n",
              "      <td>Rutger Hauer</td>\n",
              "    </tr>\n",
              "    <tr>\n",
              "      <th>...</th>\n",
              "      <td>...</td>\n",
              "      <td>...</td>\n",
              "      <td>...</td>\n",
              "      <td>...</td>\n",
              "      <td>...</td>\n",
              "      <td>...</td>\n",
              "      <td>...</td>\n",
              "    </tr>\n",
              "    <tr>\n",
              "      <th>215</th>\n",
              "      <td>News of the World</td>\n",
              "      <td>Paul Greengrass (director/screenplay); Luke Da...</td>\n",
              "      <td>Drama Western</td>\n",
              "      <td>Paul Greengrass</td>\n",
              "      <td>Tom Hanks</td>\n",
              "      <td>Helena Zengel</td>\n",
              "      <td>Neil Sandilands</td>\n",
              "    </tr>\n",
              "    <tr>\n",
              "      <th>216</th>\n",
              "      <td>One Night in Miami</td>\n",
              "      <td>Regina King (director); Kemp Powers (screenpla...</td>\n",
              "      <td>Drama</td>\n",
              "      <td>Regina King</td>\n",
              "      <td>Kingsley Ben-Adir</td>\n",
              "      <td>Eli Goree</td>\n",
              "      <td>Aldis Hodge</td>\n",
              "    </tr>\n",
              "    <tr>\n",
              "      <th>217</th>\n",
              "      <td>Promising Young Woman</td>\n",
              "      <td>Emerald Fennell (director/screenplay); Carey M...</td>\n",
              "      <td>Thriller Crime Drama</td>\n",
              "      <td>Emerald Fennell</td>\n",
              "      <td>Carey Mulligan</td>\n",
              "      <td>Bo Burnham</td>\n",
              "      <td>Alison Brie</td>\n",
              "    </tr>\n",
              "    <tr>\n",
              "      <th>218</th>\n",
              "      <td>Sylvie's Love</td>\n",
              "      <td>Eugene Ashe (director/screenplay); Tessa Thomp...</td>\n",
              "      <td>Drama</td>\n",
              "      <td>Eugene Ashe</td>\n",
              "      <td>Tessa Thompson</td>\n",
              "      <td>Nnamdi Asomugha</td>\n",
              "      <td>Ryan Michelle Bathe</td>\n",
              "    </tr>\n",
              "    <tr>\n",
              "      <th>219</th>\n",
              "      <td>Monster Hunter</td>\n",
              "      <td>Paul W. S. Anderson (director/screenplay); Mil...</td>\n",
              "      <td>Fantasy Action Adventure</td>\n",
              "      <td>Paul W. S. Anderson</td>\n",
              "      <td>Milla Jovovich</td>\n",
              "      <td>Tony Jaa</td>\n",
              "      <td>Tip \"T.I.\" Harris</td>\n",
              "    </tr>\n",
              "  </tbody>\n",
              "</table>\n",
              "<p>220 rows × 7 columns</p>\n",
              "</div>"
            ],
            "text/plain": [
              "                     Title  ...         actor_3_name\n",
              "0               The Grudge  ...             John Cho\n",
              "1               Underwater  ...      Jessica Henwick\n",
              "2              Like a Boss  ...          Salma Hayek\n",
              "3        Inherit the Viper  ...       Chandler Riggs\n",
              "4               The Sonata  ...         Rutger Hauer\n",
              "..                     ...  ...                  ...\n",
              "215      News of the World  ...      Neil Sandilands\n",
              "216     One Night in Miami  ...          Aldis Hodge\n",
              "217  Promising Young Woman  ...          Alison Brie\n",
              "218          Sylvie's Love  ...  Ryan Michelle Bathe\n",
              "219         Monster Hunter  ...    Tip \"T.I.\" Harris\n",
              "\n",
              "[220 rows x 7 columns]"
            ]
          },
          "metadata": {
            "tags": []
          },
          "execution_count": 28
        }
      ]
    },
    {
      "cell_type": "code",
      "metadata": {
        "id": "XIz-4rQQqkx-"
      },
      "source": [
        "df_2020 = df_2020.rename(columns={'Title':'movie_title'})"
      ],
      "execution_count": 29,
      "outputs": []
    },
    {
      "cell_type": "code",
      "metadata": {
        "id": "71Z9wshj09aT",
        "outputId": "c1bdb642-8af4-4d15-f14c-a90b17f06b00",
        "colab": {
          "base_uri": "https://localhost:8080/",
          "height": 573
        }
      },
      "source": [
        "new_df20 = df_2020.loc[:,['director_name','actor_1_name','actor_2_name','actor_3_name','genres','movie_title']]\n",
        "new_df20"
      ],
      "execution_count": 30,
      "outputs": [
        {
          "output_type": "execute_result",
          "data": {
            "text/html": [
              "<div>\n",
              "<style scoped>\n",
              "    .dataframe tbody tr th:only-of-type {\n",
              "        vertical-align: middle;\n",
              "    }\n",
              "\n",
              "    .dataframe tbody tr th {\n",
              "        vertical-align: top;\n",
              "    }\n",
              "\n",
              "    .dataframe thead th {\n",
              "        text-align: right;\n",
              "    }\n",
              "</style>\n",
              "<table border=\"1\" class=\"dataframe\">\n",
              "  <thead>\n",
              "    <tr style=\"text-align: right;\">\n",
              "      <th></th>\n",
              "      <th>director_name</th>\n",
              "      <th>actor_1_name</th>\n",
              "      <th>actor_2_name</th>\n",
              "      <th>actor_3_name</th>\n",
              "      <th>genres</th>\n",
              "      <th>movie_title</th>\n",
              "    </tr>\n",
              "  </thead>\n",
              "  <tbody>\n",
              "    <tr>\n",
              "      <th>0</th>\n",
              "      <td>Nicolas Pesce</td>\n",
              "      <td>Andrea Riseborough</td>\n",
              "      <td>Demián Bichir</td>\n",
              "      <td>John Cho</td>\n",
              "      <td>Horror Mystery</td>\n",
              "      <td>The Grudge</td>\n",
              "    </tr>\n",
              "    <tr>\n",
              "      <th>1</th>\n",
              "      <td>William Eubank</td>\n",
              "      <td>Kristen Stewart</td>\n",
              "      <td>Vincent Cassel</td>\n",
              "      <td>Jessica Henwick</td>\n",
              "      <td>Action Horror Science Fiction Thriller</td>\n",
              "      <td>Underwater</td>\n",
              "    </tr>\n",
              "    <tr>\n",
              "      <th>2</th>\n",
              "      <td>Miguel Arteta</td>\n",
              "      <td>Tiffany Haddish</td>\n",
              "      <td>Rose Byrne</td>\n",
              "      <td>Salma Hayek</td>\n",
              "      <td>Comedy</td>\n",
              "      <td>Like a Boss</td>\n",
              "    </tr>\n",
              "    <tr>\n",
              "      <th>3</th>\n",
              "      <td>Anthony Jerjen</td>\n",
              "      <td>Josh Hartnett</td>\n",
              "      <td>Margarita Levieva</td>\n",
              "      <td>Chandler Riggs</td>\n",
              "      <td>Drama Thriller Crime</td>\n",
              "      <td>Inherit the Viper</td>\n",
              "    </tr>\n",
              "    <tr>\n",
              "      <th>4</th>\n",
              "      <td>Andrew Desmond</td>\n",
              "      <td>Freya Tingley</td>\n",
              "      <td>Simon Abkarian</td>\n",
              "      <td>Rutger Hauer</td>\n",
              "      <td>Horror Thriller Mystery</td>\n",
              "      <td>The Sonata</td>\n",
              "    </tr>\n",
              "    <tr>\n",
              "      <th>...</th>\n",
              "      <td>...</td>\n",
              "      <td>...</td>\n",
              "      <td>...</td>\n",
              "      <td>...</td>\n",
              "      <td>...</td>\n",
              "      <td>...</td>\n",
              "    </tr>\n",
              "    <tr>\n",
              "      <th>215</th>\n",
              "      <td>Paul Greengrass</td>\n",
              "      <td>Tom Hanks</td>\n",
              "      <td>Helena Zengel</td>\n",
              "      <td>Neil Sandilands</td>\n",
              "      <td>Drama Western</td>\n",
              "      <td>News of the World</td>\n",
              "    </tr>\n",
              "    <tr>\n",
              "      <th>216</th>\n",
              "      <td>Regina King</td>\n",
              "      <td>Kingsley Ben-Adir</td>\n",
              "      <td>Eli Goree</td>\n",
              "      <td>Aldis Hodge</td>\n",
              "      <td>Drama</td>\n",
              "      <td>One Night in Miami</td>\n",
              "    </tr>\n",
              "    <tr>\n",
              "      <th>217</th>\n",
              "      <td>Emerald Fennell</td>\n",
              "      <td>Carey Mulligan</td>\n",
              "      <td>Bo Burnham</td>\n",
              "      <td>Alison Brie</td>\n",
              "      <td>Thriller Crime Drama</td>\n",
              "      <td>Promising Young Woman</td>\n",
              "    </tr>\n",
              "    <tr>\n",
              "      <th>218</th>\n",
              "      <td>Eugene Ashe</td>\n",
              "      <td>Tessa Thompson</td>\n",
              "      <td>Nnamdi Asomugha</td>\n",
              "      <td>Ryan Michelle Bathe</td>\n",
              "      <td>Drama</td>\n",
              "      <td>Sylvie's Love</td>\n",
              "    </tr>\n",
              "    <tr>\n",
              "      <th>219</th>\n",
              "      <td>Paul W. S. Anderson</td>\n",
              "      <td>Milla Jovovich</td>\n",
              "      <td>Tony Jaa</td>\n",
              "      <td>Tip \"T.I.\" Harris</td>\n",
              "      <td>Fantasy Action Adventure</td>\n",
              "      <td>Monster Hunter</td>\n",
              "    </tr>\n",
              "  </tbody>\n",
              "</table>\n",
              "<p>220 rows × 6 columns</p>\n",
              "</div>"
            ],
            "text/plain": [
              "            director_name  ...            movie_title\n",
              "0          Nicolas Pesce   ...             The Grudge\n",
              "1          William Eubank  ...             Underwater\n",
              "2           Miguel Arteta  ...            Like a Boss\n",
              "3          Anthony Jerjen  ...      Inherit the Viper\n",
              "4         Andrew Desmond   ...             The Sonata\n",
              "..                    ...  ...                    ...\n",
              "215      Paul Greengrass   ...      News of the World\n",
              "216           Regina King  ...     One Night in Miami\n",
              "217      Emerald Fennell   ...  Promising Young Woman\n",
              "218          Eugene Ashe   ...          Sylvie's Love\n",
              "219  Paul W. S. Anderson   ...         Monster Hunter\n",
              "\n",
              "[220 rows x 6 columns]"
            ]
          },
          "metadata": {
            "tags": []
          },
          "execution_count": 30
        }
      ]
    },
    {
      "cell_type": "code",
      "metadata": {
        "id": "lUwKpBdz09tN"
      },
      "source": [
        "new_df20['comb'] = new_df20['actor_1_name'] + ' ' + new_df20['actor_2_name'] + ' ' + new_df20['actor_3_name'] + ' ' + new_df20['director_name'] + ' ' + new_df20['genres']   "
      ],
      "execution_count": 31,
      "outputs": []
    },
    {
      "cell_type": "code",
      "metadata": {
        "id": "1qtbL0zD3tiI",
        "outputId": "79e87416-9364-4267-c44e-0fcd02956dbf",
        "colab": {
          "base_uri": "https://localhost:8080/",
          "height": 150
        }
      },
      "source": [
        "new_df20.isna().sum()"
      ],
      "execution_count": 32,
      "outputs": [
        {
          "output_type": "execute_result",
          "data": {
            "text/plain": [
              "director_name     0\n",
              "actor_1_name      8\n",
              "actor_2_name     10\n",
              "actor_3_name     25\n",
              "genres            3\n",
              "movie_title       0\n",
              "comb             27\n",
              "dtype: int64"
            ]
          },
          "metadata": {
            "tags": []
          },
          "execution_count": 32
        }
      ]
    },
    {
      "cell_type": "code",
      "metadata": {
        "id": "Ic-3FzQc36E-"
      },
      "source": [
        "new_df20 = new_df20.dropna(how='any')"
      ],
      "execution_count": 33,
      "outputs": []
    },
    {
      "cell_type": "code",
      "metadata": {
        "id": "h7EvOHd24GcF",
        "outputId": "cf3258d9-99d9-4fef-a2c1-a8e1313e29e8",
        "colab": {
          "base_uri": "https://localhost:8080/",
          "height": 150
        }
      },
      "source": [
        "new_df20.isna().sum()"
      ],
      "execution_count": 34,
      "outputs": [
        {
          "output_type": "execute_result",
          "data": {
            "text/plain": [
              "director_name    0\n",
              "actor_1_name     0\n",
              "actor_2_name     0\n",
              "actor_3_name     0\n",
              "genres           0\n",
              "movie_title      0\n",
              "comb             0\n",
              "dtype: int64"
            ]
          },
          "metadata": {
            "tags": []
          },
          "execution_count": 34
        }
      ]
    },
    {
      "cell_type": "code",
      "metadata": {
        "id": "allv4hWY093V",
        "outputId": "d3f9ffb8-da42-4909-bb88-fbeecb8eee84",
        "colab": {
          "base_uri": "https://localhost:8080/",
          "height": 636
        }
      },
      "source": [
        "new_df20['actor_1_name'] = new_df20['actor_1_name'].replace(np.NaN, \"unknown\")\n",
        "new_df20['actor_2_name'] = new_df20['actor_2_name'].replace(np.NaN, \"unknown\")\n",
        "new_df20['actor_3_name'] = new_df20['actor_3_name'].replace(np.NaN, \"unknown\")\n",
        "new_df20['director_name'] = new_df20['director_name'].replace(np.NaN, \"unknown\")\n",
        "new_df20['genres'] = new_df20['genres'].replace(np.NaN, \"unknown\")\n",
        "new_df20['movie_title'] = new_df20['movie_title'].replace(np.NaN, \"unknown\")"
      ],
      "execution_count": 35,
      "outputs": [
        {
          "output_type": "stream",
          "text": [
            "/usr/local/lib/python3.6/dist-packages/ipykernel_launcher.py:1: SettingWithCopyWarning: \n",
            "A value is trying to be set on a copy of a slice from a DataFrame.\n",
            "Try using .loc[row_indexer,col_indexer] = value instead\n",
            "\n",
            "See the caveats in the documentation: https://pandas.pydata.org/pandas-docs/stable/user_guide/indexing.html#returning-a-view-versus-a-copy\n",
            "  \"\"\"Entry point for launching an IPython kernel.\n",
            "/usr/local/lib/python3.6/dist-packages/ipykernel_launcher.py:2: SettingWithCopyWarning: \n",
            "A value is trying to be set on a copy of a slice from a DataFrame.\n",
            "Try using .loc[row_indexer,col_indexer] = value instead\n",
            "\n",
            "See the caveats in the documentation: https://pandas.pydata.org/pandas-docs/stable/user_guide/indexing.html#returning-a-view-versus-a-copy\n",
            "  \n",
            "/usr/local/lib/python3.6/dist-packages/ipykernel_launcher.py:3: SettingWithCopyWarning: \n",
            "A value is trying to be set on a copy of a slice from a DataFrame.\n",
            "Try using .loc[row_indexer,col_indexer] = value instead\n",
            "\n",
            "See the caveats in the documentation: https://pandas.pydata.org/pandas-docs/stable/user_guide/indexing.html#returning-a-view-versus-a-copy\n",
            "  This is separate from the ipykernel package so we can avoid doing imports until\n",
            "/usr/local/lib/python3.6/dist-packages/ipykernel_launcher.py:4: SettingWithCopyWarning: \n",
            "A value is trying to be set on a copy of a slice from a DataFrame.\n",
            "Try using .loc[row_indexer,col_indexer] = value instead\n",
            "\n",
            "See the caveats in the documentation: https://pandas.pydata.org/pandas-docs/stable/user_guide/indexing.html#returning-a-view-versus-a-copy\n",
            "  after removing the cwd from sys.path.\n",
            "/usr/local/lib/python3.6/dist-packages/ipykernel_launcher.py:5: SettingWithCopyWarning: \n",
            "A value is trying to be set on a copy of a slice from a DataFrame.\n",
            "Try using .loc[row_indexer,col_indexer] = value instead\n",
            "\n",
            "See the caveats in the documentation: https://pandas.pydata.org/pandas-docs/stable/user_guide/indexing.html#returning-a-view-versus-a-copy\n",
            "  \"\"\"\n",
            "/usr/local/lib/python3.6/dist-packages/ipykernel_launcher.py:6: SettingWithCopyWarning: \n",
            "A value is trying to be set on a copy of a slice from a DataFrame.\n",
            "Try using .loc[row_indexer,col_indexer] = value instead\n",
            "\n",
            "See the caveats in the documentation: https://pandas.pydata.org/pandas-docs/stable/user_guide/indexing.html#returning-a-view-versus-a-copy\n",
            "  \n"
          ],
          "name": "stderr"
        }
      ]
    },
    {
      "cell_type": "code",
      "metadata": {
        "id": "c3h6yzaF09_r",
        "outputId": "d4f660ac-8019-415a-a01a-a0c5af7d89c0",
        "colab": {
          "base_uri": "https://localhost:8080/",
          "height": 136
        }
      },
      "source": [
        "new_df20['movie_title'] = new_df20['movie_title'].str.lower()"
      ],
      "execution_count": 36,
      "outputs": [
        {
          "output_type": "stream",
          "text": [
            "/usr/local/lib/python3.6/dist-packages/ipykernel_launcher.py:1: SettingWithCopyWarning: \n",
            "A value is trying to be set on a copy of a slice from a DataFrame.\n",
            "Try using .loc[row_indexer,col_indexer] = value instead\n",
            "\n",
            "See the caveats in the documentation: https://pandas.pydata.org/pandas-docs/stable/user_guide/indexing.html#returning-a-view-versus-a-copy\n",
            "  \"\"\"Entry point for launching an IPython kernel.\n"
          ],
          "name": "stderr"
        }
      ]
    },
    {
      "cell_type": "code",
      "metadata": {
        "id": "bu6IlNtW0-KB",
        "outputId": "5ebca291-1270-43db-e549-082092badc8e",
        "colab": {
          "base_uri": "https://localhost:8080/",
          "height": 973
        }
      },
      "source": [
        "new_df20"
      ],
      "execution_count": 37,
      "outputs": [
        {
          "output_type": "execute_result",
          "data": {
            "text/html": [
              "<div>\n",
              "<style scoped>\n",
              "    .dataframe tbody tr th:only-of-type {\n",
              "        vertical-align: middle;\n",
              "    }\n",
              "\n",
              "    .dataframe tbody tr th {\n",
              "        vertical-align: top;\n",
              "    }\n",
              "\n",
              "    .dataframe thead th {\n",
              "        text-align: right;\n",
              "    }\n",
              "</style>\n",
              "<table border=\"1\" class=\"dataframe\">\n",
              "  <thead>\n",
              "    <tr style=\"text-align: right;\">\n",
              "      <th></th>\n",
              "      <th>director_name</th>\n",
              "      <th>actor_1_name</th>\n",
              "      <th>actor_2_name</th>\n",
              "      <th>actor_3_name</th>\n",
              "      <th>genres</th>\n",
              "      <th>movie_title</th>\n",
              "      <th>comb</th>\n",
              "    </tr>\n",
              "  </thead>\n",
              "  <tbody>\n",
              "    <tr>\n",
              "      <th>0</th>\n",
              "      <td>Nicolas Pesce</td>\n",
              "      <td>Andrea Riseborough</td>\n",
              "      <td>Demián Bichir</td>\n",
              "      <td>John Cho</td>\n",
              "      <td>Horror Mystery</td>\n",
              "      <td>the grudge</td>\n",
              "      <td>Andrea Riseborough Demián Bichir John Cho Nico...</td>\n",
              "    </tr>\n",
              "    <tr>\n",
              "      <th>1</th>\n",
              "      <td>William Eubank</td>\n",
              "      <td>Kristen Stewart</td>\n",
              "      <td>Vincent Cassel</td>\n",
              "      <td>Jessica Henwick</td>\n",
              "      <td>Action Horror Science Fiction Thriller</td>\n",
              "      <td>underwater</td>\n",
              "      <td>Kristen Stewart Vincent Cassel Jessica Henwick...</td>\n",
              "    </tr>\n",
              "    <tr>\n",
              "      <th>2</th>\n",
              "      <td>Miguel Arteta</td>\n",
              "      <td>Tiffany Haddish</td>\n",
              "      <td>Rose Byrne</td>\n",
              "      <td>Salma Hayek</td>\n",
              "      <td>Comedy</td>\n",
              "      <td>like a boss</td>\n",
              "      <td>Tiffany Haddish Rose Byrne Salma Hayek Miguel ...</td>\n",
              "    </tr>\n",
              "    <tr>\n",
              "      <th>3</th>\n",
              "      <td>Anthony Jerjen</td>\n",
              "      <td>Josh Hartnett</td>\n",
              "      <td>Margarita Levieva</td>\n",
              "      <td>Chandler Riggs</td>\n",
              "      <td>Drama Thriller Crime</td>\n",
              "      <td>inherit the viper</td>\n",
              "      <td>Josh Hartnett Margarita Levieva Chandler Riggs...</td>\n",
              "    </tr>\n",
              "    <tr>\n",
              "      <th>4</th>\n",
              "      <td>Andrew Desmond</td>\n",
              "      <td>Freya Tingley</td>\n",
              "      <td>Simon Abkarian</td>\n",
              "      <td>Rutger Hauer</td>\n",
              "      <td>Horror Thriller Mystery</td>\n",
              "      <td>the sonata</td>\n",
              "      <td>Freya Tingley Simon Abkarian Rutger Hauer Andr...</td>\n",
              "    </tr>\n",
              "    <tr>\n",
              "      <th>...</th>\n",
              "      <td>...</td>\n",
              "      <td>...</td>\n",
              "      <td>...</td>\n",
              "      <td>...</td>\n",
              "      <td>...</td>\n",
              "      <td>...</td>\n",
              "      <td>...</td>\n",
              "    </tr>\n",
              "    <tr>\n",
              "      <th>215</th>\n",
              "      <td>Paul Greengrass</td>\n",
              "      <td>Tom Hanks</td>\n",
              "      <td>Helena Zengel</td>\n",
              "      <td>Neil Sandilands</td>\n",
              "      <td>Drama Western</td>\n",
              "      <td>news of the world</td>\n",
              "      <td>Tom Hanks Helena Zengel Neil Sandilands Paul G...</td>\n",
              "    </tr>\n",
              "    <tr>\n",
              "      <th>216</th>\n",
              "      <td>Regina King</td>\n",
              "      <td>Kingsley Ben-Adir</td>\n",
              "      <td>Eli Goree</td>\n",
              "      <td>Aldis Hodge</td>\n",
              "      <td>Drama</td>\n",
              "      <td>one night in miami</td>\n",
              "      <td>Kingsley Ben-Adir Eli Goree Aldis Hodge Regina...</td>\n",
              "    </tr>\n",
              "    <tr>\n",
              "      <th>217</th>\n",
              "      <td>Emerald Fennell</td>\n",
              "      <td>Carey Mulligan</td>\n",
              "      <td>Bo Burnham</td>\n",
              "      <td>Alison Brie</td>\n",
              "      <td>Thriller Crime Drama</td>\n",
              "      <td>promising young woman</td>\n",
              "      <td>Carey Mulligan Bo Burnham Alison Brie Emerald ...</td>\n",
              "    </tr>\n",
              "    <tr>\n",
              "      <th>218</th>\n",
              "      <td>Eugene Ashe</td>\n",
              "      <td>Tessa Thompson</td>\n",
              "      <td>Nnamdi Asomugha</td>\n",
              "      <td>Ryan Michelle Bathe</td>\n",
              "      <td>Drama</td>\n",
              "      <td>sylvie's love</td>\n",
              "      <td>Tessa Thompson Nnamdi Asomugha Ryan Michelle B...</td>\n",
              "    </tr>\n",
              "    <tr>\n",
              "      <th>219</th>\n",
              "      <td>Paul W. S. Anderson</td>\n",
              "      <td>Milla Jovovich</td>\n",
              "      <td>Tony Jaa</td>\n",
              "      <td>Tip \"T.I.\" Harris</td>\n",
              "      <td>Fantasy Action Adventure</td>\n",
              "      <td>monster hunter</td>\n",
              "      <td>Milla Jovovich Tony Jaa Tip \"T.I.\" Harris Paul...</td>\n",
              "    </tr>\n",
              "  </tbody>\n",
              "</table>\n",
              "<p>193 rows × 7 columns</p>\n",
              "</div>"
            ],
            "text/plain": [
              "            director_name  ...                                               comb\n",
              "0          Nicolas Pesce   ...  Andrea Riseborough Demián Bichir John Cho Nico...\n",
              "1          William Eubank  ...  Kristen Stewart Vincent Cassel Jessica Henwick...\n",
              "2           Miguel Arteta  ...  Tiffany Haddish Rose Byrne Salma Hayek Miguel ...\n",
              "3          Anthony Jerjen  ...  Josh Hartnett Margarita Levieva Chandler Riggs...\n",
              "4         Andrew Desmond   ...  Freya Tingley Simon Abkarian Rutger Hauer Andr...\n",
              "..                    ...  ...                                                ...\n",
              "215      Paul Greengrass   ...  Tom Hanks Helena Zengel Neil Sandilands Paul G...\n",
              "216           Regina King  ...  Kingsley Ben-Adir Eli Goree Aldis Hodge Regina...\n",
              "217      Emerald Fennell   ...  Carey Mulligan Bo Burnham Alison Brie Emerald ...\n",
              "218          Eugene Ashe   ...  Tessa Thompson Nnamdi Asomugha Ryan Michelle B...\n",
              "219  Paul W. S. Anderson   ...  Milla Jovovich Tony Jaa Tip \"T.I.\" Harris Paul...\n",
              "\n",
              "[193 rows x 7 columns]"
            ]
          },
          "metadata": {
            "tags": []
          },
          "execution_count": 37
        }
      ]
    },
    {
      "cell_type": "code",
      "metadata": {
        "id": "S0LYbYvF40kV",
        "outputId": "42ae3bcb-83f7-4e83-deaf-ceaec3edf596",
        "colab": {
          "base_uri": "https://localhost:8080/",
          "height": 116
        }
      },
      "source": [
        "import os\n",
        "Path = '/content'\n",
        "dir_name = '1.-inputs_movie_recomendation'\n",
        "if not os.path.isdir(Path + '/' + dir_name + '/'):\n",
        "  os.mkdir(Path + '/' + dir_name + '/')\n",
        "\n",
        "  !git clone https://github.com/anselmostitla/1.-inputs_movie_recomendation.git"
      ],
      "execution_count": 38,
      "outputs": [
        {
          "output_type": "stream",
          "text": [
            "Cloning into '1.-inputs_movie_recomendation'...\n",
            "remote: Enumerating objects: 19, done.\u001b[K\n",
            "remote: Counting objects: 100% (19/19), done.\u001b[K\n",
            "remote: Compressing objects: 100% (13/13), done.\u001b[K\n",
            "remote: Total 19 (delta 4), reused 15 (delta 3), pack-reused 0\u001b[K\n",
            "Unpacking objects: 100% (19/19), done.\n"
          ],
          "name": "stdout"
        }
      ]
    },
    {
      "cell_type": "code",
      "metadata": {
        "id": "JJHEghOF0-gy",
        "outputId": "b5ca518d-c46e-415d-cf01-b1e7a8bb8cf9",
        "colab": {
          "base_uri": "https://localhost:8080/",
          "height": 1000
        }
      },
      "source": [
        "old_df = pd.read_csv('/content/1.-inputs_movie_recomendation/outputs/preprocessed_3.csv')\n",
        "old_df"
      ],
      "execution_count": 39,
      "outputs": [
        {
          "output_type": "execute_result",
          "data": {
            "text/html": [
              "<div>\n",
              "<style scoped>\n",
              "    .dataframe tbody tr th:only-of-type {\n",
              "        vertical-align: middle;\n",
              "    }\n",
              "\n",
              "    .dataframe tbody tr th {\n",
              "        vertical-align: top;\n",
              "    }\n",
              "\n",
              "    .dataframe thead th {\n",
              "        text-align: right;\n",
              "    }\n",
              "</style>\n",
              "<table border=\"1\" class=\"dataframe\">\n",
              "  <thead>\n",
              "    <tr style=\"text-align: right;\">\n",
              "      <th></th>\n",
              "      <th>director_name</th>\n",
              "      <th>actor_1_name</th>\n",
              "      <th>actor_2_name</th>\n",
              "      <th>actor_3_name</th>\n",
              "      <th>genres</th>\n",
              "      <th>movie_title</th>\n",
              "      <th>comb</th>\n",
              "    </tr>\n",
              "  </thead>\n",
              "  <tbody>\n",
              "    <tr>\n",
              "      <th>0</th>\n",
              "      <td>James Cameron</td>\n",
              "      <td>CCH Pounder</td>\n",
              "      <td>Joel David Moore</td>\n",
              "      <td>Wes Studi</td>\n",
              "      <td>Action|Adventure|Fantasy|Sci-Fi</td>\n",
              "      <td>avatar</td>\n",
              "      <td>CCH Pounder Joel David Moore Wes Studi James C...</td>\n",
              "    </tr>\n",
              "    <tr>\n",
              "      <th>1</th>\n",
              "      <td>Gore Verbinski</td>\n",
              "      <td>Johnny Depp</td>\n",
              "      <td>Orlando Bloom</td>\n",
              "      <td>Jack Davenport</td>\n",
              "      <td>Action|Adventure|Fantasy</td>\n",
              "      <td>pirates of the caribbean: at world's end</td>\n",
              "      <td>Johnny Depp Orlando Bloom Jack Davenport Gore ...</td>\n",
              "    </tr>\n",
              "    <tr>\n",
              "      <th>2</th>\n",
              "      <td>Sam Mendes</td>\n",
              "      <td>Christoph Waltz</td>\n",
              "      <td>Rory Kinnear</td>\n",
              "      <td>Stephanie Sigman</td>\n",
              "      <td>Action|Adventure|Thriller</td>\n",
              "      <td>spectre</td>\n",
              "      <td>Christoph Waltz Rory Kinnear Stephanie Sigman ...</td>\n",
              "    </tr>\n",
              "    <tr>\n",
              "      <th>3</th>\n",
              "      <td>Christopher Nolan</td>\n",
              "      <td>Tom Hardy</td>\n",
              "      <td>Christian Bale</td>\n",
              "      <td>Joseph Gordon-Levitt</td>\n",
              "      <td>Action|Thriller</td>\n",
              "      <td>the dark knight rises</td>\n",
              "      <td>Tom Hardy Christian Bale Joseph Gordon-Levitt ...</td>\n",
              "    </tr>\n",
              "    <tr>\n",
              "      <th>4</th>\n",
              "      <td>Doug Walker</td>\n",
              "      <td>Doug Walker</td>\n",
              "      <td>Rob Walker</td>\n",
              "      <td>unknown</td>\n",
              "      <td>Documentary</td>\n",
              "      <td>star wars: episode vii - the force awakens    ...</td>\n",
              "      <td>Doug Walker Rob Walker unknown Doug Walker Doc...</td>\n",
              "    </tr>\n",
              "    <tr>\n",
              "      <th>...</th>\n",
              "      <td>...</td>\n",
              "      <td>...</td>\n",
              "      <td>...</td>\n",
              "      <td>...</td>\n",
              "      <td>...</td>\n",
              "      <td>...</td>\n",
              "      <td>...</td>\n",
              "    </tr>\n",
              "    <tr>\n",
              "      <th>5868</th>\n",
              "      <td>Greta Gerwig</td>\n",
              "      <td>Saoirse Ronan</td>\n",
              "      <td>Emma Watson</td>\n",
              "      <td>Florence Pugh</td>\n",
              "      <td>Drama Romance</td>\n",
              "      <td>little women</td>\n",
              "      <td>Saoirse Ronan Emma Watson Florence Pugh Greta ...</td>\n",
              "    </tr>\n",
              "    <tr>\n",
              "      <th>5869</th>\n",
              "      <td>Sam Mendes</td>\n",
              "      <td>George MacKay</td>\n",
              "      <td>Dean-Charles Chapman</td>\n",
              "      <td>Mark Strong</td>\n",
              "      <td>War Drama Action History</td>\n",
              "      <td>1917</td>\n",
              "      <td>George MacKay Dean-Charles Chapman Mark Strong...</td>\n",
              "    </tr>\n",
              "    <tr>\n",
              "      <th>5870</th>\n",
              "      <td>Destin Daniel Cretton</td>\n",
              "      <td>Michael B. Jordan</td>\n",
              "      <td>Jamie Foxx</td>\n",
              "      <td>Brie Larson</td>\n",
              "      <td>Drama Crime</td>\n",
              "      <td>just mercy</td>\n",
              "      <td>Michael B. Jordan Jamie Foxx Brie Larson Desti...</td>\n",
              "    </tr>\n",
              "    <tr>\n",
              "      <th>5871</th>\n",
              "      <td>Chinonye Chukwu</td>\n",
              "      <td>Alfre Woodard</td>\n",
              "      <td>Wendell Pierce</td>\n",
              "      <td>Aldis Hodge</td>\n",
              "      <td>Drama</td>\n",
              "      <td>clemency</td>\n",
              "      <td>Alfre Woodard Wendell Pierce Aldis Hodge Chino...</td>\n",
              "    </tr>\n",
              "    <tr>\n",
              "      <th>5872</th>\n",
              "      <td>Waymon Boone</td>\n",
              "      <td>Mena Suvari</td>\n",
              "      <td>Kevin Pollak</td>\n",
              "      <td>unknown</td>\n",
              "      <td>Horror Thriller</td>\n",
              "      <td>apparition</td>\n",
              "      <td>Mena Suvari Kevin Pollak unknown Waymon Boone</td>\n",
              "    </tr>\n",
              "  </tbody>\n",
              "</table>\n",
              "<p>5873 rows × 7 columns</p>\n",
              "</div>"
            ],
            "text/plain": [
              "               director_name  ...                                               comb\n",
              "0              James Cameron  ...  CCH Pounder Joel David Moore Wes Studi James C...\n",
              "1             Gore Verbinski  ...  Johnny Depp Orlando Bloom Jack Davenport Gore ...\n",
              "2                 Sam Mendes  ...  Christoph Waltz Rory Kinnear Stephanie Sigman ...\n",
              "3          Christopher Nolan  ...  Tom Hardy Christian Bale Joseph Gordon-Levitt ...\n",
              "4                Doug Walker  ...  Doug Walker Rob Walker unknown Doug Walker Doc...\n",
              "...                      ...  ...                                                ...\n",
              "5868           Greta Gerwig   ...  Saoirse Ronan Emma Watson Florence Pugh Greta ...\n",
              "5869             Sam Mendes   ...  George MacKay Dean-Charles Chapman Mark Strong...\n",
              "5870  Destin Daniel Cretton   ...  Michael B. Jordan Jamie Foxx Brie Larson Desti...\n",
              "5871        Chinonye Chukwu   ...  Alfre Woodard Wendell Pierce Aldis Hodge Chino...\n",
              "5872           Waymon Boone   ...     Mena Suvari Kevin Pollak unknown Waymon Boone \n",
              "\n",
              "[5873 rows x 7 columns]"
            ]
          },
          "metadata": {
            "tags": []
          },
          "execution_count": 39
        }
      ]
    },
    {
      "cell_type": "code",
      "metadata": {
        "id": "4ckoBhLz0-qw",
        "outputId": "3d0c07dd-234b-4c04-e15d-5d3dadf20e7d",
        "colab": {
          "base_uri": "https://localhost:8080/",
          "height": 1000
        }
      },
      "source": [
        "final_df = old_df.append(new_df20, ignore_index=True)\n",
        "final_df"
      ],
      "execution_count": 40,
      "outputs": [
        {
          "output_type": "execute_result",
          "data": {
            "text/html": [
              "<div>\n",
              "<style scoped>\n",
              "    .dataframe tbody tr th:only-of-type {\n",
              "        vertical-align: middle;\n",
              "    }\n",
              "\n",
              "    .dataframe tbody tr th {\n",
              "        vertical-align: top;\n",
              "    }\n",
              "\n",
              "    .dataframe thead th {\n",
              "        text-align: right;\n",
              "    }\n",
              "</style>\n",
              "<table border=\"1\" class=\"dataframe\">\n",
              "  <thead>\n",
              "    <tr style=\"text-align: right;\">\n",
              "      <th></th>\n",
              "      <th>director_name</th>\n",
              "      <th>actor_1_name</th>\n",
              "      <th>actor_2_name</th>\n",
              "      <th>actor_3_name</th>\n",
              "      <th>genres</th>\n",
              "      <th>movie_title</th>\n",
              "      <th>comb</th>\n",
              "    </tr>\n",
              "  </thead>\n",
              "  <tbody>\n",
              "    <tr>\n",
              "      <th>0</th>\n",
              "      <td>James Cameron</td>\n",
              "      <td>CCH Pounder</td>\n",
              "      <td>Joel David Moore</td>\n",
              "      <td>Wes Studi</td>\n",
              "      <td>Action|Adventure|Fantasy|Sci-Fi</td>\n",
              "      <td>avatar</td>\n",
              "      <td>CCH Pounder Joel David Moore Wes Studi James C...</td>\n",
              "    </tr>\n",
              "    <tr>\n",
              "      <th>1</th>\n",
              "      <td>Gore Verbinski</td>\n",
              "      <td>Johnny Depp</td>\n",
              "      <td>Orlando Bloom</td>\n",
              "      <td>Jack Davenport</td>\n",
              "      <td>Action|Adventure|Fantasy</td>\n",
              "      <td>pirates of the caribbean: at world's end</td>\n",
              "      <td>Johnny Depp Orlando Bloom Jack Davenport Gore ...</td>\n",
              "    </tr>\n",
              "    <tr>\n",
              "      <th>2</th>\n",
              "      <td>Sam Mendes</td>\n",
              "      <td>Christoph Waltz</td>\n",
              "      <td>Rory Kinnear</td>\n",
              "      <td>Stephanie Sigman</td>\n",
              "      <td>Action|Adventure|Thriller</td>\n",
              "      <td>spectre</td>\n",
              "      <td>Christoph Waltz Rory Kinnear Stephanie Sigman ...</td>\n",
              "    </tr>\n",
              "    <tr>\n",
              "      <th>3</th>\n",
              "      <td>Christopher Nolan</td>\n",
              "      <td>Tom Hardy</td>\n",
              "      <td>Christian Bale</td>\n",
              "      <td>Joseph Gordon-Levitt</td>\n",
              "      <td>Action|Thriller</td>\n",
              "      <td>the dark knight rises</td>\n",
              "      <td>Tom Hardy Christian Bale Joseph Gordon-Levitt ...</td>\n",
              "    </tr>\n",
              "    <tr>\n",
              "      <th>4</th>\n",
              "      <td>Doug Walker</td>\n",
              "      <td>Doug Walker</td>\n",
              "      <td>Rob Walker</td>\n",
              "      <td>unknown</td>\n",
              "      <td>Documentary</td>\n",
              "      <td>star wars: episode vii - the force awakens    ...</td>\n",
              "      <td>Doug Walker Rob Walker unknown Doug Walker Doc...</td>\n",
              "    </tr>\n",
              "    <tr>\n",
              "      <th>...</th>\n",
              "      <td>...</td>\n",
              "      <td>...</td>\n",
              "      <td>...</td>\n",
              "      <td>...</td>\n",
              "      <td>...</td>\n",
              "      <td>...</td>\n",
              "      <td>...</td>\n",
              "    </tr>\n",
              "    <tr>\n",
              "      <th>6061</th>\n",
              "      <td>Paul Greengrass</td>\n",
              "      <td>Tom Hanks</td>\n",
              "      <td>Helena Zengel</td>\n",
              "      <td>Neil Sandilands</td>\n",
              "      <td>Drama Western</td>\n",
              "      <td>news of the world</td>\n",
              "      <td>Tom Hanks Helena Zengel Neil Sandilands Paul G...</td>\n",
              "    </tr>\n",
              "    <tr>\n",
              "      <th>6062</th>\n",
              "      <td>Regina King</td>\n",
              "      <td>Kingsley Ben-Adir</td>\n",
              "      <td>Eli Goree</td>\n",
              "      <td>Aldis Hodge</td>\n",
              "      <td>Drama</td>\n",
              "      <td>one night in miami</td>\n",
              "      <td>Kingsley Ben-Adir Eli Goree Aldis Hodge Regina...</td>\n",
              "    </tr>\n",
              "    <tr>\n",
              "      <th>6063</th>\n",
              "      <td>Emerald Fennell</td>\n",
              "      <td>Carey Mulligan</td>\n",
              "      <td>Bo Burnham</td>\n",
              "      <td>Alison Brie</td>\n",
              "      <td>Thriller Crime Drama</td>\n",
              "      <td>promising young woman</td>\n",
              "      <td>Carey Mulligan Bo Burnham Alison Brie Emerald ...</td>\n",
              "    </tr>\n",
              "    <tr>\n",
              "      <th>6064</th>\n",
              "      <td>Eugene Ashe</td>\n",
              "      <td>Tessa Thompson</td>\n",
              "      <td>Nnamdi Asomugha</td>\n",
              "      <td>Ryan Michelle Bathe</td>\n",
              "      <td>Drama</td>\n",
              "      <td>sylvie's love</td>\n",
              "      <td>Tessa Thompson Nnamdi Asomugha Ryan Michelle B...</td>\n",
              "    </tr>\n",
              "    <tr>\n",
              "      <th>6065</th>\n",
              "      <td>Paul W. S. Anderson</td>\n",
              "      <td>Milla Jovovich</td>\n",
              "      <td>Tony Jaa</td>\n",
              "      <td>Tip \"T.I.\" Harris</td>\n",
              "      <td>Fantasy Action Adventure</td>\n",
              "      <td>monster hunter</td>\n",
              "      <td>Milla Jovovich Tony Jaa Tip \"T.I.\" Harris Paul...</td>\n",
              "    </tr>\n",
              "  </tbody>\n",
              "</table>\n",
              "<p>6066 rows × 7 columns</p>\n",
              "</div>"
            ],
            "text/plain": [
              "             director_name  ...                                               comb\n",
              "0            James Cameron  ...  CCH Pounder Joel David Moore Wes Studi James C...\n",
              "1           Gore Verbinski  ...  Johnny Depp Orlando Bloom Jack Davenport Gore ...\n",
              "2               Sam Mendes  ...  Christoph Waltz Rory Kinnear Stephanie Sigman ...\n",
              "3        Christopher Nolan  ...  Tom Hardy Christian Bale Joseph Gordon-Levitt ...\n",
              "4              Doug Walker  ...  Doug Walker Rob Walker unknown Doug Walker Doc...\n",
              "...                    ...  ...                                                ...\n",
              "6061      Paul Greengrass   ...  Tom Hanks Helena Zengel Neil Sandilands Paul G...\n",
              "6062           Regina King  ...  Kingsley Ben-Adir Eli Goree Aldis Hodge Regina...\n",
              "6063      Emerald Fennell   ...  Carey Mulligan Bo Burnham Alison Brie Emerald ...\n",
              "6064          Eugene Ashe   ...  Tessa Thompson Nnamdi Asomugha Ryan Michelle B...\n",
              "6065  Paul W. S. Anderson   ...  Milla Jovovich Tony Jaa Tip \"T.I.\" Harris Paul...\n",
              "\n",
              "[6066 rows x 7 columns]"
            ]
          },
          "metadata": {
            "tags": []
          },
          "execution_count": 40
        }
      ]
    },
    {
      "cell_type": "code",
      "metadata": {
        "id": "GZQweS2M0-Yi"
      },
      "source": [
        "final_df.to_csv('preprocessed_4.csv', index=False)"
      ],
      "execution_count": 41,
      "outputs": []
    },
    {
      "cell_type": "code",
      "metadata": {
        "id": "jl8ymk1R0-Ub"
      },
      "source": [
        ""
      ],
      "execution_count": 41,
      "outputs": []
    },
    {
      "cell_type": "code",
      "metadata": {
        "id": "sBvGgZWj09lR"
      },
      "source": [
        ""
      ],
      "execution_count": 41,
      "outputs": []
    }
  ]
}