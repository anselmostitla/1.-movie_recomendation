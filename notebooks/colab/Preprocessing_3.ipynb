{
  "nbformat": 4,
  "nbformat_minor": 0,
  "metadata": {
    "colab": {
      "name": "Preprocessing 3.ipynb",
      "provenance": []
    },
    "kernelspec": {
      "name": "python3",
      "display_name": "Python 3"
    }
  },
  "cells": [
    {
      "cell_type": "code",
      "metadata": {
        "id": "-YxEL3TyRUew"
      },
      "source": [
        "import pandas as pd\n",
        "import numpy as np  "
      ],
      "execution_count": 1,
      "outputs": []
    },
    {
      "cell_type": "markdown",
      "metadata": {
        "id": "7-oIjAiXYXn-"
      },
      "source": [
        "<h1>Extracting features of 2018 movies from Wikipedia</h1>"
      ]
    },
    {
      "cell_type": "code",
      "metadata": {
        "id": "0B0-XN55RfYR"
      },
      "source": [
        "link = \"https://en.wikipedia.org/wiki/List_of_American_films_of_2018\""
      ],
      "execution_count": 2,
      "outputs": []
    },
    {
      "cell_type": "code",
      "metadata": {
        "id": "MfD3RpijR8vV"
      },
      "source": [
        "df1 = pd.read_html(link, header = 0)[2]\n",
        "df2 = pd.read_html(link, header = 0)[3]\n",
        "df3 = pd.read_html(link, header = 0)[4]\n",
        "df4 = pd.read_html(link, header = 0)[5]"
      ],
      "execution_count": 3,
      "outputs": []
    },
    {
      "cell_type": "code",
      "metadata": {
        "id": "m4_PjW5eTalS"
      },
      "source": [
        "df = df1.append(df2.append(df3.append(df4,ignore_index=True),ignore_index=True),ignore_index=True)"
      ],
      "execution_count": 4,
      "outputs": []
    },
    {
      "cell_type": "code",
      "metadata": {
        "id": "vPANI4kIULG4",
        "outputId": "ab2c141f-91f6-45ec-92b5-19e73965f3d4",
        "colab": {
          "base_uri": "https://localhost:8080/",
          "height": 623
        }
      },
      "source": [
        "df"
      ],
      "execution_count": 5,
      "outputs": [
        {
          "output_type": "execute_result",
          "data": {
            "text/html": [
              "<div>\n",
              "<style scoped>\n",
              "    .dataframe tbody tr th:only-of-type {\n",
              "        vertical-align: middle;\n",
              "    }\n",
              "\n",
              "    .dataframe tbody tr th {\n",
              "        vertical-align: top;\n",
              "    }\n",
              "\n",
              "    .dataframe thead th {\n",
              "        text-align: right;\n",
              "    }\n",
              "</style>\n",
              "<table border=\"1\" class=\"dataframe\">\n",
              "  <thead>\n",
              "    <tr style=\"text-align: right;\">\n",
              "      <th></th>\n",
              "      <th>Opening</th>\n",
              "      <th>Opening.1</th>\n",
              "      <th>Title</th>\n",
              "      <th>Production company</th>\n",
              "      <th>Cast and crew</th>\n",
              "      <th>Ref.</th>\n",
              "    </tr>\n",
              "  </thead>\n",
              "  <tbody>\n",
              "    <tr>\n",
              "      <th>0</th>\n",
              "      <td>JANUARY</td>\n",
              "      <td>5</td>\n",
              "      <td>Insidious: The Last Key</td>\n",
              "      <td>Universal Pictures / Blumhouse Productions / S...</td>\n",
              "      <td>Adam Robitel (director); Leigh Whannell (scree...</td>\n",
              "      <td>[2]</td>\n",
              "    </tr>\n",
              "    <tr>\n",
              "      <th>1</th>\n",
              "      <td>JANUARY</td>\n",
              "      <td>5</td>\n",
              "      <td>The Strange Ones</td>\n",
              "      <td>Vertical Entertainment</td>\n",
              "      <td>Lauren Wolkstein (director); Christopher Radcl...</td>\n",
              "      <td>[3]</td>\n",
              "    </tr>\n",
              "    <tr>\n",
              "      <th>2</th>\n",
              "      <td>JANUARY</td>\n",
              "      <td>5</td>\n",
              "      <td>Stratton</td>\n",
              "      <td>Momentum Pictures</td>\n",
              "      <td>Simon West (director); Duncan Falconer, Warren...</td>\n",
              "      <td>[4]</td>\n",
              "    </tr>\n",
              "    <tr>\n",
              "      <th>3</th>\n",
              "      <td>JANUARY</td>\n",
              "      <td>10</td>\n",
              "      <td>Sweet Country</td>\n",
              "      <td>Samuel Goldwyn Films</td>\n",
              "      <td>Warwick Thornton (director); David Tranter, St...</td>\n",
              "      <td>[5]</td>\n",
              "    </tr>\n",
              "    <tr>\n",
              "      <th>4</th>\n",
              "      <td>JANUARY</td>\n",
              "      <td>12</td>\n",
              "      <td>The Commuter</td>\n",
              "      <td>Lionsgate / StudioCanal / The Picture Company</td>\n",
              "      <td>Jaume Collet-Serra (director); Byron Willinger...</td>\n",
              "      <td>[6]</td>\n",
              "    </tr>\n",
              "    <tr>\n",
              "      <th>...</th>\n",
              "      <td>...</td>\n",
              "      <td>...</td>\n",
              "      <td>...</td>\n",
              "      <td>...</td>\n",
              "      <td>...</td>\n",
              "      <td>...</td>\n",
              "    </tr>\n",
              "    <tr>\n",
              "      <th>263</th>\n",
              "      <td>DECEMBER</td>\n",
              "      <td>25</td>\n",
              "      <td>Holmes &amp; Watson</td>\n",
              "      <td>Columbia Pictures / Gary Sanchez Productions</td>\n",
              "      <td>Etan Cohen (director/screenplay); Will Ferrell...</td>\n",
              "      <td>[162]</td>\n",
              "    </tr>\n",
              "    <tr>\n",
              "      <th>264</th>\n",
              "      <td>DECEMBER</td>\n",
              "      <td>25</td>\n",
              "      <td>Vice</td>\n",
              "      <td>Annapurna Pictures / Plan B Entertainment</td>\n",
              "      <td>Adam McKay (director/screenplay); Christian Ba...</td>\n",
              "      <td>[136]</td>\n",
              "    </tr>\n",
              "    <tr>\n",
              "      <th>265</th>\n",
              "      <td>DECEMBER</td>\n",
              "      <td>25</td>\n",
              "      <td>On the Basis of Sex</td>\n",
              "      <td>Focus Features</td>\n",
              "      <td>Mimi Leder (director); Daniel Stiepleman (scre...</td>\n",
              "      <td>[223]</td>\n",
              "    </tr>\n",
              "    <tr>\n",
              "      <th>266</th>\n",
              "      <td>DECEMBER</td>\n",
              "      <td>25</td>\n",
              "      <td>Destroyer</td>\n",
              "      <td>Annapurna Pictures</td>\n",
              "      <td>Karyn Kusama (director); Phil Hay, Matt Manfre...</td>\n",
              "      <td>[256]</td>\n",
              "    </tr>\n",
              "    <tr>\n",
              "      <th>267</th>\n",
              "      <td>DECEMBER</td>\n",
              "      <td>28</td>\n",
              "      <td>Black Mirror: Bandersnatch</td>\n",
              "      <td>Netflix</td>\n",
              "      <td>David Slade (director); Charlie Brooker (scree...</td>\n",
              "      <td>[257]</td>\n",
              "    </tr>\n",
              "  </tbody>\n",
              "</table>\n",
              "<p>268 rows × 6 columns</p>\n",
              "</div>"
            ],
            "text/plain": [
              "      Opening  ...   Ref.\n",
              "0     JANUARY  ...    [2]\n",
              "1     JANUARY  ...    [3]\n",
              "2     JANUARY  ...    [4]\n",
              "3     JANUARY  ...    [5]\n",
              "4     JANUARY  ...    [6]\n",
              "..        ...  ...    ...\n",
              "263  DECEMBER  ...  [162]\n",
              "264  DECEMBER  ...  [136]\n",
              "265  DECEMBER  ...  [223]\n",
              "266  DECEMBER  ...  [256]\n",
              "267  DECEMBER  ...  [257]\n",
              "\n",
              "[268 rows x 6 columns]"
            ]
          },
          "metadata": {
            "tags": []
          },
          "execution_count": 5
        }
      ]
    },
    {
      "cell_type": "code",
      "metadata": {
        "id": "a1UoydNs9JBh",
        "outputId": "83742e17-878b-45ce-e8a9-4f80e8c2e949",
        "colab": {
          "base_uri": "https://localhost:8080/",
          "height": 186
        }
      },
      "source": [
        "!pip install tmdbv3api"
      ],
      "execution_count": 6,
      "outputs": [
        {
          "output_type": "stream",
          "text": [
            "Collecting tmdbv3api\n",
            "  Downloading https://files.pythonhosted.org/packages/3e/03/e7ae6cb2777876f8d412e45c74abc639c77e1c91a97d73a99d542f4c43b0/tmdbv3api-1.6.2-py2.py3-none-any.whl\n",
            "Requirement already satisfied: requests in /usr/local/lib/python3.6/dist-packages (from tmdbv3api) (2.23.0)\n",
            "Requirement already satisfied: chardet<4,>=3.0.2 in /usr/local/lib/python3.6/dist-packages (from requests->tmdbv3api) (3.0.4)\n",
            "Requirement already satisfied: idna<3,>=2.5 in /usr/local/lib/python3.6/dist-packages (from requests->tmdbv3api) (2.10)\n",
            "Requirement already satisfied: certifi>=2017.4.17 in /usr/local/lib/python3.6/dist-packages (from requests->tmdbv3api) (2020.6.20)\n",
            "Requirement already satisfied: urllib3!=1.25.0,!=1.25.1,<1.26,>=1.21.1 in /usr/local/lib/python3.6/dist-packages (from requests->tmdbv3api) (1.24.3)\n",
            "Installing collected packages: tmdbv3api\n",
            "Successfully installed tmdbv3api-1.6.2\n"
          ],
          "name": "stdout"
        }
      ]
    },
    {
      "cell_type": "code",
      "metadata": {
        "id": "Omug6rtWZrzf"
      },
      "source": [
        "from tmdbv3api import TMDb, Movie\n",
        "import json\n",
        "import requests\n",
        "tmdb = TMDb()\n",
        "tmdb.api_key = '5492165c61b1a21c06eb3a3b578a6339'\n",
        "tmdb_movie = Movie()"
      ],
      "execution_count": 7,
      "outputs": []
    },
    {
      "cell_type": "code",
      "metadata": {
        "id": "gKhVlbVaabLF"
      },
      "source": [
        "def get_genre(x):\n",
        "  genres = []\n",
        "  result = tmdb_movie.search(x)\n",
        "  movie_id = result[0].id\n",
        "  response = requests.get('https://api.themoviedb.org/3/movie/{}?api_key={}'.format(movie_id,tmdb.api_key))\n",
        "  data_json = response.json()\n",
        "  if data_json['genres']:\n",
        "    genre_str = \" \"\n",
        "    for i in range(0,len(data_json['genres'])):\n",
        "      genres.append(data_json['genres'][i]['name'])\n",
        "    return genre_str.join(genres)\n",
        "  else:\n",
        "    np.NaN"
      ],
      "execution_count": 8,
      "outputs": []
    },
    {
      "cell_type": "code",
      "metadata": {
        "id": "vYs_5c3_dmB1",
        "outputId": "45037cf3-c6b4-42a5-e790-307ecbe92b06",
        "colab": {
          "base_uri": "https://localhost:8080/",
          "height": 806
        }
      },
      "source": [
        "df['genres'] = df['Title'].map(lambda x: get_genre(str(x)) )\n",
        "df"
      ],
      "execution_count": 9,
      "outputs": [
        {
          "output_type": "execute_result",
          "data": {
            "text/html": [
              "<div>\n",
              "<style scoped>\n",
              "    .dataframe tbody tr th:only-of-type {\n",
              "        vertical-align: middle;\n",
              "    }\n",
              "\n",
              "    .dataframe tbody tr th {\n",
              "        vertical-align: top;\n",
              "    }\n",
              "\n",
              "    .dataframe thead th {\n",
              "        text-align: right;\n",
              "    }\n",
              "</style>\n",
              "<table border=\"1\" class=\"dataframe\">\n",
              "  <thead>\n",
              "    <tr style=\"text-align: right;\">\n",
              "      <th></th>\n",
              "      <th>Opening</th>\n",
              "      <th>Opening.1</th>\n",
              "      <th>Title</th>\n",
              "      <th>Production company</th>\n",
              "      <th>Cast and crew</th>\n",
              "      <th>Ref.</th>\n",
              "      <th>genres</th>\n",
              "    </tr>\n",
              "  </thead>\n",
              "  <tbody>\n",
              "    <tr>\n",
              "      <th>0</th>\n",
              "      <td>JANUARY</td>\n",
              "      <td>5</td>\n",
              "      <td>Insidious: The Last Key</td>\n",
              "      <td>Universal Pictures / Blumhouse Productions / S...</td>\n",
              "      <td>Adam Robitel (director); Leigh Whannell (scree...</td>\n",
              "      <td>[2]</td>\n",
              "      <td>Mystery Horror Thriller</td>\n",
              "    </tr>\n",
              "    <tr>\n",
              "      <th>1</th>\n",
              "      <td>JANUARY</td>\n",
              "      <td>5</td>\n",
              "      <td>The Strange Ones</td>\n",
              "      <td>Vertical Entertainment</td>\n",
              "      <td>Lauren Wolkstein (director); Christopher Radcl...</td>\n",
              "      <td>[3]</td>\n",
              "      <td>Thriller Drama</td>\n",
              "    </tr>\n",
              "    <tr>\n",
              "      <th>2</th>\n",
              "      <td>JANUARY</td>\n",
              "      <td>5</td>\n",
              "      <td>Stratton</td>\n",
              "      <td>Momentum Pictures</td>\n",
              "      <td>Simon West (director); Duncan Falconer, Warren...</td>\n",
              "      <td>[4]</td>\n",
              "      <td>Action Thriller</td>\n",
              "    </tr>\n",
              "    <tr>\n",
              "      <th>3</th>\n",
              "      <td>JANUARY</td>\n",
              "      <td>10</td>\n",
              "      <td>Sweet Country</td>\n",
              "      <td>Samuel Goldwyn Films</td>\n",
              "      <td>Warwick Thornton (director); David Tranter, St...</td>\n",
              "      <td>[5]</td>\n",
              "      <td>Drama History Western</td>\n",
              "    </tr>\n",
              "    <tr>\n",
              "      <th>4</th>\n",
              "      <td>JANUARY</td>\n",
              "      <td>12</td>\n",
              "      <td>The Commuter</td>\n",
              "      <td>Lionsgate / StudioCanal / The Picture Company</td>\n",
              "      <td>Jaume Collet-Serra (director); Byron Willinger...</td>\n",
              "      <td>[6]</td>\n",
              "      <td>Action Thriller</td>\n",
              "    </tr>\n",
              "    <tr>\n",
              "      <th>...</th>\n",
              "      <td>...</td>\n",
              "      <td>...</td>\n",
              "      <td>...</td>\n",
              "      <td>...</td>\n",
              "      <td>...</td>\n",
              "      <td>...</td>\n",
              "      <td>...</td>\n",
              "    </tr>\n",
              "    <tr>\n",
              "      <th>263</th>\n",
              "      <td>DECEMBER</td>\n",
              "      <td>25</td>\n",
              "      <td>Holmes &amp; Watson</td>\n",
              "      <td>Columbia Pictures / Gary Sanchez Productions</td>\n",
              "      <td>Etan Cohen (director/screenplay); Will Ferrell...</td>\n",
              "      <td>[162]</td>\n",
              "      <td>Mystery Adventure Comedy Crime</td>\n",
              "    </tr>\n",
              "    <tr>\n",
              "      <th>264</th>\n",
              "      <td>DECEMBER</td>\n",
              "      <td>25</td>\n",
              "      <td>Vice</td>\n",
              "      <td>Annapurna Pictures / Plan B Entertainment</td>\n",
              "      <td>Adam McKay (director/screenplay); Christian Ba...</td>\n",
              "      <td>[136]</td>\n",
              "      <td>Thriller Science Fiction Action Adventure</td>\n",
              "    </tr>\n",
              "    <tr>\n",
              "      <th>265</th>\n",
              "      <td>DECEMBER</td>\n",
              "      <td>25</td>\n",
              "      <td>On the Basis of Sex</td>\n",
              "      <td>Focus Features</td>\n",
              "      <td>Mimi Leder (director); Daniel Stiepleman (scre...</td>\n",
              "      <td>[223]</td>\n",
              "      <td>Drama History</td>\n",
              "    </tr>\n",
              "    <tr>\n",
              "      <th>266</th>\n",
              "      <td>DECEMBER</td>\n",
              "      <td>25</td>\n",
              "      <td>Destroyer</td>\n",
              "      <td>Annapurna Pictures</td>\n",
              "      <td>Karyn Kusama (director); Phil Hay, Matt Manfre...</td>\n",
              "      <td>[256]</td>\n",
              "      <td>Thriller Crime Drama Action</td>\n",
              "    </tr>\n",
              "    <tr>\n",
              "      <th>267</th>\n",
              "      <td>DECEMBER</td>\n",
              "      <td>28</td>\n",
              "      <td>Black Mirror: Bandersnatch</td>\n",
              "      <td>Netflix</td>\n",
              "      <td>David Slade (director); Charlie Brooker (scree...</td>\n",
              "      <td>[257]</td>\n",
              "      <td>Science Fiction Mystery Drama Thriller TV Movie</td>\n",
              "    </tr>\n",
              "  </tbody>\n",
              "</table>\n",
              "<p>268 rows × 7 columns</p>\n",
              "</div>"
            ],
            "text/plain": [
              "      Opening  ...                                           genres\n",
              "0     JANUARY  ...                          Mystery Horror Thriller\n",
              "1     JANUARY  ...                                   Thriller Drama\n",
              "2     JANUARY  ...                                  Action Thriller\n",
              "3     JANUARY  ...                            Drama History Western\n",
              "4     JANUARY  ...                                  Action Thriller\n",
              "..        ...  ...                                              ...\n",
              "263  DECEMBER  ...                   Mystery Adventure Comedy Crime\n",
              "264  DECEMBER  ...        Thriller Science Fiction Action Adventure\n",
              "265  DECEMBER  ...                                    Drama History\n",
              "266  DECEMBER  ...                      Thriller Crime Drama Action\n",
              "267  DECEMBER  ...  Science Fiction Mystery Drama Thriller TV Movie\n",
              "\n",
              "[268 rows x 7 columns]"
            ]
          },
          "metadata": {
            "tags": []
          },
          "execution_count": 9
        }
      ]
    },
    {
      "cell_type": "code",
      "metadata": {
        "id": "9c33dsZblmm5",
        "outputId": "52b898e5-5a7c-4970-935b-bfb3a9e3778d",
        "colab": {
          "base_uri": "https://localhost:8080/",
          "height": 573
        }
      },
      "source": [
        "df_2018 = df[['Title', 'Cast and crew','genres']]\n",
        "df_2018"
      ],
      "execution_count": 10,
      "outputs": [
        {
          "output_type": "execute_result",
          "data": {
            "text/html": [
              "<div>\n",
              "<style scoped>\n",
              "    .dataframe tbody tr th:only-of-type {\n",
              "        vertical-align: middle;\n",
              "    }\n",
              "\n",
              "    .dataframe tbody tr th {\n",
              "        vertical-align: top;\n",
              "    }\n",
              "\n",
              "    .dataframe thead th {\n",
              "        text-align: right;\n",
              "    }\n",
              "</style>\n",
              "<table border=\"1\" class=\"dataframe\">\n",
              "  <thead>\n",
              "    <tr style=\"text-align: right;\">\n",
              "      <th></th>\n",
              "      <th>Title</th>\n",
              "      <th>Cast and crew</th>\n",
              "      <th>genres</th>\n",
              "    </tr>\n",
              "  </thead>\n",
              "  <tbody>\n",
              "    <tr>\n",
              "      <th>0</th>\n",
              "      <td>Insidious: The Last Key</td>\n",
              "      <td>Adam Robitel (director); Leigh Whannell (scree...</td>\n",
              "      <td>Mystery Horror Thriller</td>\n",
              "    </tr>\n",
              "    <tr>\n",
              "      <th>1</th>\n",
              "      <td>The Strange Ones</td>\n",
              "      <td>Lauren Wolkstein (director); Christopher Radcl...</td>\n",
              "      <td>Thriller Drama</td>\n",
              "    </tr>\n",
              "    <tr>\n",
              "      <th>2</th>\n",
              "      <td>Stratton</td>\n",
              "      <td>Simon West (director); Duncan Falconer, Warren...</td>\n",
              "      <td>Action Thriller</td>\n",
              "    </tr>\n",
              "    <tr>\n",
              "      <th>3</th>\n",
              "      <td>Sweet Country</td>\n",
              "      <td>Warwick Thornton (director); David Tranter, St...</td>\n",
              "      <td>Drama History Western</td>\n",
              "    </tr>\n",
              "    <tr>\n",
              "      <th>4</th>\n",
              "      <td>The Commuter</td>\n",
              "      <td>Jaume Collet-Serra (director); Byron Willinger...</td>\n",
              "      <td>Action Thriller</td>\n",
              "    </tr>\n",
              "    <tr>\n",
              "      <th>...</th>\n",
              "      <td>...</td>\n",
              "      <td>...</td>\n",
              "      <td>...</td>\n",
              "    </tr>\n",
              "    <tr>\n",
              "      <th>263</th>\n",
              "      <td>Holmes &amp; Watson</td>\n",
              "      <td>Etan Cohen (director/screenplay); Will Ferrell...</td>\n",
              "      <td>Mystery Adventure Comedy Crime</td>\n",
              "    </tr>\n",
              "    <tr>\n",
              "      <th>264</th>\n",
              "      <td>Vice</td>\n",
              "      <td>Adam McKay (director/screenplay); Christian Ba...</td>\n",
              "      <td>Thriller Science Fiction Action Adventure</td>\n",
              "    </tr>\n",
              "    <tr>\n",
              "      <th>265</th>\n",
              "      <td>On the Basis of Sex</td>\n",
              "      <td>Mimi Leder (director); Daniel Stiepleman (scre...</td>\n",
              "      <td>Drama History</td>\n",
              "    </tr>\n",
              "    <tr>\n",
              "      <th>266</th>\n",
              "      <td>Destroyer</td>\n",
              "      <td>Karyn Kusama (director); Phil Hay, Matt Manfre...</td>\n",
              "      <td>Thriller Crime Drama Action</td>\n",
              "    </tr>\n",
              "    <tr>\n",
              "      <th>267</th>\n",
              "      <td>Black Mirror: Bandersnatch</td>\n",
              "      <td>David Slade (director); Charlie Brooker (scree...</td>\n",
              "      <td>Science Fiction Mystery Drama Thriller TV Movie</td>\n",
              "    </tr>\n",
              "  </tbody>\n",
              "</table>\n",
              "<p>268 rows × 3 columns</p>\n",
              "</div>"
            ],
            "text/plain": [
              "                          Title  ...                                           genres\n",
              "0       Insidious: The Last Key  ...                          Mystery Horror Thriller\n",
              "1              The Strange Ones  ...                                   Thriller Drama\n",
              "2                      Stratton  ...                                  Action Thriller\n",
              "3                 Sweet Country  ...                            Drama History Western\n",
              "4                  The Commuter  ...                                  Action Thriller\n",
              "..                          ...  ...                                              ...\n",
              "263             Holmes & Watson  ...                   Mystery Adventure Comedy Crime\n",
              "264                        Vice  ...        Thriller Science Fiction Action Adventure\n",
              "265         On the Basis of Sex  ...                                    Drama History\n",
              "266                   Destroyer  ...                      Thriller Crime Drama Action\n",
              "267  Black Mirror: Bandersnatch  ...  Science Fiction Mystery Drama Thriller TV Movie\n",
              "\n",
              "[268 rows x 3 columns]"
            ]
          },
          "metadata": {
            "tags": []
          },
          "execution_count": 10
        }
      ]
    },
    {
      "cell_type": "code",
      "metadata": {
        "id": "StV7M6gxxNi6",
        "outputId": "e768aee4-faa1-4fc7-e9b6-b5201754d81f",
        "colab": {
          "base_uri": "https://localhost:8080/",
          "height": 51
        }
      },
      "source": [
        "df_2018['Cast and crew'][0] "
      ],
      "execution_count": 11,
      "outputs": [
        {
          "output_type": "execute_result",
          "data": {
            "application/vnd.google.colaboratory.intrinsic+json": {
              "type": "string"
            },
            "text/plain": [
              "'Adam Robitel (director); Leigh Whannell (screenplay); Lin Shaye, Angus Sampson, Leigh Whannell, Spencer Locke, Caitlin Gerard, Kirk Acevedo, Bruce Davison'"
            ]
          },
          "metadata": {
            "tags": []
          },
          "execution_count": 11
        }
      ]
    },
    {
      "cell_type": "code",
      "metadata": {
        "id": "OklE13lg27s6"
      },
      "source": [
        "def get_director(x):\n",
        "  if \" (director)\" in x:\n",
        "    return x.split(\" (director)\")[0]\n",
        "  elif \" (directors)\" in x:\n",
        "    return x.split( \"(directors)\")[0]\n",
        "  else:\n",
        "    return x.split( \"(director/screenplay)\")[0]"
      ],
      "execution_count": 12,
      "outputs": []
    },
    {
      "cell_type": "code",
      "metadata": {
        "id": "EhAgpPKH5JBC",
        "outputId": "72741102-ccc1-484f-cbf7-b480dd3bd37b",
        "colab": {
          "base_uri": "https://localhost:8080/",
          "height": 136
        }
      },
      "source": [
        "df_2018['director_name'] = df_2018['Cast and crew'].map(lambda x: get_director(x))"
      ],
      "execution_count": 13,
      "outputs": [
        {
          "output_type": "stream",
          "text": [
            "/usr/local/lib/python3.6/dist-packages/ipykernel_launcher.py:1: SettingWithCopyWarning: \n",
            "A value is trying to be set on a copy of a slice from a DataFrame.\n",
            "Try using .loc[row_indexer,col_indexer] = value instead\n",
            "\n",
            "See the caveats in the documentation: https://pandas.pydata.org/pandas-docs/stable/user_guide/indexing.html#returning-a-view-versus-a-copy\n",
            "  \"\"\"Entry point for launching an IPython kernel.\n"
          ],
          "name": "stderr"
        }
      ]
    },
    {
      "cell_type": "code",
      "metadata": {
        "id": "n-su-Ioi6qax"
      },
      "source": [
        "def get_actor1(x):\n",
        "  return (x.split(\"screenplay); \")[-1]).split(\", \")[0]"
      ],
      "execution_count": 14,
      "outputs": []
    },
    {
      "cell_type": "code",
      "metadata": {
        "id": "mx6zZdtq8QQi",
        "outputId": "5ae0b891-f597-440f-cec8-4ee0149ef619",
        "colab": {
          "base_uri": "https://localhost:8080/",
          "height": 136
        }
      },
      "source": [
        "df_2018['actor_1_name'] = df_2018['Cast and crew'].map(lambda x: get_actor1(x))"
      ],
      "execution_count": 15,
      "outputs": [
        {
          "output_type": "stream",
          "text": [
            "/usr/local/lib/python3.6/dist-packages/ipykernel_launcher.py:1: SettingWithCopyWarning: \n",
            "A value is trying to be set on a copy of a slice from a DataFrame.\n",
            "Try using .loc[row_indexer,col_indexer] = value instead\n",
            "\n",
            "See the caveats in the documentation: https://pandas.pydata.org/pandas-docs/stable/user_guide/indexing.html#returning-a-view-versus-a-copy\n",
            "  \"\"\"Entry point for launching an IPython kernel.\n"
          ],
          "name": "stderr"
        }
      ]
    },
    {
      "cell_type": "code",
      "metadata": {
        "id": "WWInIfWf9iJU",
        "outputId": "ae163ed4-8e3a-418a-81b8-f71337fa1735",
        "colab": {
          "base_uri": "https://localhost:8080/",
          "height": 187
        }
      },
      "source": [
        "df_2018.loc[0:2,:]\n"
      ],
      "execution_count": 16,
      "outputs": [
        {
          "output_type": "execute_result",
          "data": {
            "text/html": [
              "<div>\n",
              "<style scoped>\n",
              "    .dataframe tbody tr th:only-of-type {\n",
              "        vertical-align: middle;\n",
              "    }\n",
              "\n",
              "    .dataframe tbody tr th {\n",
              "        vertical-align: top;\n",
              "    }\n",
              "\n",
              "    .dataframe thead th {\n",
              "        text-align: right;\n",
              "    }\n",
              "</style>\n",
              "<table border=\"1\" class=\"dataframe\">\n",
              "  <thead>\n",
              "    <tr style=\"text-align: right;\">\n",
              "      <th></th>\n",
              "      <th>Title</th>\n",
              "      <th>Cast and crew</th>\n",
              "      <th>genres</th>\n",
              "      <th>director_name</th>\n",
              "      <th>actor_1_name</th>\n",
              "    </tr>\n",
              "  </thead>\n",
              "  <tbody>\n",
              "    <tr>\n",
              "      <th>0</th>\n",
              "      <td>Insidious: The Last Key</td>\n",
              "      <td>Adam Robitel (director); Leigh Whannell (scree...</td>\n",
              "      <td>Mystery Horror Thriller</td>\n",
              "      <td>Adam Robitel</td>\n",
              "      <td>Lin Shaye</td>\n",
              "    </tr>\n",
              "    <tr>\n",
              "      <th>1</th>\n",
              "      <td>The Strange Ones</td>\n",
              "      <td>Lauren Wolkstein (director); Christopher Radcl...</td>\n",
              "      <td>Thriller Drama</td>\n",
              "      <td>Lauren Wolkstein</td>\n",
              "      <td>Alex Pettyfer</td>\n",
              "    </tr>\n",
              "    <tr>\n",
              "      <th>2</th>\n",
              "      <td>Stratton</td>\n",
              "      <td>Simon West (director); Duncan Falconer, Warren...</td>\n",
              "      <td>Action Thriller</td>\n",
              "      <td>Simon West</td>\n",
              "      <td>Dominic Cooper</td>\n",
              "    </tr>\n",
              "  </tbody>\n",
              "</table>\n",
              "</div>"
            ],
            "text/plain": [
              "                     Title  ...    actor_1_name\n",
              "0  Insidious: The Last Key  ...       Lin Shaye\n",
              "1         The Strange Ones  ...   Alex Pettyfer\n",
              "2                 Stratton  ...  Dominic Cooper\n",
              "\n",
              "[3 rows x 5 columns]"
            ]
          },
          "metadata": {
            "tags": []
          },
          "execution_count": 16
        }
      ]
    },
    {
      "cell_type": "code",
      "metadata": {
        "id": "f5QHazfo9wpx"
      },
      "source": [
        "def get_actor2(x):\n",
        "  if len((x.split(\"screenplay); \")[-1]).split(\", \"))<2:\n",
        "    return np.NaN\n",
        "  else:\n",
        "    return (x.split(\"screenplay); \")[-1]).split(\", \")[1]\n"
      ],
      "execution_count": 17,
      "outputs": []
    },
    {
      "cell_type": "code",
      "metadata": {
        "id": "rOmeM30H_wwp",
        "outputId": "4fd0201d-e7db-468e-c468-582bdfd187df",
        "colab": {
          "base_uri": "https://localhost:8080/",
          "height": 136
        }
      },
      "source": [
        "df_2018['actor_2_name'] = df_2018['Cast and crew'].map(lambda x: get_actor2(x))"
      ],
      "execution_count": 18,
      "outputs": [
        {
          "output_type": "stream",
          "text": [
            "/usr/local/lib/python3.6/dist-packages/ipykernel_launcher.py:1: SettingWithCopyWarning: \n",
            "A value is trying to be set on a copy of a slice from a DataFrame.\n",
            "Try using .loc[row_indexer,col_indexer] = value instead\n",
            "\n",
            "See the caveats in the documentation: https://pandas.pydata.org/pandas-docs/stable/user_guide/indexing.html#returning-a-view-versus-a-copy\n",
            "  \"\"\"Entry point for launching an IPython kernel.\n"
          ],
          "name": "stderr"
        }
      ]
    },
    {
      "cell_type": "code",
      "metadata": {
        "id": "YK1gugry81hk",
        "outputId": "76c37723-8fb1-4fe9-9b9d-27fa7fb95418",
        "colab": {
          "base_uri": "https://localhost:8080/",
          "height": 204
        }
      },
      "source": [
        "df_2018.loc[0:2, : ]"
      ],
      "execution_count": 19,
      "outputs": [
        {
          "output_type": "execute_result",
          "data": {
            "text/html": [
              "<div>\n",
              "<style scoped>\n",
              "    .dataframe tbody tr th:only-of-type {\n",
              "        vertical-align: middle;\n",
              "    }\n",
              "\n",
              "    .dataframe tbody tr th {\n",
              "        vertical-align: top;\n",
              "    }\n",
              "\n",
              "    .dataframe thead th {\n",
              "        text-align: right;\n",
              "    }\n",
              "</style>\n",
              "<table border=\"1\" class=\"dataframe\">\n",
              "  <thead>\n",
              "    <tr style=\"text-align: right;\">\n",
              "      <th></th>\n",
              "      <th>Title</th>\n",
              "      <th>Cast and crew</th>\n",
              "      <th>genres</th>\n",
              "      <th>director_name</th>\n",
              "      <th>actor_1_name</th>\n",
              "      <th>actor_2_name</th>\n",
              "    </tr>\n",
              "  </thead>\n",
              "  <tbody>\n",
              "    <tr>\n",
              "      <th>0</th>\n",
              "      <td>Insidious: The Last Key</td>\n",
              "      <td>Adam Robitel (director); Leigh Whannell (scree...</td>\n",
              "      <td>Mystery Horror Thriller</td>\n",
              "      <td>Adam Robitel</td>\n",
              "      <td>Lin Shaye</td>\n",
              "      <td>Angus Sampson</td>\n",
              "    </tr>\n",
              "    <tr>\n",
              "      <th>1</th>\n",
              "      <td>The Strange Ones</td>\n",
              "      <td>Lauren Wolkstein (director); Christopher Radcl...</td>\n",
              "      <td>Thriller Drama</td>\n",
              "      <td>Lauren Wolkstein</td>\n",
              "      <td>Alex Pettyfer</td>\n",
              "      <td>James Freedson-Jackson</td>\n",
              "    </tr>\n",
              "    <tr>\n",
              "      <th>2</th>\n",
              "      <td>Stratton</td>\n",
              "      <td>Simon West (director); Duncan Falconer, Warren...</td>\n",
              "      <td>Action Thriller</td>\n",
              "      <td>Simon West</td>\n",
              "      <td>Dominic Cooper</td>\n",
              "      <td>Austin Stowell</td>\n",
              "    </tr>\n",
              "  </tbody>\n",
              "</table>\n",
              "</div>"
            ],
            "text/plain": [
              "                     Title  ...            actor_2_name\n",
              "0  Insidious: The Last Key  ...           Angus Sampson\n",
              "1         The Strange Ones  ...  James Freedson-Jackson\n",
              "2                 Stratton  ...          Austin Stowell\n",
              "\n",
              "[3 rows x 6 columns]"
            ]
          },
          "metadata": {
            "tags": []
          },
          "execution_count": 19
        }
      ]
    },
    {
      "cell_type": "code",
      "metadata": {
        "id": "uLi9MgAg9Ego"
      },
      "source": [
        "def get_actor3(x):\n",
        "  if len((x.split(\"screenplay); \")[-1]).split(\", \"))<3:\n",
        "    return np.NaN\n",
        "  else:\n",
        "    return (x.split(\"screenplay); \")[-1]).split(\", \")[2]"
      ],
      "execution_count": 20,
      "outputs": []
    },
    {
      "cell_type": "code",
      "metadata": {
        "id": "y7A-7f1G-mDK"
      },
      "source": [
        "df_2018['actor_3_name'] = df_2018['Cast and crew'].map(lambda x: get_actor3(x))"
      ],
      "execution_count": 21,
      "outputs": []
    },
    {
      "cell_type": "code",
      "metadata": {
        "id": "hRcKRHSQ9FMa",
        "outputId": "bb792d1e-f743-4209-d243-505286bdb120",
        "colab": {
          "base_uri": "https://localhost:8080/",
          "height": 237
        }
      },
      "source": [
        "df_2018.loc[0:2, :]"
      ],
      "execution_count": 22,
      "outputs": [
        {
          "output_type": "execute_result",
          "data": {
            "text/html": [
              "<div>\n",
              "<style scoped>\n",
              "    .dataframe tbody tr th:only-of-type {\n",
              "        vertical-align: middle;\n",
              "    }\n",
              "\n",
              "    .dataframe tbody tr th {\n",
              "        vertical-align: top;\n",
              "    }\n",
              "\n",
              "    .dataframe thead th {\n",
              "        text-align: right;\n",
              "    }\n",
              "</style>\n",
              "<table border=\"1\" class=\"dataframe\">\n",
              "  <thead>\n",
              "    <tr style=\"text-align: right;\">\n",
              "      <th></th>\n",
              "      <th>Title</th>\n",
              "      <th>Cast and crew</th>\n",
              "      <th>genres</th>\n",
              "      <th>director_name</th>\n",
              "      <th>actor_1_name</th>\n",
              "      <th>actor_2_name</th>\n",
              "      <th>actor_3_name</th>\n",
              "    </tr>\n",
              "  </thead>\n",
              "  <tbody>\n",
              "    <tr>\n",
              "      <th>0</th>\n",
              "      <td>Insidious: The Last Key</td>\n",
              "      <td>Adam Robitel (director); Leigh Whannell (scree...</td>\n",
              "      <td>Mystery Horror Thriller</td>\n",
              "      <td>Adam Robitel</td>\n",
              "      <td>Lin Shaye</td>\n",
              "      <td>Angus Sampson</td>\n",
              "      <td>Leigh Whannell</td>\n",
              "    </tr>\n",
              "    <tr>\n",
              "      <th>1</th>\n",
              "      <td>The Strange Ones</td>\n",
              "      <td>Lauren Wolkstein (director); Christopher Radcl...</td>\n",
              "      <td>Thriller Drama</td>\n",
              "      <td>Lauren Wolkstein</td>\n",
              "      <td>Alex Pettyfer</td>\n",
              "      <td>James Freedson-Jackson</td>\n",
              "      <td>Emily Althaus</td>\n",
              "    </tr>\n",
              "    <tr>\n",
              "      <th>2</th>\n",
              "      <td>Stratton</td>\n",
              "      <td>Simon West (director); Duncan Falconer, Warren...</td>\n",
              "      <td>Action Thriller</td>\n",
              "      <td>Simon West</td>\n",
              "      <td>Dominic Cooper</td>\n",
              "      <td>Austin Stowell</td>\n",
              "      <td>Gemma Chan</td>\n",
              "    </tr>\n",
              "  </tbody>\n",
              "</table>\n",
              "</div>"
            ],
            "text/plain": [
              "                     Title  ...    actor_3_name\n",
              "0  Insidious: The Last Key  ...  Leigh Whannell\n",
              "1         The Strange Ones  ...   Emily Althaus\n",
              "2                 Stratton  ...      Gemma Chan\n",
              "\n",
              "[3 rows x 7 columns]"
            ]
          },
          "metadata": {
            "tags": []
          },
          "execution_count": 22
        }
      ]
    },
    {
      "cell_type": "code",
      "metadata": {
        "id": "yUT-B9F39FnK"
      },
      "source": [
        "df_2018 = df_2018.rename(columns={\"Title\" : \"movie_title\"})"
      ],
      "execution_count": 23,
      "outputs": []
    },
    {
      "cell_type": "code",
      "metadata": {
        "id": "5F6T-FbPARn6"
      },
      "source": [
        "new_df18 = df_2018.loc[:,['director_name','actor_1_name','actor_2_name','actor_3_name','genres','movie_title']]"
      ],
      "execution_count": 24,
      "outputs": []
    },
    {
      "cell_type": "code",
      "metadata": {
        "id": "SXT92h6GAR97",
        "outputId": "854a3365-a474-4583-e27f-eaf4a028337c",
        "colab": {
          "base_uri": "https://localhost:8080/",
          "height": 590
        }
      },
      "source": [
        "new_df18"
      ],
      "execution_count": 25,
      "outputs": [
        {
          "output_type": "execute_result",
          "data": {
            "text/html": [
              "<div>\n",
              "<style scoped>\n",
              "    .dataframe tbody tr th:only-of-type {\n",
              "        vertical-align: middle;\n",
              "    }\n",
              "\n",
              "    .dataframe tbody tr th {\n",
              "        vertical-align: top;\n",
              "    }\n",
              "\n",
              "    .dataframe thead th {\n",
              "        text-align: right;\n",
              "    }\n",
              "</style>\n",
              "<table border=\"1\" class=\"dataframe\">\n",
              "  <thead>\n",
              "    <tr style=\"text-align: right;\">\n",
              "      <th></th>\n",
              "      <th>director_name</th>\n",
              "      <th>actor_1_name</th>\n",
              "      <th>actor_2_name</th>\n",
              "      <th>actor_3_name</th>\n",
              "      <th>genres</th>\n",
              "      <th>movie_title</th>\n",
              "    </tr>\n",
              "  </thead>\n",
              "  <tbody>\n",
              "    <tr>\n",
              "      <th>0</th>\n",
              "      <td>Adam Robitel</td>\n",
              "      <td>Lin Shaye</td>\n",
              "      <td>Angus Sampson</td>\n",
              "      <td>Leigh Whannell</td>\n",
              "      <td>Mystery Horror Thriller</td>\n",
              "      <td>Insidious: The Last Key</td>\n",
              "    </tr>\n",
              "    <tr>\n",
              "      <th>1</th>\n",
              "      <td>Lauren Wolkstein</td>\n",
              "      <td>Alex Pettyfer</td>\n",
              "      <td>James Freedson-Jackson</td>\n",
              "      <td>Emily Althaus</td>\n",
              "      <td>Thriller Drama</td>\n",
              "      <td>The Strange Ones</td>\n",
              "    </tr>\n",
              "    <tr>\n",
              "      <th>2</th>\n",
              "      <td>Simon West</td>\n",
              "      <td>Dominic Cooper</td>\n",
              "      <td>Austin Stowell</td>\n",
              "      <td>Gemma Chan</td>\n",
              "      <td>Action Thriller</td>\n",
              "      <td>Stratton</td>\n",
              "    </tr>\n",
              "    <tr>\n",
              "      <th>3</th>\n",
              "      <td>Warwick Thornton</td>\n",
              "      <td>Bryan Brown</td>\n",
              "      <td>Sam Neill</td>\n",
              "      <td>NaN</td>\n",
              "      <td>Drama History Western</td>\n",
              "      <td>Sweet Country</td>\n",
              "    </tr>\n",
              "    <tr>\n",
              "      <th>4</th>\n",
              "      <td>Jaume Collet-Serra</td>\n",
              "      <td>Liam Neeson</td>\n",
              "      <td>Vera Farmiga</td>\n",
              "      <td>Patrick Wilson</td>\n",
              "      <td>Action Thriller</td>\n",
              "      <td>The Commuter</td>\n",
              "    </tr>\n",
              "    <tr>\n",
              "      <th>...</th>\n",
              "      <td>...</td>\n",
              "      <td>...</td>\n",
              "      <td>...</td>\n",
              "      <td>...</td>\n",
              "      <td>...</td>\n",
              "      <td>...</td>\n",
              "    </tr>\n",
              "    <tr>\n",
              "      <th>263</th>\n",
              "      <td>Etan Cohen</td>\n",
              "      <td>Will Ferrell</td>\n",
              "      <td>John C. Reilly</td>\n",
              "      <td>Rebecca Hall</td>\n",
              "      <td>Mystery Adventure Comedy Crime</td>\n",
              "      <td>Holmes &amp; Watson</td>\n",
              "    </tr>\n",
              "    <tr>\n",
              "      <th>264</th>\n",
              "      <td>Adam McKay</td>\n",
              "      <td>Christian Bale</td>\n",
              "      <td>Amy Adams</td>\n",
              "      <td>Steve Carell</td>\n",
              "      <td>Thriller Science Fiction Action Adventure</td>\n",
              "      <td>Vice</td>\n",
              "    </tr>\n",
              "    <tr>\n",
              "      <th>265</th>\n",
              "      <td>Mimi Leder</td>\n",
              "      <td>Felicity Jones</td>\n",
              "      <td>Armie Hammer</td>\n",
              "      <td>Justin Theroux</td>\n",
              "      <td>Drama History</td>\n",
              "      <td>On the Basis of Sex</td>\n",
              "    </tr>\n",
              "    <tr>\n",
              "      <th>266</th>\n",
              "      <td>Karyn Kusama</td>\n",
              "      <td>Nicole Kidman</td>\n",
              "      <td>Sebastian Stan</td>\n",
              "      <td>Toby Kebbell</td>\n",
              "      <td>Thriller Crime Drama Action</td>\n",
              "      <td>Destroyer</td>\n",
              "    </tr>\n",
              "    <tr>\n",
              "      <th>267</th>\n",
              "      <td>David Slade</td>\n",
              "      <td>Fionn Whitehead</td>\n",
              "      <td>Will Poulter</td>\n",
              "      <td>Asim Chaudhry</td>\n",
              "      <td>Science Fiction Mystery Drama Thriller TV Movie</td>\n",
              "      <td>Black Mirror: Bandersnatch</td>\n",
              "    </tr>\n",
              "  </tbody>\n",
              "</table>\n",
              "<p>268 rows × 6 columns</p>\n",
              "</div>"
            ],
            "text/plain": [
              "          director_name  ...                 movie_title\n",
              "0          Adam Robitel  ...     Insidious: The Last Key\n",
              "1      Lauren Wolkstein  ...            The Strange Ones\n",
              "2            Simon West  ...                    Stratton\n",
              "3      Warwick Thornton  ...               Sweet Country\n",
              "4    Jaume Collet-Serra  ...                The Commuter\n",
              "..                  ...  ...                         ...\n",
              "263         Etan Cohen   ...             Holmes & Watson\n",
              "264         Adam McKay   ...                        Vice\n",
              "265          Mimi Leder  ...         On the Basis of Sex\n",
              "266        Karyn Kusama  ...                   Destroyer\n",
              "267         David Slade  ...  Black Mirror: Bandersnatch\n",
              "\n",
              "[268 rows x 6 columns]"
            ]
          },
          "metadata": {
            "tags": []
          },
          "execution_count": 25
        }
      ]
    },
    {
      "cell_type": "code",
      "metadata": {
        "id": "coY7zTZkARYs"
      },
      "source": [
        "new_df18['actor_2_name'] = new_df18['actor_2_name'].replace(np.nan,'unknown')"
      ],
      "execution_count": 26,
      "outputs": []
    },
    {
      "cell_type": "code",
      "metadata": {
        "id": "_zVr25MJClmp"
      },
      "source": [
        "new_df18['actor_3_name'] = new_df18['actor_3_name'].replace(np.nan,'unknown')"
      ],
      "execution_count": 27,
      "outputs": []
    },
    {
      "cell_type": "code",
      "metadata": {
        "id": "u2XsysvoC9kJ"
      },
      "source": [
        "new_df18['movie_title'] = new_df18['movie_title'].str.lower()"
      ],
      "execution_count": 28,
      "outputs": []
    },
    {
      "cell_type": "code",
      "metadata": {
        "id": "d-lozVvtDnxy"
      },
      "source": [
        "new_df18['comb'] = new_df18['actor_1_name'] + ' ' + new_df18['actor_2_name'] + ' ' + new_df18['actor_3_name'] + ' ' + new_df18['director_name'] "
      ],
      "execution_count": 29,
      "outputs": []
    },
    {
      "cell_type": "code",
      "metadata": {
        "id": "HAEh3ldnDoMQ",
        "outputId": "464aa4ae-bee3-45c0-abb7-fe6956729f2d",
        "colab": {
          "base_uri": "https://localhost:8080/",
          "height": 1000
        }
      },
      "source": [
        "new_df18"
      ],
      "execution_count": 30,
      "outputs": [
        {
          "output_type": "execute_result",
          "data": {
            "text/html": [
              "<div>\n",
              "<style scoped>\n",
              "    .dataframe tbody tr th:only-of-type {\n",
              "        vertical-align: middle;\n",
              "    }\n",
              "\n",
              "    .dataframe tbody tr th {\n",
              "        vertical-align: top;\n",
              "    }\n",
              "\n",
              "    .dataframe thead th {\n",
              "        text-align: right;\n",
              "    }\n",
              "</style>\n",
              "<table border=\"1\" class=\"dataframe\">\n",
              "  <thead>\n",
              "    <tr style=\"text-align: right;\">\n",
              "      <th></th>\n",
              "      <th>director_name</th>\n",
              "      <th>actor_1_name</th>\n",
              "      <th>actor_2_name</th>\n",
              "      <th>actor_3_name</th>\n",
              "      <th>genres</th>\n",
              "      <th>movie_title</th>\n",
              "      <th>comb</th>\n",
              "    </tr>\n",
              "  </thead>\n",
              "  <tbody>\n",
              "    <tr>\n",
              "      <th>0</th>\n",
              "      <td>Adam Robitel</td>\n",
              "      <td>Lin Shaye</td>\n",
              "      <td>Angus Sampson</td>\n",
              "      <td>Leigh Whannell</td>\n",
              "      <td>Mystery Horror Thriller</td>\n",
              "      <td>insidious: the last key</td>\n",
              "      <td>Lin Shaye Angus Sampson Leigh Whannell Adam Ro...</td>\n",
              "    </tr>\n",
              "    <tr>\n",
              "      <th>1</th>\n",
              "      <td>Lauren Wolkstein</td>\n",
              "      <td>Alex Pettyfer</td>\n",
              "      <td>James Freedson-Jackson</td>\n",
              "      <td>Emily Althaus</td>\n",
              "      <td>Thriller Drama</td>\n",
              "      <td>the strange ones</td>\n",
              "      <td>Alex Pettyfer James Freedson-Jackson Emily Alt...</td>\n",
              "    </tr>\n",
              "    <tr>\n",
              "      <th>2</th>\n",
              "      <td>Simon West</td>\n",
              "      <td>Dominic Cooper</td>\n",
              "      <td>Austin Stowell</td>\n",
              "      <td>Gemma Chan</td>\n",
              "      <td>Action Thriller</td>\n",
              "      <td>stratton</td>\n",
              "      <td>Dominic Cooper Austin Stowell Gemma Chan Simon...</td>\n",
              "    </tr>\n",
              "    <tr>\n",
              "      <th>3</th>\n",
              "      <td>Warwick Thornton</td>\n",
              "      <td>Bryan Brown</td>\n",
              "      <td>Sam Neill</td>\n",
              "      <td>unknown</td>\n",
              "      <td>Drama History Western</td>\n",
              "      <td>sweet country</td>\n",
              "      <td>Bryan Brown Sam Neill unknown Warwick Thornton</td>\n",
              "    </tr>\n",
              "    <tr>\n",
              "      <th>4</th>\n",
              "      <td>Jaume Collet-Serra</td>\n",
              "      <td>Liam Neeson</td>\n",
              "      <td>Vera Farmiga</td>\n",
              "      <td>Patrick Wilson</td>\n",
              "      <td>Action Thriller</td>\n",
              "      <td>the commuter</td>\n",
              "      <td>Liam Neeson Vera Farmiga Patrick Wilson Jaume ...</td>\n",
              "    </tr>\n",
              "    <tr>\n",
              "      <th>...</th>\n",
              "      <td>...</td>\n",
              "      <td>...</td>\n",
              "      <td>...</td>\n",
              "      <td>...</td>\n",
              "      <td>...</td>\n",
              "      <td>...</td>\n",
              "      <td>...</td>\n",
              "    </tr>\n",
              "    <tr>\n",
              "      <th>263</th>\n",
              "      <td>Etan Cohen</td>\n",
              "      <td>Will Ferrell</td>\n",
              "      <td>John C. Reilly</td>\n",
              "      <td>Rebecca Hall</td>\n",
              "      <td>Mystery Adventure Comedy Crime</td>\n",
              "      <td>holmes &amp; watson</td>\n",
              "      <td>Will Ferrell John C. Reilly Rebecca Hall Etan ...</td>\n",
              "    </tr>\n",
              "    <tr>\n",
              "      <th>264</th>\n",
              "      <td>Adam McKay</td>\n",
              "      <td>Christian Bale</td>\n",
              "      <td>Amy Adams</td>\n",
              "      <td>Steve Carell</td>\n",
              "      <td>Thriller Science Fiction Action Adventure</td>\n",
              "      <td>vice</td>\n",
              "      <td>Christian Bale Amy Adams Steve Carell Adam McKay</td>\n",
              "    </tr>\n",
              "    <tr>\n",
              "      <th>265</th>\n",
              "      <td>Mimi Leder</td>\n",
              "      <td>Felicity Jones</td>\n",
              "      <td>Armie Hammer</td>\n",
              "      <td>Justin Theroux</td>\n",
              "      <td>Drama History</td>\n",
              "      <td>on the basis of sex</td>\n",
              "      <td>Felicity Jones Armie Hammer Justin Theroux Mim...</td>\n",
              "    </tr>\n",
              "    <tr>\n",
              "      <th>266</th>\n",
              "      <td>Karyn Kusama</td>\n",
              "      <td>Nicole Kidman</td>\n",
              "      <td>Sebastian Stan</td>\n",
              "      <td>Toby Kebbell</td>\n",
              "      <td>Thriller Crime Drama Action</td>\n",
              "      <td>destroyer</td>\n",
              "      <td>Nicole Kidman Sebastian Stan Toby Kebbell Kary...</td>\n",
              "    </tr>\n",
              "    <tr>\n",
              "      <th>267</th>\n",
              "      <td>David Slade</td>\n",
              "      <td>Fionn Whitehead</td>\n",
              "      <td>Will Poulter</td>\n",
              "      <td>Asim Chaudhry</td>\n",
              "      <td>Science Fiction Mystery Drama Thriller TV Movie</td>\n",
              "      <td>black mirror: bandersnatch</td>\n",
              "      <td>Fionn Whitehead Will Poulter Asim Chaudhry Dav...</td>\n",
              "    </tr>\n",
              "  </tbody>\n",
              "</table>\n",
              "<p>268 rows × 7 columns</p>\n",
              "</div>"
            ],
            "text/plain": [
              "          director_name  ...                                               comb\n",
              "0          Adam Robitel  ...  Lin Shaye Angus Sampson Leigh Whannell Adam Ro...\n",
              "1      Lauren Wolkstein  ...  Alex Pettyfer James Freedson-Jackson Emily Alt...\n",
              "2            Simon West  ...  Dominic Cooper Austin Stowell Gemma Chan Simon...\n",
              "3      Warwick Thornton  ...     Bryan Brown Sam Neill unknown Warwick Thornton\n",
              "4    Jaume Collet-Serra  ...  Liam Neeson Vera Farmiga Patrick Wilson Jaume ...\n",
              "..                  ...  ...                                                ...\n",
              "263         Etan Cohen   ...  Will Ferrell John C. Reilly Rebecca Hall Etan ...\n",
              "264         Adam McKay   ...  Christian Bale Amy Adams Steve Carell Adam McKay \n",
              "265          Mimi Leder  ...  Felicity Jones Armie Hammer Justin Theroux Mim...\n",
              "266        Karyn Kusama  ...  Nicole Kidman Sebastian Stan Toby Kebbell Kary...\n",
              "267         David Slade  ...  Fionn Whitehead Will Poulter Asim Chaudhry Dav...\n",
              "\n",
              "[268 rows x 7 columns]"
            ]
          },
          "metadata": {
            "tags": []
          },
          "execution_count": 30
        }
      ]
    },
    {
      "cell_type": "markdown",
      "metadata": {
        "id": "_iU_k2gcE_fN"
      },
      "source": [
        "**<h1>Extracting features of 2019 movies from Wikipedia</h1>**"
      ]
    },
    {
      "cell_type": "code",
      "metadata": {
        "id": "iFUULjHzDngg"
      },
      "source": [
        "link = \"https://en.wikipedia.org/wiki/List_of_American_films_of_2019\""
      ],
      "execution_count": 31,
      "outputs": []
    },
    {
      "cell_type": "code",
      "metadata": {
        "id": "3oPkALb_E_8m"
      },
      "source": [
        "df1 = pd.read_html(link, header=0)[3]\n",
        "df2 = pd.read_html(link, header=0)[4]\n",
        "df3 = pd.read_html(link, header=0)[5]\n",
        "df4 = pd.read_html(link, header=0)[6]"
      ],
      "execution_count": 32,
      "outputs": []
    },
    {
      "cell_type": "code",
      "metadata": {
        "id": "ujeadEE_FDm0"
      },
      "source": [
        "df = df1.append(df2.append(df3.append(df4,ignore_index=True),ignore_index=True),ignore_index=True)"
      ],
      "execution_count": 33,
      "outputs": []
    },
    {
      "cell_type": "code",
      "metadata": {
        "id": "ikunMw57Gfdj",
        "outputId": "521fd38e-c48c-49ad-b1c8-3b0817595445",
        "colab": {
          "base_uri": "https://localhost:8080/",
          "height": 623
        }
      },
      "source": [
        "df"
      ],
      "execution_count": 34,
      "outputs": [
        {
          "output_type": "execute_result",
          "data": {
            "text/html": [
              "<div>\n",
              "<style scoped>\n",
              "    .dataframe tbody tr th:only-of-type {\n",
              "        vertical-align: middle;\n",
              "    }\n",
              "\n",
              "    .dataframe tbody tr th {\n",
              "        vertical-align: top;\n",
              "    }\n",
              "\n",
              "    .dataframe thead th {\n",
              "        text-align: right;\n",
              "    }\n",
              "</style>\n",
              "<table border=\"1\" class=\"dataframe\">\n",
              "  <thead>\n",
              "    <tr style=\"text-align: right;\">\n",
              "      <th></th>\n",
              "      <th>Opening</th>\n",
              "      <th>Opening.1</th>\n",
              "      <th>Title</th>\n",
              "      <th>Production company</th>\n",
              "      <th>Cast and crew</th>\n",
              "      <th>Ref.</th>\n",
              "    </tr>\n",
              "  </thead>\n",
              "  <tbody>\n",
              "    <tr>\n",
              "      <th>0</th>\n",
              "      <td>JANUARY</td>\n",
              "      <td>4</td>\n",
              "      <td>Escape Room</td>\n",
              "      <td>Columbia Pictures</td>\n",
              "      <td>Adam Robitel (director); Bragi F. Schut, Maria...</td>\n",
              "      <td>[2]</td>\n",
              "    </tr>\n",
              "    <tr>\n",
              "      <th>1</th>\n",
              "      <td>JANUARY</td>\n",
              "      <td>4</td>\n",
              "      <td>Rust Creek</td>\n",
              "      <td>IFC Films</td>\n",
              "      <td>Jen McGowan (director); Julie Lipson (screenpl...</td>\n",
              "      <td>[3]</td>\n",
              "    </tr>\n",
              "    <tr>\n",
              "      <th>2</th>\n",
              "      <td>JANUARY</td>\n",
              "      <td>4</td>\n",
              "      <td>American Hangman</td>\n",
              "      <td>Hangman Justice Productions</td>\n",
              "      <td>Wilson Coneybeare (director/screenplay); Donal...</td>\n",
              "      <td>[4]</td>\n",
              "    </tr>\n",
              "    <tr>\n",
              "      <th>3</th>\n",
              "      <td>JANUARY</td>\n",
              "      <td>11</td>\n",
              "      <td>A Dog's Way Home</td>\n",
              "      <td>Columbia Pictures</td>\n",
              "      <td>Charles Martin Smith (director); W. Bruce Came...</td>\n",
              "      <td>[5]</td>\n",
              "    </tr>\n",
              "    <tr>\n",
              "      <th>4</th>\n",
              "      <td>JANUARY</td>\n",
              "      <td>11</td>\n",
              "      <td>The Upside</td>\n",
              "      <td>STX Entertainment</td>\n",
              "      <td>Neil Burger (director); Jon Hartmere (screenpl...</td>\n",
              "      <td>[6]</td>\n",
              "    </tr>\n",
              "    <tr>\n",
              "      <th>...</th>\n",
              "      <td>...</td>\n",
              "      <td>...</td>\n",
              "      <td>...</td>\n",
              "      <td>...</td>\n",
              "      <td>...</td>\n",
              "      <td>...</td>\n",
              "    </tr>\n",
              "    <tr>\n",
              "      <th>236</th>\n",
              "      <td>DECEMBER</td>\n",
              "      <td>25</td>\n",
              "      <td>Little Women</td>\n",
              "      <td>Columbia Pictures / Regency Enterprises</td>\n",
              "      <td>Greta Gerwig (director/screenplay); Saoirse Ro...</td>\n",
              "      <td>[222]</td>\n",
              "    </tr>\n",
              "    <tr>\n",
              "      <th>237</th>\n",
              "      <td>DECEMBER</td>\n",
              "      <td>25</td>\n",
              "      <td>1917</td>\n",
              "      <td>Universal Pictures / DreamWorks Pictures / Ent...</td>\n",
              "      <td>Sam Mendes (director/screenplay); Krysty Wilso...</td>\n",
              "      <td>[223]</td>\n",
              "    </tr>\n",
              "    <tr>\n",
              "      <th>238</th>\n",
              "      <td>DECEMBER</td>\n",
              "      <td>25</td>\n",
              "      <td>Just Mercy</td>\n",
              "      <td>Warner Bros. Pictures / Participant Media</td>\n",
              "      <td>Destin Daniel Cretton (director/screenplay), A...</td>\n",
              "      <td>[224]</td>\n",
              "    </tr>\n",
              "    <tr>\n",
              "      <th>239</th>\n",
              "      <td>DECEMBER</td>\n",
              "      <td>27</td>\n",
              "      <td>Clemency</td>\n",
              "      <td>Neon</td>\n",
              "      <td>Chinonye Chukwu (director/screenplay); Alfre W...</td>\n",
              "      <td>[225]</td>\n",
              "    </tr>\n",
              "    <tr>\n",
              "      <th>240</th>\n",
              "      <td>DECEMBER</td>\n",
              "      <td>27</td>\n",
              "      <td>Apparition</td>\n",
              "      <td>Vertical Pictures</td>\n",
              "      <td>Waymon Boone (director/screenplay); Mena Suvar...</td>\n",
              "      <td>[226]</td>\n",
              "    </tr>\n",
              "  </tbody>\n",
              "</table>\n",
              "<p>241 rows × 6 columns</p>\n",
              "</div>"
            ],
            "text/plain": [
              "      Opening  ...   Ref.\n",
              "0     JANUARY  ...    [2]\n",
              "1     JANUARY  ...    [3]\n",
              "2     JANUARY  ...    [4]\n",
              "3     JANUARY  ...    [5]\n",
              "4     JANUARY  ...    [6]\n",
              "..        ...  ...    ...\n",
              "236  DECEMBER  ...  [222]\n",
              "237  DECEMBER  ...  [223]\n",
              "238  DECEMBER  ...  [224]\n",
              "239  DECEMBER  ...  [225]\n",
              "240  DECEMBER  ...  [226]\n",
              "\n",
              "[241 rows x 6 columns]"
            ]
          },
          "metadata": {
            "tags": []
          },
          "execution_count": 34
        }
      ]
    },
    {
      "cell_type": "code",
      "metadata": {
        "id": "4OD3EBrXgwRu"
      },
      "source": [
        "df['genres'] = df['Title'].map(lambda x: get_genre(str(x)))"
      ],
      "execution_count": 35,
      "outputs": []
    },
    {
      "cell_type": "code",
      "metadata": {
        "id": "pGxjezf3GnHU"
      },
      "source": [
        "df_2019 = df[['Title','Cast and crew','genres']]"
      ],
      "execution_count": 36,
      "outputs": []
    },
    {
      "cell_type": "code",
      "metadata": {
        "id": "_3cHkv31GnzN",
        "outputId": "1296acfe-7224-4647-e28e-bbf60ceb6b8c",
        "colab": {
          "base_uri": "https://localhost:8080/",
          "height": 490
        }
      },
      "source": [
        "df_2019"
      ],
      "execution_count": 37,
      "outputs": [
        {
          "output_type": "execute_result",
          "data": {
            "text/html": [
              "<div>\n",
              "<style scoped>\n",
              "    .dataframe tbody tr th:only-of-type {\n",
              "        vertical-align: middle;\n",
              "    }\n",
              "\n",
              "    .dataframe tbody tr th {\n",
              "        vertical-align: top;\n",
              "    }\n",
              "\n",
              "    .dataframe thead th {\n",
              "        text-align: right;\n",
              "    }\n",
              "</style>\n",
              "<table border=\"1\" class=\"dataframe\">\n",
              "  <thead>\n",
              "    <tr style=\"text-align: right;\">\n",
              "      <th></th>\n",
              "      <th>Title</th>\n",
              "      <th>Cast and crew</th>\n",
              "      <th>genres</th>\n",
              "    </tr>\n",
              "  </thead>\n",
              "  <tbody>\n",
              "    <tr>\n",
              "      <th>0</th>\n",
              "      <td>Escape Room</td>\n",
              "      <td>Adam Robitel (director); Bragi F. Schut, Maria...</td>\n",
              "      <td>Thriller Action Mystery Adventure Horror</td>\n",
              "    </tr>\n",
              "    <tr>\n",
              "      <th>1</th>\n",
              "      <td>Rust Creek</td>\n",
              "      <td>Jen McGowan (director); Julie Lipson (screenpl...</td>\n",
              "      <td>Thriller Drama</td>\n",
              "    </tr>\n",
              "    <tr>\n",
              "      <th>2</th>\n",
              "      <td>American Hangman</td>\n",
              "      <td>Wilson Coneybeare (director/screenplay); Donal...</td>\n",
              "      <td>Thriller</td>\n",
              "    </tr>\n",
              "    <tr>\n",
              "      <th>3</th>\n",
              "      <td>A Dog's Way Home</td>\n",
              "      <td>Charles Martin Smith (director); W. Bruce Came...</td>\n",
              "      <td>Drama Adventure Family</td>\n",
              "    </tr>\n",
              "    <tr>\n",
              "      <th>4</th>\n",
              "      <td>The Upside</td>\n",
              "      <td>Neil Burger (director); Jon Hartmere (screenpl...</td>\n",
              "      <td>Comedy Drama</td>\n",
              "    </tr>\n",
              "    <tr>\n",
              "      <th>...</th>\n",
              "      <td>...</td>\n",
              "      <td>...</td>\n",
              "      <td>...</td>\n",
              "    </tr>\n",
              "    <tr>\n",
              "      <th>236</th>\n",
              "      <td>Little Women</td>\n",
              "      <td>Greta Gerwig (director/screenplay); Saoirse Ro...</td>\n",
              "      <td>Drama Romance</td>\n",
              "    </tr>\n",
              "    <tr>\n",
              "      <th>237</th>\n",
              "      <td>1917</td>\n",
              "      <td>Sam Mendes (director/screenplay); Krysty Wilso...</td>\n",
              "      <td>War Drama Action History</td>\n",
              "    </tr>\n",
              "    <tr>\n",
              "      <th>238</th>\n",
              "      <td>Just Mercy</td>\n",
              "      <td>Destin Daniel Cretton (director/screenplay), A...</td>\n",
              "      <td>Drama Crime</td>\n",
              "    </tr>\n",
              "    <tr>\n",
              "      <th>239</th>\n",
              "      <td>Clemency</td>\n",
              "      <td>Chinonye Chukwu (director/screenplay); Alfre W...</td>\n",
              "      <td>Drama</td>\n",
              "    </tr>\n",
              "    <tr>\n",
              "      <th>240</th>\n",
              "      <td>Apparition</td>\n",
              "      <td>Waymon Boone (director/screenplay); Mena Suvar...</td>\n",
              "      <td>Horror Thriller</td>\n",
              "    </tr>\n",
              "  </tbody>\n",
              "</table>\n",
              "<p>241 rows × 3 columns</p>\n",
              "</div>"
            ],
            "text/plain": [
              "                Title  ...                                    genres\n",
              "0         Escape Room  ...  Thriller Action Mystery Adventure Horror\n",
              "1          Rust Creek  ...                            Thriller Drama\n",
              "2    American Hangman  ...                                  Thriller\n",
              "3    A Dog's Way Home  ...                    Drama Adventure Family\n",
              "4          The Upside  ...                              Comedy Drama\n",
              "..                ...  ...                                       ...\n",
              "236      Little Women  ...                             Drama Romance\n",
              "237              1917  ...                  War Drama Action History\n",
              "238        Just Mercy  ...                               Drama Crime\n",
              "239          Clemency  ...                                     Drama\n",
              "240        Apparition  ...                           Horror Thriller\n",
              "\n",
              "[241 rows x 3 columns]"
            ]
          },
          "metadata": {
            "tags": []
          },
          "execution_count": 37
        }
      ]
    },
    {
      "cell_type": "markdown",
      "metadata": {
        "id": "ku0ptidyhgY-"
      },
      "source": [
        "hasta aqui \"ejecutado\""
      ]
    },
    {
      "cell_type": "code",
      "metadata": {
        "id": "GLKlWRVoGoDY",
        "outputId": "aa2f41af-00a7-4b31-ba84-b26f4fa7625d",
        "colab": {
          "base_uri": "https://localhost:8080/",
          "height": 136
        }
      },
      "source": [
        "df_2019['director_name'] = df_2019['Cast and crew'].map(lambda x: get_director(x))"
      ],
      "execution_count": 38,
      "outputs": [
        {
          "output_type": "stream",
          "text": [
            "/usr/local/lib/python3.6/dist-packages/ipykernel_launcher.py:1: SettingWithCopyWarning: \n",
            "A value is trying to be set on a copy of a slice from a DataFrame.\n",
            "Try using .loc[row_indexer,col_indexer] = value instead\n",
            "\n",
            "See the caveats in the documentation: https://pandas.pydata.org/pandas-docs/stable/user_guide/indexing.html#returning-a-view-versus-a-copy\n",
            "  \"\"\"Entry point for launching an IPython kernel.\n"
          ],
          "name": "stderr"
        }
      ]
    },
    {
      "cell_type": "code",
      "metadata": {
        "id": "s2ULO6yGGnke",
        "outputId": "eb8130c4-a440-4c6d-c80d-0d9ec7b977d1",
        "colab": {
          "base_uri": "https://localhost:8080/",
          "height": 573
        }
      },
      "source": [
        "df_2019"
      ],
      "execution_count": 39,
      "outputs": [
        {
          "output_type": "execute_result",
          "data": {
            "text/html": [
              "<div>\n",
              "<style scoped>\n",
              "    .dataframe tbody tr th:only-of-type {\n",
              "        vertical-align: middle;\n",
              "    }\n",
              "\n",
              "    .dataframe tbody tr th {\n",
              "        vertical-align: top;\n",
              "    }\n",
              "\n",
              "    .dataframe thead th {\n",
              "        text-align: right;\n",
              "    }\n",
              "</style>\n",
              "<table border=\"1\" class=\"dataframe\">\n",
              "  <thead>\n",
              "    <tr style=\"text-align: right;\">\n",
              "      <th></th>\n",
              "      <th>Title</th>\n",
              "      <th>Cast and crew</th>\n",
              "      <th>genres</th>\n",
              "      <th>director_name</th>\n",
              "    </tr>\n",
              "  </thead>\n",
              "  <tbody>\n",
              "    <tr>\n",
              "      <th>0</th>\n",
              "      <td>Escape Room</td>\n",
              "      <td>Adam Robitel (director); Bragi F. Schut, Maria...</td>\n",
              "      <td>Thriller Action Mystery Adventure Horror</td>\n",
              "      <td>Adam Robitel</td>\n",
              "    </tr>\n",
              "    <tr>\n",
              "      <th>1</th>\n",
              "      <td>Rust Creek</td>\n",
              "      <td>Jen McGowan (director); Julie Lipson (screenpl...</td>\n",
              "      <td>Thriller Drama</td>\n",
              "      <td>Jen McGowan</td>\n",
              "    </tr>\n",
              "    <tr>\n",
              "      <th>2</th>\n",
              "      <td>American Hangman</td>\n",
              "      <td>Wilson Coneybeare (director/screenplay); Donal...</td>\n",
              "      <td>Thriller</td>\n",
              "      <td>Wilson Coneybeare</td>\n",
              "    </tr>\n",
              "    <tr>\n",
              "      <th>3</th>\n",
              "      <td>A Dog's Way Home</td>\n",
              "      <td>Charles Martin Smith (director); W. Bruce Came...</td>\n",
              "      <td>Drama Adventure Family</td>\n",
              "      <td>Charles Martin Smith</td>\n",
              "    </tr>\n",
              "    <tr>\n",
              "      <th>4</th>\n",
              "      <td>The Upside</td>\n",
              "      <td>Neil Burger (director); Jon Hartmere (screenpl...</td>\n",
              "      <td>Comedy Drama</td>\n",
              "      <td>Neil Burger</td>\n",
              "    </tr>\n",
              "    <tr>\n",
              "      <th>...</th>\n",
              "      <td>...</td>\n",
              "      <td>...</td>\n",
              "      <td>...</td>\n",
              "      <td>...</td>\n",
              "    </tr>\n",
              "    <tr>\n",
              "      <th>236</th>\n",
              "      <td>Little Women</td>\n",
              "      <td>Greta Gerwig (director/screenplay); Saoirse Ro...</td>\n",
              "      <td>Drama Romance</td>\n",
              "      <td>Greta Gerwig</td>\n",
              "    </tr>\n",
              "    <tr>\n",
              "      <th>237</th>\n",
              "      <td>1917</td>\n",
              "      <td>Sam Mendes (director/screenplay); Krysty Wilso...</td>\n",
              "      <td>War Drama Action History</td>\n",
              "      <td>Sam Mendes</td>\n",
              "    </tr>\n",
              "    <tr>\n",
              "      <th>238</th>\n",
              "      <td>Just Mercy</td>\n",
              "      <td>Destin Daniel Cretton (director/screenplay), A...</td>\n",
              "      <td>Drama Crime</td>\n",
              "      <td>Destin Daniel Cretton</td>\n",
              "    </tr>\n",
              "    <tr>\n",
              "      <th>239</th>\n",
              "      <td>Clemency</td>\n",
              "      <td>Chinonye Chukwu (director/screenplay); Alfre W...</td>\n",
              "      <td>Drama</td>\n",
              "      <td>Chinonye Chukwu</td>\n",
              "    </tr>\n",
              "    <tr>\n",
              "      <th>240</th>\n",
              "      <td>Apparition</td>\n",
              "      <td>Waymon Boone (director/screenplay); Mena Suvar...</td>\n",
              "      <td>Horror Thriller</td>\n",
              "      <td>Waymon Boone</td>\n",
              "    </tr>\n",
              "  </tbody>\n",
              "</table>\n",
              "<p>241 rows × 4 columns</p>\n",
              "</div>"
            ],
            "text/plain": [
              "                Title  ...           director_name\n",
              "0         Escape Room  ...            Adam Robitel\n",
              "1          Rust Creek  ...             Jen McGowan\n",
              "2    American Hangman  ...      Wilson Coneybeare \n",
              "3    A Dog's Way Home  ...    Charles Martin Smith\n",
              "4          The Upside  ...             Neil Burger\n",
              "..                ...  ...                     ...\n",
              "236      Little Women  ...           Greta Gerwig \n",
              "237              1917  ...             Sam Mendes \n",
              "238        Just Mercy  ...  Destin Daniel Cretton \n",
              "239          Clemency  ...        Chinonye Chukwu \n",
              "240        Apparition  ...           Waymon Boone \n",
              "\n",
              "[241 rows x 4 columns]"
            ]
          },
          "metadata": {
            "tags": []
          },
          "execution_count": 39
        }
      ]
    },
    {
      "cell_type": "code",
      "metadata": {
        "id": "hnLR8paiGm24",
        "outputId": "387f2307-c5f8-4a33-c08c-dbf7af6c3f6a",
        "colab": {
          "base_uri": "https://localhost:8080/",
          "height": 136
        }
      },
      "source": [
        "df_2019['actor_1_name'] = df_2019['Cast and crew'].map(lambda x: get_actor1(x))"
      ],
      "execution_count": 40,
      "outputs": [
        {
          "output_type": "stream",
          "text": [
            "/usr/local/lib/python3.6/dist-packages/ipykernel_launcher.py:1: SettingWithCopyWarning: \n",
            "A value is trying to be set on a copy of a slice from a DataFrame.\n",
            "Try using .loc[row_indexer,col_indexer] = value instead\n",
            "\n",
            "See the caveats in the documentation: https://pandas.pydata.org/pandas-docs/stable/user_guide/indexing.html#returning-a-view-versus-a-copy\n",
            "  \"\"\"Entry point for launching an IPython kernel.\n"
          ],
          "name": "stderr"
        }
      ]
    },
    {
      "cell_type": "code",
      "metadata": {
        "id": "C6ANf30UIjWO",
        "outputId": "85b958f3-6b97-4121-a742-249e3932d509",
        "colab": {
          "base_uri": "https://localhost:8080/",
          "height": 136
        }
      },
      "source": [
        "df_2019['actor_2_name'] = df_2019['Cast and crew'].map(lambda x: get_actor2(x))"
      ],
      "execution_count": 41,
      "outputs": [
        {
          "output_type": "stream",
          "text": [
            "/usr/local/lib/python3.6/dist-packages/ipykernel_launcher.py:1: SettingWithCopyWarning: \n",
            "A value is trying to be set on a copy of a slice from a DataFrame.\n",
            "Try using .loc[row_indexer,col_indexer] = value instead\n",
            "\n",
            "See the caveats in the documentation: https://pandas.pydata.org/pandas-docs/stable/user_guide/indexing.html#returning-a-view-versus-a-copy\n",
            "  \"\"\"Entry point for launching an IPython kernel.\n"
          ],
          "name": "stderr"
        }
      ]
    },
    {
      "cell_type": "code",
      "metadata": {
        "id": "PxwOlcuuIjot"
      },
      "source": [
        "df_2019['actor_3_name'] = df_2019['Cast and crew'].map(lambda x: get_actor3(x))"
      ],
      "execution_count": 42,
      "outputs": []
    },
    {
      "cell_type": "code",
      "metadata": {
        "id": "DAOoaYkZIj9u"
      },
      "source": [
        "df_2019 = df_2019.rename(columns={'Title':'movie_title'})"
      ],
      "execution_count": 43,
      "outputs": []
    },
    {
      "cell_type": "code",
      "metadata": {
        "id": "7dvIgCzSIkQb"
      },
      "source": [
        "new_df19 = df_2019[['director_name','actor_1_name','actor_2_name','actor_3_name','genres','movie_title']]"
      ],
      "execution_count": 44,
      "outputs": []
    },
    {
      "cell_type": "code",
      "metadata": {
        "id": "XZqDhm_RIkgo",
        "outputId": "0e9ec4e2-29c5-4a0f-a869-0902ea35726a",
        "colab": {
          "base_uri": "https://localhost:8080/",
          "height": 236
        }
      },
      "source": [
        "new_df19['actor_2_name'] = new_df19['actor_2_name'].replace(np.nan,'unknown')\n",
        "new_df19['actor_3_name'] = new_df19['actor_3_name'].replace(np.nan,'unknown')"
      ],
      "execution_count": 45,
      "outputs": [
        {
          "output_type": "stream",
          "text": [
            "/usr/local/lib/python3.6/dist-packages/ipykernel_launcher.py:1: SettingWithCopyWarning: \n",
            "A value is trying to be set on a copy of a slice from a DataFrame.\n",
            "Try using .loc[row_indexer,col_indexer] = value instead\n",
            "\n",
            "See the caveats in the documentation: https://pandas.pydata.org/pandas-docs/stable/user_guide/indexing.html#returning-a-view-versus-a-copy\n",
            "  \"\"\"Entry point for launching an IPython kernel.\n",
            "/usr/local/lib/python3.6/dist-packages/ipykernel_launcher.py:2: SettingWithCopyWarning: \n",
            "A value is trying to be set on a copy of a slice from a DataFrame.\n",
            "Try using .loc[row_indexer,col_indexer] = value instead\n",
            "\n",
            "See the caveats in the documentation: https://pandas.pydata.org/pandas-docs/stable/user_guide/indexing.html#returning-a-view-versus-a-copy\n",
            "  \n"
          ],
          "name": "stderr"
        }
      ]
    },
    {
      "cell_type": "code",
      "metadata": {
        "id": "Dy4eYMjkIk0J",
        "outputId": "82feaa72-c9a7-4a6e-8741-9d5e66e153c1",
        "colab": {
          "base_uri": "https://localhost:8080/",
          "height": 136
        }
      },
      "source": [
        "new_df19['movie_title'] = new_df19['movie_title'].str.lower()"
      ],
      "execution_count": 46,
      "outputs": [
        {
          "output_type": "stream",
          "text": [
            "/usr/local/lib/python3.6/dist-packages/ipykernel_launcher.py:1: SettingWithCopyWarning: \n",
            "A value is trying to be set on a copy of a slice from a DataFrame.\n",
            "Try using .loc[row_indexer,col_indexer] = value instead\n",
            "\n",
            "See the caveats in the documentation: https://pandas.pydata.org/pandas-docs/stable/user_guide/indexing.html#returning-a-view-versus-a-copy\n",
            "  \"\"\"Entry point for launching an IPython kernel.\n"
          ],
          "name": "stderr"
        }
      ]
    },
    {
      "cell_type": "code",
      "metadata": {
        "id": "HzXELlhEIlHU"
      },
      "source": [
        "new_df19['comb'] = new_df19['actor_1_name'] + ' ' + new_df19['actor_2_name'] + ' ' + new_df19['actor_3_name'] + ' ' + new_df19['director_name'] "
      ],
      "execution_count": 47,
      "outputs": []
    },
    {
      "cell_type": "code",
      "metadata": {
        "id": "YODhHz6TIlcY",
        "outputId": "e714c747-b310-4196-c098-8a278d69a940",
        "colab": {
          "base_uri": "https://localhost:8080/",
          "height": 1000
        }
      },
      "source": [
        "new_df19"
      ],
      "execution_count": 48,
      "outputs": [
        {
          "output_type": "execute_result",
          "data": {
            "text/html": [
              "<div>\n",
              "<style scoped>\n",
              "    .dataframe tbody tr th:only-of-type {\n",
              "        vertical-align: middle;\n",
              "    }\n",
              "\n",
              "    .dataframe tbody tr th {\n",
              "        vertical-align: top;\n",
              "    }\n",
              "\n",
              "    .dataframe thead th {\n",
              "        text-align: right;\n",
              "    }\n",
              "</style>\n",
              "<table border=\"1\" class=\"dataframe\">\n",
              "  <thead>\n",
              "    <tr style=\"text-align: right;\">\n",
              "      <th></th>\n",
              "      <th>director_name</th>\n",
              "      <th>actor_1_name</th>\n",
              "      <th>actor_2_name</th>\n",
              "      <th>actor_3_name</th>\n",
              "      <th>genres</th>\n",
              "      <th>movie_title</th>\n",
              "      <th>comb</th>\n",
              "    </tr>\n",
              "  </thead>\n",
              "  <tbody>\n",
              "    <tr>\n",
              "      <th>0</th>\n",
              "      <td>Adam Robitel</td>\n",
              "      <td>Taylor Russell</td>\n",
              "      <td>Logan Miller</td>\n",
              "      <td>Deborah Ann Woll</td>\n",
              "      <td>Thriller Action Mystery Adventure Horror</td>\n",
              "      <td>escape room</td>\n",
              "      <td>Taylor Russell Logan Miller Deborah Ann Woll A...</td>\n",
              "    </tr>\n",
              "    <tr>\n",
              "      <th>1</th>\n",
              "      <td>Jen McGowan</td>\n",
              "      <td>Hermione Corfield</td>\n",
              "      <td>Jay Paulson</td>\n",
              "      <td>Sean O'Bryan</td>\n",
              "      <td>Thriller Drama</td>\n",
              "      <td>rust creek</td>\n",
              "      <td>Hermione Corfield Jay Paulson Sean O'Bryan Jen...</td>\n",
              "    </tr>\n",
              "    <tr>\n",
              "      <th>2</th>\n",
              "      <td>Wilson Coneybeare</td>\n",
              "      <td>Donald Sutherland</td>\n",
              "      <td>Vincent Kartheiser</td>\n",
              "      <td>Oliver Dennis</td>\n",
              "      <td>Thriller</td>\n",
              "      <td>american hangman</td>\n",
              "      <td>Donald Sutherland Vincent Kartheiser Oliver De...</td>\n",
              "    </tr>\n",
              "    <tr>\n",
              "      <th>3</th>\n",
              "      <td>Charles Martin Smith</td>\n",
              "      <td>Bryce Dallas Howard</td>\n",
              "      <td>Edward James Olmos</td>\n",
              "      <td>Alexandra Shipp</td>\n",
              "      <td>Drama Adventure Family</td>\n",
              "      <td>a dog's way home</td>\n",
              "      <td>Bryce Dallas Howard Edward James Olmos Alexand...</td>\n",
              "    </tr>\n",
              "    <tr>\n",
              "      <th>4</th>\n",
              "      <td>Neil Burger</td>\n",
              "      <td>Bryan Cranston</td>\n",
              "      <td>Kevin Hart</td>\n",
              "      <td>Nicole Kidman</td>\n",
              "      <td>Comedy Drama</td>\n",
              "      <td>the upside</td>\n",
              "      <td>Bryan Cranston Kevin Hart Nicole Kidman Neil B...</td>\n",
              "    </tr>\n",
              "    <tr>\n",
              "      <th>...</th>\n",
              "      <td>...</td>\n",
              "      <td>...</td>\n",
              "      <td>...</td>\n",
              "      <td>...</td>\n",
              "      <td>...</td>\n",
              "      <td>...</td>\n",
              "      <td>...</td>\n",
              "    </tr>\n",
              "    <tr>\n",
              "      <th>236</th>\n",
              "      <td>Greta Gerwig</td>\n",
              "      <td>Saoirse Ronan</td>\n",
              "      <td>Emma Watson</td>\n",
              "      <td>Florence Pugh</td>\n",
              "      <td>Drama Romance</td>\n",
              "      <td>little women</td>\n",
              "      <td>Saoirse Ronan Emma Watson Florence Pugh Greta ...</td>\n",
              "    </tr>\n",
              "    <tr>\n",
              "      <th>237</th>\n",
              "      <td>Sam Mendes</td>\n",
              "      <td>George MacKay</td>\n",
              "      <td>Dean-Charles Chapman</td>\n",
              "      <td>Mark Strong</td>\n",
              "      <td>War Drama Action History</td>\n",
              "      <td>1917</td>\n",
              "      <td>George MacKay Dean-Charles Chapman Mark Strong...</td>\n",
              "    </tr>\n",
              "    <tr>\n",
              "      <th>238</th>\n",
              "      <td>Destin Daniel Cretton</td>\n",
              "      <td>Michael B. Jordan</td>\n",
              "      <td>Jamie Foxx</td>\n",
              "      <td>Brie Larson</td>\n",
              "      <td>Drama Crime</td>\n",
              "      <td>just mercy</td>\n",
              "      <td>Michael B. Jordan Jamie Foxx Brie Larson Desti...</td>\n",
              "    </tr>\n",
              "    <tr>\n",
              "      <th>239</th>\n",
              "      <td>Chinonye Chukwu</td>\n",
              "      <td>Alfre Woodard</td>\n",
              "      <td>Wendell Pierce</td>\n",
              "      <td>Aldis Hodge</td>\n",
              "      <td>Drama</td>\n",
              "      <td>clemency</td>\n",
              "      <td>Alfre Woodard Wendell Pierce Aldis Hodge Chino...</td>\n",
              "    </tr>\n",
              "    <tr>\n",
              "      <th>240</th>\n",
              "      <td>Waymon Boone</td>\n",
              "      <td>Mena Suvari</td>\n",
              "      <td>Kevin Pollak</td>\n",
              "      <td>unknown</td>\n",
              "      <td>Horror Thriller</td>\n",
              "      <td>apparition</td>\n",
              "      <td>Mena Suvari Kevin Pollak unknown Waymon Boone</td>\n",
              "    </tr>\n",
              "  </tbody>\n",
              "</table>\n",
              "<p>241 rows × 7 columns</p>\n",
              "</div>"
            ],
            "text/plain": [
              "              director_name  ...                                               comb\n",
              "0              Adam Robitel  ...  Taylor Russell Logan Miller Deborah Ann Woll A...\n",
              "1               Jen McGowan  ...  Hermione Corfield Jay Paulson Sean O'Bryan Jen...\n",
              "2        Wilson Coneybeare   ...  Donald Sutherland Vincent Kartheiser Oliver De...\n",
              "3      Charles Martin Smith  ...  Bryce Dallas Howard Edward James Olmos Alexand...\n",
              "4               Neil Burger  ...  Bryan Cranston Kevin Hart Nicole Kidman Neil B...\n",
              "..                      ...  ...                                                ...\n",
              "236           Greta Gerwig   ...  Saoirse Ronan Emma Watson Florence Pugh Greta ...\n",
              "237             Sam Mendes   ...  George MacKay Dean-Charles Chapman Mark Strong...\n",
              "238  Destin Daniel Cretton   ...  Michael B. Jordan Jamie Foxx Brie Larson Desti...\n",
              "239        Chinonye Chukwu   ...  Alfre Woodard Wendell Pierce Aldis Hodge Chino...\n",
              "240           Waymon Boone   ...     Mena Suvari Kevin Pollak unknown Waymon Boone \n",
              "\n",
              "[241 rows x 7 columns]"
            ]
          },
          "metadata": {
            "tags": []
          },
          "execution_count": 48
        }
      ]
    },
    {
      "cell_type": "code",
      "metadata": {
        "id": "3Pv0EkLQIls8"
      },
      "source": [
        "my_df = new_df18.append(new_df19,ignore_index=True)"
      ],
      "execution_count": 49,
      "outputs": []
    },
    {
      "cell_type": "code",
      "metadata": {
        "id": "L9mK6EB1xh2y",
        "outputId": "a2d9597f-9fcc-4145-84c6-2193288b5022",
        "colab": {
          "base_uri": "https://localhost:8080/",
          "height": 116
        }
      },
      "source": [
        "import os\n",
        "Path = '/content'\n",
        "dir_name = '1.-inputs_movie_recomendation'\n",
        "if not os.path.isdir(Path + '/' + dir_name + '/'):\n",
        "  os.mkdir(Path + '/' + dir_name + '/')\n",
        "\n",
        "  !git clone https://github.com/anselmostitla/1.-inputs_movie_recomendation.git"
      ],
      "execution_count": 50,
      "outputs": [
        {
          "output_type": "stream",
          "text": [
            "Cloning into '1.-inputs_movie_recomendation'...\n",
            "remote: Enumerating objects: 19, done.\u001b[K\n",
            "remote: Counting objects: 100% (19/19), done.\u001b[K\n",
            "remote: Compressing objects: 100% (13/13), done.\u001b[K\n",
            "remote: Total 19 (delta 4), reused 15 (delta 3), pack-reused 0\u001b[K\n",
            "Unpacking objects: 100% (19/19), done.\n"
          ],
          "name": "stdout"
        }
      ]
    },
    {
      "cell_type": "code",
      "metadata": {
        "id": "aGhmi5TPRORs",
        "outputId": "949cb9be-6475-496b-a53d-0d61804041a5",
        "colab": {
          "base_uri": "https://localhost:8080/",
          "height": 1000
        }
      },
      "source": [
        "old_df = pd.read_csv('/content/1.-inputs_movie_recomendation/outputs/preprocessed_2.csv')\n",
        "old_df"
      ],
      "execution_count": 51,
      "outputs": [
        {
          "output_type": "execute_result",
          "data": {
            "text/html": [
              "<div>\n",
              "<style scoped>\n",
              "    .dataframe tbody tr th:only-of-type {\n",
              "        vertical-align: middle;\n",
              "    }\n",
              "\n",
              "    .dataframe tbody tr th {\n",
              "        vertical-align: top;\n",
              "    }\n",
              "\n",
              "    .dataframe thead th {\n",
              "        text-align: right;\n",
              "    }\n",
              "</style>\n",
              "<table border=\"1\" class=\"dataframe\">\n",
              "  <thead>\n",
              "    <tr style=\"text-align: right;\">\n",
              "      <th></th>\n",
              "      <th>director_name</th>\n",
              "      <th>actor_1_name</th>\n",
              "      <th>actor_2_name</th>\n",
              "      <th>actor_3_name</th>\n",
              "      <th>genres</th>\n",
              "      <th>movie_title</th>\n",
              "      <th>comb</th>\n",
              "    </tr>\n",
              "  </thead>\n",
              "  <tbody>\n",
              "    <tr>\n",
              "      <th>0</th>\n",
              "      <td>James Cameron</td>\n",
              "      <td>CCH Pounder</td>\n",
              "      <td>Joel David Moore</td>\n",
              "      <td>Wes Studi</td>\n",
              "      <td>Action|Adventure|Fantasy|Sci-Fi</td>\n",
              "      <td>avatar</td>\n",
              "      <td>CCH Pounder Joel David Moore Wes Studi James C...</td>\n",
              "    </tr>\n",
              "    <tr>\n",
              "      <th>1</th>\n",
              "      <td>Gore Verbinski</td>\n",
              "      <td>Johnny Depp</td>\n",
              "      <td>Orlando Bloom</td>\n",
              "      <td>Jack Davenport</td>\n",
              "      <td>Action|Adventure|Fantasy</td>\n",
              "      <td>pirates of the caribbean: at world's end</td>\n",
              "      <td>Johnny Depp Orlando Bloom Jack Davenport Gore ...</td>\n",
              "    </tr>\n",
              "    <tr>\n",
              "      <th>2</th>\n",
              "      <td>Sam Mendes</td>\n",
              "      <td>Christoph Waltz</td>\n",
              "      <td>Rory Kinnear</td>\n",
              "      <td>Stephanie Sigman</td>\n",
              "      <td>Action|Adventure|Thriller</td>\n",
              "      <td>spectre</td>\n",
              "      <td>Christoph Waltz Rory Kinnear Stephanie Sigman ...</td>\n",
              "    </tr>\n",
              "    <tr>\n",
              "      <th>3</th>\n",
              "      <td>Christopher Nolan</td>\n",
              "      <td>Tom Hardy</td>\n",
              "      <td>Christian Bale</td>\n",
              "      <td>Joseph Gordon-Levitt</td>\n",
              "      <td>Action|Thriller</td>\n",
              "      <td>the dark knight rises</td>\n",
              "      <td>Tom Hardy Christian Bale Joseph Gordon-Levitt ...</td>\n",
              "    </tr>\n",
              "    <tr>\n",
              "      <th>4</th>\n",
              "      <td>Doug Walker</td>\n",
              "      <td>Doug Walker</td>\n",
              "      <td>Rob Walker</td>\n",
              "      <td>unknown</td>\n",
              "      <td>Documentary</td>\n",
              "      <td>star wars: episode vii - the force awakens    ...</td>\n",
              "      <td>Doug Walker Rob Walker unknown Doug Walker Doc...</td>\n",
              "    </tr>\n",
              "    <tr>\n",
              "      <th>...</th>\n",
              "      <td>...</td>\n",
              "      <td>...</td>\n",
              "      <td>...</td>\n",
              "      <td>...</td>\n",
              "      <td>...</td>\n",
              "      <td>...</td>\n",
              "      <td>...</td>\n",
              "    </tr>\n",
              "    <tr>\n",
              "      <th>5359</th>\n",
              "      <td>Jim Strouse</td>\n",
              "      <td>Jessica Williams</td>\n",
              "      <td>Chris O'Dowd</td>\n",
              "      <td>Keith Stanfield</td>\n",
              "      <td>Romance Comedy</td>\n",
              "      <td>the incredible jessica james</td>\n",
              "      <td>Jessica Williams Chris O'Dowd Keith Stanfield ...</td>\n",
              "    </tr>\n",
              "    <tr>\n",
              "      <th>5360</th>\n",
              "      <td>Farhad Mann</td>\n",
              "      <td>Adelaide Kane</td>\n",
              "      <td>Benjamin Hollingsworth</td>\n",
              "      <td>Jean Louisa Kelly</td>\n",
              "      <td>Romance</td>\n",
              "      <td>can't buy my love</td>\n",
              "      <td>Adelaide Kane Benjamin Hollingsworth Jean Loui...</td>\n",
              "    </tr>\n",
              "    <tr>\n",
              "      <th>5361</th>\n",
              "      <td>Hannaleena Hauru</td>\n",
              "      <td>Inka Haapamäki</td>\n",
              "      <td>Rosa Honkonen</td>\n",
              "      <td>Tiitus Rantala</td>\n",
              "      <td>Romance Comedy</td>\n",
              "      <td>thick lashes of lauri mäntyvaara</td>\n",
              "      <td>Inka Haapamäki Rosa Honkonen Tiitus Rantala Ha...</td>\n",
              "    </tr>\n",
              "    <tr>\n",
              "      <th>5362</th>\n",
              "      <td>Jonathan A. Rosenbaum</td>\n",
              "      <td>Lou Diamond Phillips</td>\n",
              "      <td>Wallace Shawn</td>\n",
              "      <td>Gina Holden</td>\n",
              "      <td>Crime Comedy Action Family</td>\n",
              "      <td>cop and a half: new recruit</td>\n",
              "      <td>Lou Diamond Phillips Wallace Shawn Gina Holden...</td>\n",
              "    </tr>\n",
              "    <tr>\n",
              "      <th>5363</th>\n",
              "      <td>Ravi Udyawar</td>\n",
              "      <td>Sridevi Kapoor</td>\n",
              "      <td>Sajal Ali</td>\n",
              "      <td>Akshaye Khanna</td>\n",
              "      <td>Crime Drama Thriller</td>\n",
              "      <td>mom</td>\n",
              "      <td>Sridevi Kapoor Sajal Ali Akshaye Khanna Ravi U...</td>\n",
              "    </tr>\n",
              "  </tbody>\n",
              "</table>\n",
              "<p>5364 rows × 7 columns</p>\n",
              "</div>"
            ],
            "text/plain": [
              "              director_name  ...                                               comb\n",
              "0             James Cameron  ...  CCH Pounder Joel David Moore Wes Studi James C...\n",
              "1            Gore Verbinski  ...  Johnny Depp Orlando Bloom Jack Davenport Gore ...\n",
              "2                Sam Mendes  ...  Christoph Waltz Rory Kinnear Stephanie Sigman ...\n",
              "3         Christopher Nolan  ...  Tom Hardy Christian Bale Joseph Gordon-Levitt ...\n",
              "4               Doug Walker  ...  Doug Walker Rob Walker unknown Doug Walker Doc...\n",
              "...                     ...  ...                                                ...\n",
              "5359            Jim Strouse  ...  Jessica Williams Chris O'Dowd Keith Stanfield ...\n",
              "5360            Farhad Mann  ...  Adelaide Kane Benjamin Hollingsworth Jean Loui...\n",
              "5361       Hannaleena Hauru  ...  Inka Haapamäki Rosa Honkonen Tiitus Rantala Ha...\n",
              "5362  Jonathan A. Rosenbaum  ...  Lou Diamond Phillips Wallace Shawn Gina Holden...\n",
              "5363           Ravi Udyawar  ...  Sridevi Kapoor Sajal Ali Akshaye Khanna Ravi U...\n",
              "\n",
              "[5364 rows x 7 columns]"
            ]
          },
          "metadata": {
            "tags": []
          },
          "execution_count": 51
        }
      ]
    },
    {
      "cell_type": "code",
      "metadata": {
        "id": "4_rT5ycTRVCx"
      },
      "source": [
        "final_df = old_df.append(my_df,ignore_index=True)"
      ],
      "execution_count": 52,
      "outputs": []
    },
    {
      "cell_type": "code",
      "metadata": {
        "id": "9kYopq7IRU0Z",
        "outputId": "67af6732-d160-4d4c-c07a-2e9d890ea209",
        "colab": {
          "base_uri": "https://localhost:8080/",
          "height": 1000
        }
      },
      "source": [
        "final_df"
      ],
      "execution_count": 53,
      "outputs": [
        {
          "output_type": "execute_result",
          "data": {
            "text/html": [
              "<div>\n",
              "<style scoped>\n",
              "    .dataframe tbody tr th:only-of-type {\n",
              "        vertical-align: middle;\n",
              "    }\n",
              "\n",
              "    .dataframe tbody tr th {\n",
              "        vertical-align: top;\n",
              "    }\n",
              "\n",
              "    .dataframe thead th {\n",
              "        text-align: right;\n",
              "    }\n",
              "</style>\n",
              "<table border=\"1\" class=\"dataframe\">\n",
              "  <thead>\n",
              "    <tr style=\"text-align: right;\">\n",
              "      <th></th>\n",
              "      <th>director_name</th>\n",
              "      <th>actor_1_name</th>\n",
              "      <th>actor_2_name</th>\n",
              "      <th>actor_3_name</th>\n",
              "      <th>genres</th>\n",
              "      <th>movie_title</th>\n",
              "      <th>comb</th>\n",
              "    </tr>\n",
              "  </thead>\n",
              "  <tbody>\n",
              "    <tr>\n",
              "      <th>0</th>\n",
              "      <td>James Cameron</td>\n",
              "      <td>CCH Pounder</td>\n",
              "      <td>Joel David Moore</td>\n",
              "      <td>Wes Studi</td>\n",
              "      <td>Action|Adventure|Fantasy|Sci-Fi</td>\n",
              "      <td>avatar</td>\n",
              "      <td>CCH Pounder Joel David Moore Wes Studi James C...</td>\n",
              "    </tr>\n",
              "    <tr>\n",
              "      <th>1</th>\n",
              "      <td>Gore Verbinski</td>\n",
              "      <td>Johnny Depp</td>\n",
              "      <td>Orlando Bloom</td>\n",
              "      <td>Jack Davenport</td>\n",
              "      <td>Action|Adventure|Fantasy</td>\n",
              "      <td>pirates of the caribbean: at world's end</td>\n",
              "      <td>Johnny Depp Orlando Bloom Jack Davenport Gore ...</td>\n",
              "    </tr>\n",
              "    <tr>\n",
              "      <th>2</th>\n",
              "      <td>Sam Mendes</td>\n",
              "      <td>Christoph Waltz</td>\n",
              "      <td>Rory Kinnear</td>\n",
              "      <td>Stephanie Sigman</td>\n",
              "      <td>Action|Adventure|Thriller</td>\n",
              "      <td>spectre</td>\n",
              "      <td>Christoph Waltz Rory Kinnear Stephanie Sigman ...</td>\n",
              "    </tr>\n",
              "    <tr>\n",
              "      <th>3</th>\n",
              "      <td>Christopher Nolan</td>\n",
              "      <td>Tom Hardy</td>\n",
              "      <td>Christian Bale</td>\n",
              "      <td>Joseph Gordon-Levitt</td>\n",
              "      <td>Action|Thriller</td>\n",
              "      <td>the dark knight rises</td>\n",
              "      <td>Tom Hardy Christian Bale Joseph Gordon-Levitt ...</td>\n",
              "    </tr>\n",
              "    <tr>\n",
              "      <th>4</th>\n",
              "      <td>Doug Walker</td>\n",
              "      <td>Doug Walker</td>\n",
              "      <td>Rob Walker</td>\n",
              "      <td>unknown</td>\n",
              "      <td>Documentary</td>\n",
              "      <td>star wars: episode vii - the force awakens    ...</td>\n",
              "      <td>Doug Walker Rob Walker unknown Doug Walker Doc...</td>\n",
              "    </tr>\n",
              "    <tr>\n",
              "      <th>...</th>\n",
              "      <td>...</td>\n",
              "      <td>...</td>\n",
              "      <td>...</td>\n",
              "      <td>...</td>\n",
              "      <td>...</td>\n",
              "      <td>...</td>\n",
              "      <td>...</td>\n",
              "    </tr>\n",
              "    <tr>\n",
              "      <th>5868</th>\n",
              "      <td>Greta Gerwig</td>\n",
              "      <td>Saoirse Ronan</td>\n",
              "      <td>Emma Watson</td>\n",
              "      <td>Florence Pugh</td>\n",
              "      <td>Drama Romance</td>\n",
              "      <td>little women</td>\n",
              "      <td>Saoirse Ronan Emma Watson Florence Pugh Greta ...</td>\n",
              "    </tr>\n",
              "    <tr>\n",
              "      <th>5869</th>\n",
              "      <td>Sam Mendes</td>\n",
              "      <td>George MacKay</td>\n",
              "      <td>Dean-Charles Chapman</td>\n",
              "      <td>Mark Strong</td>\n",
              "      <td>War Drama Action History</td>\n",
              "      <td>1917</td>\n",
              "      <td>George MacKay Dean-Charles Chapman Mark Strong...</td>\n",
              "    </tr>\n",
              "    <tr>\n",
              "      <th>5870</th>\n",
              "      <td>Destin Daniel Cretton</td>\n",
              "      <td>Michael B. Jordan</td>\n",
              "      <td>Jamie Foxx</td>\n",
              "      <td>Brie Larson</td>\n",
              "      <td>Drama Crime</td>\n",
              "      <td>just mercy</td>\n",
              "      <td>Michael B. Jordan Jamie Foxx Brie Larson Desti...</td>\n",
              "    </tr>\n",
              "    <tr>\n",
              "      <th>5871</th>\n",
              "      <td>Chinonye Chukwu</td>\n",
              "      <td>Alfre Woodard</td>\n",
              "      <td>Wendell Pierce</td>\n",
              "      <td>Aldis Hodge</td>\n",
              "      <td>Drama</td>\n",
              "      <td>clemency</td>\n",
              "      <td>Alfre Woodard Wendell Pierce Aldis Hodge Chino...</td>\n",
              "    </tr>\n",
              "    <tr>\n",
              "      <th>5872</th>\n",
              "      <td>Waymon Boone</td>\n",
              "      <td>Mena Suvari</td>\n",
              "      <td>Kevin Pollak</td>\n",
              "      <td>unknown</td>\n",
              "      <td>Horror Thriller</td>\n",
              "      <td>apparition</td>\n",
              "      <td>Mena Suvari Kevin Pollak unknown Waymon Boone</td>\n",
              "    </tr>\n",
              "  </tbody>\n",
              "</table>\n",
              "<p>5873 rows × 7 columns</p>\n",
              "</div>"
            ],
            "text/plain": [
              "               director_name  ...                                               comb\n",
              "0              James Cameron  ...  CCH Pounder Joel David Moore Wes Studi James C...\n",
              "1             Gore Verbinski  ...  Johnny Depp Orlando Bloom Jack Davenport Gore ...\n",
              "2                 Sam Mendes  ...  Christoph Waltz Rory Kinnear Stephanie Sigman ...\n",
              "3          Christopher Nolan  ...  Tom Hardy Christian Bale Joseph Gordon-Levitt ...\n",
              "4                Doug Walker  ...  Doug Walker Rob Walker unknown Doug Walker Doc...\n",
              "...                      ...  ...                                                ...\n",
              "5868           Greta Gerwig   ...  Saoirse Ronan Emma Watson Florence Pugh Greta ...\n",
              "5869             Sam Mendes   ...  George MacKay Dean-Charles Chapman Mark Strong...\n",
              "5870  Destin Daniel Cretton   ...  Michael B. Jordan Jamie Foxx Brie Larson Desti...\n",
              "5871        Chinonye Chukwu   ...  Alfre Woodard Wendell Pierce Aldis Hodge Chino...\n",
              "5872           Waymon Boone   ...     Mena Suvari Kevin Pollak unknown Waymon Boone \n",
              "\n",
              "[5873 rows x 7 columns]"
            ]
          },
          "metadata": {
            "tags": []
          },
          "execution_count": 53
        }
      ]
    },
    {
      "cell_type": "code",
      "metadata": {
        "id": "Nr1doslQRULI"
      },
      "source": [
        "final_df.to_csv('preprocessed_3.csv',index=False)"
      ],
      "execution_count": 54,
      "outputs": []
    }
  ]
}