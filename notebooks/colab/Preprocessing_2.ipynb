{
  "nbformat": 4,
  "nbformat_minor": 0,
  "metadata": {
    "colab": {
      "name": "Preprocessing 2.ipynb",
      "provenance": []
    },
    "kernelspec": {
      "name": "python3",
      "display_name": "Python 3"
    }
  },
  "cells": [
    {
      "cell_type": "code",
      "metadata": {
        "id": "bVVSbg50rffb"
      },
      "source": [
        "import pandas as pd\n",
        "import numpy as np\n",
        "import os"
      ],
      "execution_count": 1,
      "outputs": []
    },
    {
      "cell_type": "code",
      "metadata": {
        "id": "qOLTW-vr3WPK",
        "outputId": "9db2063d-a77f-4020-9ca7-8277fb80b8b2",
        "colab": {
          "base_uri": "https://localhost:8080/",
          "height": 116
        }
      },
      "source": [
        "dir_name_1 = '1.-inputs_movie_recomendation'\n",
        "if not os.path.isdir('./' + dir_name_1 + '/'):\n",
        "  os.mkdir('./' + dir_name_1 + '/')\n",
        "\n",
        "  !git clone https://github.com/anselmostitla/1.-inputs_movie_recomendation.git"
      ],
      "execution_count": 2,
      "outputs": [
        {
          "output_type": "stream",
          "text": [
            "Cloning into '1.-inputs_movie_recomendation'...\n",
            "remote: Enumerating objects: 19, done.\u001b[K\n",
            "remote: Counting objects: 100% (19/19), done.\u001b[K\n",
            "remote: Compressing objects: 100% (13/13), done.\u001b[K\n",
            "remote: Total 19 (delta 4), reused 15 (delta 3), pack-reused 0\u001b[K\n",
            "Unpacking objects: 100% (19/19), done.\n"
          ],
          "name": "stdout"
        }
      ]
    },
    {
      "cell_type": "code",
      "metadata": {
        "id": "64MHkbpiJVAi"
      },
      "source": [
        "def dirMaker(pathDirectory):\n",
        "  if not os.path.isdir('./' + pathDirectory + '/'):\n",
        "    os.mkdir('./' + pathDirectory + '/')\n",
        "\n",
        "dirMaker(\"inputs\")    "
      ],
      "execution_count": 3,
      "outputs": []
    },
    {
      "cell_type": "code",
      "metadata": {
        "id": "ddMsqTHoII8e",
        "outputId": "32b02976-ce9b-4ee8-9228-f048784edad8",
        "colab": {
          "base_uri": "https://localhost:8080/",
          "height": 283
        }
      },
      "source": [
        "!unrar x \"/content/1.-inputs_movie_recomendation/inputs/credits.rar\" -d \"./inputs\"\n",
        "!unrar x \"/content/1.-inputs_movie_recomendation/inputs/movies_metadata.rar\" -d \"./inputs\""
      ],
      "execution_count": 4,
      "outputs": [
        {
          "output_type": "stream",
          "text": [
            "\n",
            "UNRAR 5.50 freeware      Copyright (c) 1993-2017 Alexander Roshal\n",
            "\n",
            "\n",
            "Extracting from /content/1.-inputs_movie_recomendation/inputs/credits.rar\n",
            "\n",
            "Extracting  ./inputs/credits.csv                                         \b\b\b\b  0%\b\b\b\b  1%\b\b\b\b  2%\b\b\b\b  3%\b\b\b\b  4%\b\b\b\b  5%\b\b\b\b  6%\b\b\b\b  7%\b\b\b\b  8%\b\b\b\b  9%\b\b\b\b 10%\b\b\b\b 11%\b\b\b\b 12%\b\b\b\b 13%\b\b\b\b 14%\b\b\b\b 15%\b\b\b\b 16%\b\b\b\b 17%\b\b\b\b 18%\b\b\b\b 19%\b\b\b\b 20%\b\b\b\b 21%\b\b\b\b 22%\b\b\b\b 23%\b\b\b\b 24%\b\b\b\b 25%\b\b\b\b 26%\b\b\b\b 27%\b\b\b\b 28%\b\b\b\b 29%\b\b\b\b 30%\b\b\b\b 31%\b\b\b\b 32%\b\b\b\b 33%\b\b\b\b 34%\b\b\b\b 35%\b\b\b\b 36%\b\b\b\b 37%\b\b\b\b 38%\b\b\b\b 39%\b\b\b\b 40%\b\b\b\b 41%\b\b\b\b 42%\b\b\b\b 43%\b\b\b\b 44%\b\b\b\b 45%\b\b\b\b 46%\b\b\b\b 47%\b\b\b\b 48%\b\b\b\b 49%\b\b\b\b 50%\b\b\b\b 51%\b\b\b\b 52%\b\b\b\b 53%\b\b\b\b 54%\b\b\b\b 55%\b\b\b\b 56%\b\b\b\b 57%\b\b\b\b 58%\b\b\b\b 59%\b\b\b\b 60%\b\b\b\b 61%\b\b\b\b 62%\b\b\b\b 63%\b\b\b\b 64%\b\b\b\b 65%\b\b\b\b 66%\b\b\b\b 67%\b\b\b\b 68%\b\b\b\b 69%\b\b\b\b 70%\b\b\b\b 71%\b\b\b\b 72%\b\b\b\b 73%\b\b\b\b 74%\b\b\b\b 75%\b\b\b\b 76%\b\b\b\b 77%\b\b\b\b 78%\b\b\b\b 79%\b\b\b\b 80%\b\b\b\b 81%\b\b\b\b 82%\b\b\b\b 83%\b\b\b\b 84%\b\b\b\b 85%\b\b\b\b 86%\b\b\b\b 87%\b\b\b\b 88%\b\b\b\b 89%\b\b\b\b 90%\b\b\b\b 91%\b\b\b\b 92%\b\b\b\b 93%\b\b\b\b 94%\b\b\b\b 95%\b\b\b\b 96%\b\b\b\b 97%\b\b\b\b 98%\b\b\b\b 99%\b\b\b\b\b  OK \n",
            "All OK\n",
            "\n",
            "UNRAR 5.50 freeware      Copyright (c) 1993-2017 Alexander Roshal\n",
            "\n",
            "\n",
            "Extracting from /content/1.-inputs_movie_recomendation/inputs/movies_metadata.rar\n",
            "\n",
            "Extracting  ./inputs/movies_metadata.csv                                 \b\b\b\b  0%\b\b\b\b  1%\b\b\b\b  2%\b\b\b\b  3%\b\b\b\b  4%\b\b\b\b  5%\b\b\b\b  6%\b\b\b\b  7%\b\b\b\b  8%\b\b\b\b  9%\b\b\b\b 10%\b\b\b\b 11%\b\b\b\b 12%\b\b\b\b 13%\b\b\b\b 14%\b\b\b\b 15%\b\b\b\b 16%\b\b\b\b 17%\b\b\b\b 18%\b\b\b\b 19%\b\b\b\b 20%\b\b\b\b 21%\b\b\b\b 22%\b\b\b\b 23%\b\b\b\b 24%\b\b\b\b 25%\b\b\b\b 26%\b\b\b\b 27%\b\b\b\b 28%\b\b\b\b 29%\b\b\b\b 30%\b\b\b\b 31%\b\b\b\b 32%\b\b\b\b 33%\b\b\b\b 34%\b\b\b\b 35%\b\b\b\b 36%\b\b\b\b 37%\b\b\b\b 38%\b\b\b\b 39%\b\b\b\b 40%\b\b\b\b 41%\b\b\b\b 42%\b\b\b\b 43%\b\b\b\b 44%\b\b\b\b 45%\b\b\b\b 46%\b\b\b\b 47%\b\b\b\b 48%\b\b\b\b 49%\b\b\b\b 50%\b\b\b\b 51%\b\b\b\b 52%\b\b\b\b 53%\b\b\b\b 54%\b\b\b\b 55%\b\b\b\b 56%\b\b\b\b 57%\b\b\b\b 58%\b\b\b\b 59%\b\b\b\b 60%\b\b\b\b 61%\b\b\b\b 62%\b\b\b\b 63%\b\b\b\b 64%\b\b\b\b 65%\b\b\b\b 66%\b\b\b\b 67%\b\b\b\b 68%\b\b\b\b 69%\b\b\b\b 70%\b\b\b\b 71%\b\b\b\b 72%\b\b\b\b 73%\b\b\b\b 74%\b\b\b\b 75%\b\b\b\b 76%\b\b\b\b 77%\b\b\b\b 78%\b\b\b\b 79%\b\b\b\b 80%\b\b\b\b 81%\b\b\b\b 82%\b\b\b\b 83%\b\b\b\b 84%\b\b\b\b 85%\b\b\b\b 86%\b\b\b\b 87%\b\b\b\b 88%\b\b\b\b 89%\b\b\b\b 90%\b\b\b\b 91%\b\b\b\b 92%\b\b\b\b 93%\b\b\b\b 94%\b\b\b\b 95%\b\b\b\b 96%\b\b\b\b 97%\b\b\b\b 98%\b\b\b\b 99%\b\b\b\b\b  OK \n",
            "All OK\n"
          ],
          "name": "stdout"
        }
      ]
    },
    {
      "cell_type": "code",
      "metadata": {
        "id": "qUkRx3u_GAyI",
        "outputId": "f22dac33-0e80-430a-f464-bbd5a7c2244e",
        "colab": {
          "base_uri": "https://localhost:8080/",
          "height": 167
        }
      },
      "source": [
        "credits = pd.read_csv('./inputs/credits.csv')\n",
        "credits.head(4)"
      ],
      "execution_count": 5,
      "outputs": [
        {
          "output_type": "execute_result",
          "data": {
            "text/html": [
              "<div>\n",
              "<style scoped>\n",
              "    .dataframe tbody tr th:only-of-type {\n",
              "        vertical-align: middle;\n",
              "    }\n",
              "\n",
              "    .dataframe tbody tr th {\n",
              "        vertical-align: top;\n",
              "    }\n",
              "\n",
              "    .dataframe thead th {\n",
              "        text-align: right;\n",
              "    }\n",
              "</style>\n",
              "<table border=\"1\" class=\"dataframe\">\n",
              "  <thead>\n",
              "    <tr style=\"text-align: right;\">\n",
              "      <th></th>\n",
              "      <th>cast</th>\n",
              "      <th>crew</th>\n",
              "      <th>id</th>\n",
              "    </tr>\n",
              "  </thead>\n",
              "  <tbody>\n",
              "    <tr>\n",
              "      <th>0</th>\n",
              "      <td>[{'cast_id': 14, 'character': 'Woody (voice)',...</td>\n",
              "      <td>[{'credit_id': '52fe4284c3a36847f8024f49', 'de...</td>\n",
              "      <td>862</td>\n",
              "    </tr>\n",
              "    <tr>\n",
              "      <th>1</th>\n",
              "      <td>[{'cast_id': 1, 'character': 'Alan Parrish', '...</td>\n",
              "      <td>[{'credit_id': '52fe44bfc3a36847f80a7cd1', 'de...</td>\n",
              "      <td>8844</td>\n",
              "    </tr>\n",
              "    <tr>\n",
              "      <th>2</th>\n",
              "      <td>[{'cast_id': 2, 'character': 'Max Goldman', 'c...</td>\n",
              "      <td>[{'credit_id': '52fe466a9251416c75077a89', 'de...</td>\n",
              "      <td>15602</td>\n",
              "    </tr>\n",
              "    <tr>\n",
              "      <th>3</th>\n",
              "      <td>[{'cast_id': 1, 'character': \"Savannah 'Vannah...</td>\n",
              "      <td>[{'credit_id': '52fe44779251416c91011acb', 'de...</td>\n",
              "      <td>31357</td>\n",
              "    </tr>\n",
              "  </tbody>\n",
              "</table>\n",
              "</div>"
            ],
            "text/plain": [
              "                                                cast  ...     id\n",
              "0  [{'cast_id': 14, 'character': 'Woody (voice)',...  ...    862\n",
              "1  [{'cast_id': 1, 'character': 'Alan Parrish', '...  ...   8844\n",
              "2  [{'cast_id': 2, 'character': 'Max Goldman', 'c...  ...  15602\n",
              "3  [{'cast_id': 1, 'character': \"Savannah 'Vannah...  ...  31357\n",
              "\n",
              "[4 rows x 3 columns]"
            ]
          },
          "metadata": {
            "tags": []
          },
          "execution_count": 5
        }
      ]
    },
    {
      "cell_type": "code",
      "metadata": {
        "id": "k4Pnqh3-wZUL",
        "outputId": "582d59c2-ec9c-4ee4-c84e-8ee6a2712645",
        "colab": {
          "base_uri": "https://localhost:8080/",
          "height": 344
        }
      },
      "source": [
        "meta = pd.read_csv('./inputs/movies_metadata.csv')\n",
        "meta.head(2)"
      ],
      "execution_count": 6,
      "outputs": [
        {
          "output_type": "stream",
          "text": [
            "/usr/local/lib/python3.6/dist-packages/IPython/core/interactiveshell.py:2718: DtypeWarning: Columns (10) have mixed types.Specify dtype option on import or set low_memory=False.\n",
            "  interactivity=interactivity, compiler=compiler, result=result)\n"
          ],
          "name": "stderr"
        },
        {
          "output_type": "execute_result",
          "data": {
            "text/html": [
              "<div>\n",
              "<style scoped>\n",
              "    .dataframe tbody tr th:only-of-type {\n",
              "        vertical-align: middle;\n",
              "    }\n",
              "\n",
              "    .dataframe tbody tr th {\n",
              "        vertical-align: top;\n",
              "    }\n",
              "\n",
              "    .dataframe thead th {\n",
              "        text-align: right;\n",
              "    }\n",
              "</style>\n",
              "<table border=\"1\" class=\"dataframe\">\n",
              "  <thead>\n",
              "    <tr style=\"text-align: right;\">\n",
              "      <th></th>\n",
              "      <th>adult</th>\n",
              "      <th>belongs_to_collection</th>\n",
              "      <th>budget</th>\n",
              "      <th>genres</th>\n",
              "      <th>homepage</th>\n",
              "      <th>id</th>\n",
              "      <th>imdb_id</th>\n",
              "      <th>original_language</th>\n",
              "      <th>original_title</th>\n",
              "      <th>overview</th>\n",
              "      <th>popularity</th>\n",
              "      <th>poster_path</th>\n",
              "      <th>production_companies</th>\n",
              "      <th>production_countries</th>\n",
              "      <th>release_date</th>\n",
              "      <th>revenue</th>\n",
              "      <th>runtime</th>\n",
              "      <th>spoken_languages</th>\n",
              "      <th>status</th>\n",
              "      <th>tagline</th>\n",
              "      <th>title</th>\n",
              "      <th>video</th>\n",
              "      <th>vote_average</th>\n",
              "      <th>vote_count</th>\n",
              "    </tr>\n",
              "  </thead>\n",
              "  <tbody>\n",
              "    <tr>\n",
              "      <th>0</th>\n",
              "      <td>False</td>\n",
              "      <td>{'id': 10194, 'name': 'Toy Story Collection', ...</td>\n",
              "      <td>30000000</td>\n",
              "      <td>[{'id': 16, 'name': 'Animation'}, {'id': 35, '...</td>\n",
              "      <td>http://toystory.disney.com/toy-story</td>\n",
              "      <td>862</td>\n",
              "      <td>tt0114709</td>\n",
              "      <td>en</td>\n",
              "      <td>Toy Story</td>\n",
              "      <td>Led by Woody, Andy's toys live happily in his ...</td>\n",
              "      <td>21.9469</td>\n",
              "      <td>/rhIRbceoE9lR4veEXuwCC2wARtG.jpg</td>\n",
              "      <td>[{'name': 'Pixar Animation Studios', 'id': 3}]</td>\n",
              "      <td>[{'iso_3166_1': 'US', 'name': 'United States o...</td>\n",
              "      <td>1995-10-30</td>\n",
              "      <td>373554033.0</td>\n",
              "      <td>81.0</td>\n",
              "      <td>[{'iso_639_1': 'en', 'name': 'English'}]</td>\n",
              "      <td>Released</td>\n",
              "      <td>NaN</td>\n",
              "      <td>Toy Story</td>\n",
              "      <td>False</td>\n",
              "      <td>7.7</td>\n",
              "      <td>5415.0</td>\n",
              "    </tr>\n",
              "    <tr>\n",
              "      <th>1</th>\n",
              "      <td>False</td>\n",
              "      <td>NaN</td>\n",
              "      <td>65000000</td>\n",
              "      <td>[{'id': 12, 'name': 'Adventure'}, {'id': 14, '...</td>\n",
              "      <td>NaN</td>\n",
              "      <td>8844</td>\n",
              "      <td>tt0113497</td>\n",
              "      <td>en</td>\n",
              "      <td>Jumanji</td>\n",
              "      <td>When siblings Judy and Peter discover an encha...</td>\n",
              "      <td>17.0155</td>\n",
              "      <td>/vzmL6fP7aPKNKPRTFnZmiUfciyV.jpg</td>\n",
              "      <td>[{'name': 'TriStar Pictures', 'id': 559}, {'na...</td>\n",
              "      <td>[{'iso_3166_1': 'US', 'name': 'United States o...</td>\n",
              "      <td>1995-12-15</td>\n",
              "      <td>262797249.0</td>\n",
              "      <td>104.0</td>\n",
              "      <td>[{'iso_639_1': 'en', 'name': 'English'}, {'iso...</td>\n",
              "      <td>Released</td>\n",
              "      <td>Roll the dice and unleash the excitement!</td>\n",
              "      <td>Jumanji</td>\n",
              "      <td>False</td>\n",
              "      <td>6.9</td>\n",
              "      <td>2413.0</td>\n",
              "    </tr>\n",
              "  </tbody>\n",
              "</table>\n",
              "</div>"
            ],
            "text/plain": [
              "   adult  ... vote_count\n",
              "0  False  ...     5415.0\n",
              "1  False  ...     2413.0\n",
              "\n",
              "[2 rows x 24 columns]"
            ]
          },
          "metadata": {
            "tags": []
          },
          "execution_count": 6
        }
      ]
    },
    {
      "cell_type": "code",
      "metadata": {
        "id": "ClmyOP0ow3QP"
      },
      "source": [
        "meta['release_date'] = pd.to_datetime(meta['release_date'],errors='coerce')"
      ],
      "execution_count": 7,
      "outputs": []
    },
    {
      "cell_type": "code",
      "metadata": {
        "id": "ZK6NC88sz2f9"
      },
      "source": [
        "meta['year'] = meta['release_date'].dt.year"
      ],
      "execution_count": 8,
      "outputs": []
    },
    {
      "cell_type": "code",
      "metadata": {
        "id": "_j6EZqAr0GWm",
        "outputId": "be9df575-9e0b-48d3-b35f-14f7c9d8b45a",
        "colab": {
          "base_uri": "https://localhost:8080/",
          "height": 216
        }
      },
      "source": [
        "meta['year'].value_counts().sort_index()"
      ],
      "execution_count": 9,
      "outputs": [
        {
          "output_type": "execute_result",
          "data": {
            "text/plain": [
              "1874.0       1\n",
              "1878.0       1\n",
              "1883.0       1\n",
              "1887.0       1\n",
              "1888.0       2\n",
              "          ... \n",
              "2015.0    1905\n",
              "2016.0    1604\n",
              "2017.0     532\n",
              "2018.0       5\n",
              "2020.0       1\n",
              "Name: year, Length: 135, dtype: int64"
            ]
          },
          "metadata": {
            "tags": []
          },
          "execution_count": 9
        }
      ]
    },
    {
      "cell_type": "code",
      "metadata": {
        "id": "ZsAe-_vU0hIv",
        "outputId": "10415758-9db8-4927-8698-a23f3b16909e",
        "colab": {
          "base_uri": "https://localhost:8080/",
          "height": 137
        }
      },
      "source": [
        "new_meta = meta.loc[meta.year == 2017,['genres','id','title','year']]\n",
        "new_meta.head(3)"
      ],
      "execution_count": 10,
      "outputs": [
        {
          "output_type": "execute_result",
          "data": {
            "text/html": [
              "<div>\n",
              "<style scoped>\n",
              "    .dataframe tbody tr th:only-of-type {\n",
              "        vertical-align: middle;\n",
              "    }\n",
              "\n",
              "    .dataframe tbody tr th {\n",
              "        vertical-align: top;\n",
              "    }\n",
              "\n",
              "    .dataframe thead th {\n",
              "        text-align: right;\n",
              "    }\n",
              "</style>\n",
              "<table border=\"1\" class=\"dataframe\">\n",
              "  <thead>\n",
              "    <tr style=\"text-align: right;\">\n",
              "      <th></th>\n",
              "      <th>genres</th>\n",
              "      <th>id</th>\n",
              "      <th>title</th>\n",
              "      <th>year</th>\n",
              "    </tr>\n",
              "  </thead>\n",
              "  <tbody>\n",
              "    <tr>\n",
              "      <th>26560</th>\n",
              "      <td>[{'id': 12, 'name': 'Adventure'}, {'id': 28, '...</td>\n",
              "      <td>166426</td>\n",
              "      <td>Pirates of the Caribbean: Dead Men Tell No Tales</td>\n",
              "      <td>2017.0</td>\n",
              "    </tr>\n",
              "    <tr>\n",
              "      <th>26561</th>\n",
              "      <td>[{'id': 28, 'name': 'Action'}, {'id': 12, 'nam...</td>\n",
              "      <td>141052</td>\n",
              "      <td>Justice League</td>\n",
              "      <td>2017.0</td>\n",
              "    </tr>\n",
              "    <tr>\n",
              "      <th>26565</th>\n",
              "      <td>[{'id': 28, 'name': 'Action'}, {'id': 12, 'nam...</td>\n",
              "      <td>284053</td>\n",
              "      <td>Thor: Ragnarok</td>\n",
              "      <td>2017.0</td>\n",
              "    </tr>\n",
              "  </tbody>\n",
              "</table>\n",
              "</div>"
            ],
            "text/plain": [
              "                                                  genres  ...    year\n",
              "26560  [{'id': 12, 'name': 'Adventure'}, {'id': 28, '...  ...  2017.0\n",
              "26561  [{'id': 28, 'name': 'Action'}, {'id': 12, 'nam...  ...  2017.0\n",
              "26565  [{'id': 28, 'name': 'Action'}, {'id': 12, 'nam...  ...  2017.0\n",
              "\n",
              "[3 rows x 4 columns]"
            ]
          },
          "metadata": {
            "tags": []
          },
          "execution_count": 10
        }
      ]
    },
    {
      "cell_type": "code",
      "metadata": {
        "id": "zw7yfCx821Bj"
      },
      "source": [
        "new_meta['id'] = new_meta['id'].astype(int)"
      ],
      "execution_count": 11,
      "outputs": []
    },
    {
      "cell_type": "code",
      "metadata": {
        "id": "xYFt47H_3QwD"
      },
      "source": [
        "data = pd.merge(new_meta,credits,on='id')"
      ],
      "execution_count": 12,
      "outputs": []
    },
    {
      "cell_type": "code",
      "metadata": {
        "id": "xYOKdiCa3iiN",
        "outputId": "fa0b61f4-64fe-492d-9ebc-09e9eb07017b",
        "colab": {
          "base_uri": "https://localhost:8080/",
          "height": 287
        }
      },
      "source": [
        "pd.set_option('display.max_colwidth', 75)\n",
        "data.head(3)"
      ],
      "execution_count": 13,
      "outputs": [
        {
          "output_type": "execute_result",
          "data": {
            "text/html": [
              "<div>\n",
              "<style scoped>\n",
              "    .dataframe tbody tr th:only-of-type {\n",
              "        vertical-align: middle;\n",
              "    }\n",
              "\n",
              "    .dataframe tbody tr th {\n",
              "        vertical-align: top;\n",
              "    }\n",
              "\n",
              "    .dataframe thead th {\n",
              "        text-align: right;\n",
              "    }\n",
              "</style>\n",
              "<table border=\"1\" class=\"dataframe\">\n",
              "  <thead>\n",
              "    <tr style=\"text-align: right;\">\n",
              "      <th></th>\n",
              "      <th>genres</th>\n",
              "      <th>id</th>\n",
              "      <th>title</th>\n",
              "      <th>year</th>\n",
              "      <th>cast</th>\n",
              "      <th>crew</th>\n",
              "    </tr>\n",
              "  </thead>\n",
              "  <tbody>\n",
              "    <tr>\n",
              "      <th>0</th>\n",
              "      <td>[{'id': 12, 'name': 'Adventure'}, {'id': 28, 'name': 'Action'}, {'id': ...</td>\n",
              "      <td>166426</td>\n",
              "      <td>Pirates of the Caribbean: Dead Men Tell No Tales</td>\n",
              "      <td>2017.0</td>\n",
              "      <td>[{'cast_id': 1, 'character': 'Captain Jack Sparrow', 'credit_id': '52fe...</td>\n",
              "      <td>[{'credit_id': '52fe4c9cc3a36847f8236a65', 'department': 'Production', ...</td>\n",
              "    </tr>\n",
              "    <tr>\n",
              "      <th>1</th>\n",
              "      <td>[{'id': 28, 'name': 'Action'}, {'id': 12, 'name': 'Adventure'}, {'id': ...</td>\n",
              "      <td>141052</td>\n",
              "      <td>Justice League</td>\n",
              "      <td>2017.0</td>\n",
              "      <td>[{'cast_id': 2, 'character': 'Bruce Wayne / Batman', 'credit_id': '535e...</td>\n",
              "      <td>[{'credit_id': '55ef66dbc3a3686f1700a52d', 'department': 'Production', ...</td>\n",
              "    </tr>\n",
              "    <tr>\n",
              "      <th>2</th>\n",
              "      <td>[{'id': 28, 'name': 'Action'}, {'id': 12, 'name': 'Adventure'}, {'id': ...</td>\n",
              "      <td>284053</td>\n",
              "      <td>Thor: Ragnarok</td>\n",
              "      <td>2017.0</td>\n",
              "      <td>[{'cast_id': 0, 'character': 'Thor Odinson', 'credit_id': '545d46a80e0a...</td>\n",
              "      <td>[{'credit_id': '56a93fa4c3a36872db001e7a', 'department': 'Writing', 'ge...</td>\n",
              "    </tr>\n",
              "  </tbody>\n",
              "</table>\n",
              "</div>"
            ],
            "text/plain": [
              "                                                                       genres  ...                                                                        crew\n",
              "0  [{'id': 12, 'name': 'Adventure'}, {'id': 28, 'name': 'Action'}, {'id': ...  ...  [{'credit_id': '52fe4c9cc3a36847f8236a65', 'department': 'Production', ...\n",
              "1  [{'id': 28, 'name': 'Action'}, {'id': 12, 'name': 'Adventure'}, {'id': ...  ...  [{'credit_id': '55ef66dbc3a3686f1700a52d', 'department': 'Production', ...\n",
              "2  [{'id': 28, 'name': 'Action'}, {'id': 12, 'name': 'Adventure'}, {'id': ...  ...  [{'credit_id': '56a93fa4c3a36872db001e7a', 'department': 'Writing', 'ge...\n",
              "\n",
              "[3 rows x 6 columns]"
            ]
          },
          "metadata": {
            "tags": []
          },
          "execution_count": 13
        }
      ]
    },
    {
      "cell_type": "code",
      "metadata": {
        "id": "2VE1bB7zFMWB"
      },
      "source": [
        "import ast\n",
        "data['genres']=data['genres'].map(lambda x: ast.literal_eval(x))"
      ],
      "execution_count": 14,
      "outputs": []
    },
    {
      "cell_type": "code",
      "metadata": {
        "id": "b2CAcMp4K3y2"
      },
      "source": [
        "data['cast']=data['cast'].map(lambda x: ast.literal_eval(x))"
      ],
      "execution_count": 15,
      "outputs": []
    },
    {
      "cell_type": "code",
      "metadata": {
        "id": "4d4RbxBgK8_U"
      },
      "source": [
        "data['crew']=data['crew'].map(lambda x: ast.literal_eval(x))"
      ],
      "execution_count": 16,
      "outputs": []
    },
    {
      "cell_type": "code",
      "metadata": {
        "id": "i0yBFBSxNNUt",
        "outputId": "8179792c-1219-4ddf-d355-696a9b32bf1b",
        "colab": {
          "base_uri": "https://localhost:8080/",
          "height": 271
        }
      },
      "source": [
        "data.iloc[21:24,:]"
      ],
      "execution_count": 17,
      "outputs": [
        {
          "output_type": "execute_result",
          "data": {
            "text/html": [
              "<div>\n",
              "<style scoped>\n",
              "    .dataframe tbody tr th:only-of-type {\n",
              "        vertical-align: middle;\n",
              "    }\n",
              "\n",
              "    .dataframe tbody tr th {\n",
              "        vertical-align: top;\n",
              "    }\n",
              "\n",
              "    .dataframe thead th {\n",
              "        text-align: right;\n",
              "    }\n",
              "</style>\n",
              "<table border=\"1\" class=\"dataframe\">\n",
              "  <thead>\n",
              "    <tr style=\"text-align: right;\">\n",
              "      <th></th>\n",
              "      <th>genres</th>\n",
              "      <th>id</th>\n",
              "      <th>title</th>\n",
              "      <th>year</th>\n",
              "      <th>cast</th>\n",
              "      <th>crew</th>\n",
              "    </tr>\n",
              "  </thead>\n",
              "  <tbody>\n",
              "    <tr>\n",
              "      <th>21</th>\n",
              "      <td>[{'id': 10749, 'name': 'Romance'}, {'id': 18, 'name': 'Drama'}]</td>\n",
              "      <td>374471</td>\n",
              "      <td>Porto</td>\n",
              "      <td>2017.0</td>\n",
              "      <td>[{'cast_id': 7, 'character': 'Mati Vargnier', 'credit_id': '56802514925...</td>\n",
              "      <td>[{'credit_id': '568024559251412e5200b981', 'department': 'Directing', '...</td>\n",
              "    </tr>\n",
              "    <tr>\n",
              "      <th>22</th>\n",
              "      <td>[{'id': 35, 'name': 'Comedy'}, {'id': 18, 'name': 'Drama'}, {'id': 1075...</td>\n",
              "      <td>388256</td>\n",
              "      <td>Mamaboy</td>\n",
              "      <td>2017.0</td>\n",
              "      <td>[{'cast_id': 2, 'character': 'Kelly Hankins', 'credit_id': '59254235925...</td>\n",
              "      <td>[{'credit_id': '5911e5699251414edb0464fa', 'department': 'Directing', '...</td>\n",
              "    </tr>\n",
              "    <tr>\n",
              "      <th>23</th>\n",
              "      <td>[{'id': 99, 'name': 'Documentary'}]</td>\n",
              "      <td>413765</td>\n",
              "      <td>David Lynch: The Art Life</td>\n",
              "      <td>2017.0</td>\n",
              "      <td>[{'cast_id': 1, 'character': 'Himself', 'credit_id': '57e05349c3a3684dd...</td>\n",
              "      <td>[{'credit_id': '58a1d21f9251413c62005641', 'department': 'Directing', '...</td>\n",
              "    </tr>\n",
              "  </tbody>\n",
              "</table>\n",
              "</div>"
            ],
            "text/plain": [
              "                                                                        genres  ...                                                                        crew\n",
              "21             [{'id': 10749, 'name': 'Romance'}, {'id': 18, 'name': 'Drama'}]  ...  [{'credit_id': '568024559251412e5200b981', 'department': 'Directing', '...\n",
              "22  [{'id': 35, 'name': 'Comedy'}, {'id': 18, 'name': 'Drama'}, {'id': 1075...  ...  [{'credit_id': '5911e5699251414edb0464fa', 'department': 'Directing', '...\n",
              "23                                         [{'id': 99, 'name': 'Documentary'}]  ...  [{'credit_id': '58a1d21f9251413c62005641', 'department': 'Directing', '...\n",
              "\n",
              "[3 rows x 6 columns]"
            ]
          },
          "metadata": {
            "tags": []
          },
          "execution_count": 17
        }
      ]
    },
    {
      "cell_type": "code",
      "metadata": {
        "id": "vaEMeTX-L0i0"
      },
      "source": [
        "def make_genresList(x):\n",
        "  gen=[]\n",
        "  st=\" \"\n",
        "  for i in x:\n",
        "    if i.get('name')=='Science Fiction':\n",
        "      scifi = 'Sci-Fi'\n",
        "      gen.append(scifi)\n",
        "    else:\n",
        "      gen.append(i.get('name'))\n",
        "  if gen==[]:\n",
        "    return np.NaN\n",
        "  else:\n",
        "    return (st.join(gen))    \n",
        "\n"
      ],
      "execution_count": 18,
      "outputs": []
    },
    {
      "cell_type": "code",
      "metadata": {
        "id": "uGitZoA_TThe"
      },
      "source": [
        "data['genres_list']=data['genres'].map(lambda x: make_genresList(x))"
      ],
      "execution_count": 19,
      "outputs": []
    },
    {
      "cell_type": "code",
      "metadata": {
        "id": "rvV_7CK_T1t6",
        "outputId": "8a7ad2c1-ed58-428c-a156-a914b279af58",
        "colab": {
          "base_uri": "https://localhost:8080/",
          "height": 216
        }
      },
      "source": [
        "data['genres_list']"
      ],
      "execution_count": 20,
      "outputs": [
        {
          "output_type": "execute_result",
          "data": {
            "text/plain": [
              "0      Adventure Action Fantasy Comedy\n",
              "1      Action Adventure Fantasy Sci-Fi\n",
              "2      Action Adventure Fantasy Sci-Fi\n",
              "3       Action Adventure Comedy Sci-Fi\n",
              "4             Fantasy Action Adventure\n",
              "                    ...               \n",
              "526                     Romance Comedy\n",
              "527         Crime Comedy Action Family\n",
              "528    Family Animation Romance Comedy\n",
              "529               Crime Drama Thriller\n",
              "530                                NaN\n",
              "Name: genres_list, Length: 531, dtype: object"
            ]
          },
          "metadata": {
            "tags": []
          },
          "execution_count": 20
        }
      ]
    },
    {
      "cell_type": "code",
      "metadata": {
        "id": "ABwtgDy3Ux3x"
      },
      "source": [
        "def get_actor1(x):\n",
        "  casts = []\n",
        "  for i in x:\n",
        "    casts.append(i.get('name'))\n",
        "  if casts ==[]:\n",
        "    return np.NaN\n",
        "  else:\n",
        "    return (casts[0])"
      ],
      "execution_count": 21,
      "outputs": []
    },
    {
      "cell_type": "code",
      "metadata": {
        "id": "E7ae2EzeXFUl"
      },
      "source": [
        "data['actor_1_name'] = data['cast'].map(lambda x: get_actor1(x)) "
      ],
      "execution_count": 22,
      "outputs": []
    },
    {
      "cell_type": "code",
      "metadata": {
        "id": "ttVQKOQZaNfo"
      },
      "source": [
        "def get_actor2(x):\n",
        "  casts = []\n",
        "  for i in x:\n",
        "    casts.append(i.get('name'))\n",
        "  if casts == [] or len(casts) <=1:\n",
        "    return np.NaN\n",
        "  else:\n",
        "    return (casts[1])"
      ],
      "execution_count": 23,
      "outputs": []
    },
    {
      "cell_type": "code",
      "metadata": {
        "id": "6DUPJOlBoPOG"
      },
      "source": [
        "data['actor_2_name'] = data['cast'].map(lambda x: get_actor2(x))\n"
      ],
      "execution_count": 24,
      "outputs": []
    },
    {
      "cell_type": "code",
      "metadata": {
        "id": "RCHz5rNxqZ9k",
        "outputId": "1e1bd3f1-2ae8-484e-c9a5-a65eeee7429b",
        "colab": {
          "base_uri": "https://localhost:8080/",
          "height": 216
        }
      },
      "source": [
        "data['actor_2_name']"
      ],
      "execution_count": 25,
      "outputs": [
        {
          "output_type": "execute_result",
          "data": {
            "text/plain": [
              "0       Javier Bardem\n",
              "1        Henry Cavill\n",
              "2      Tom Hiddleston\n",
              "3         Zoe Saldana\n",
              "4        William Hurt\n",
              "            ...      \n",
              "526     Rosa Honkonen\n",
              "527     Wallace Shawn\n",
              "528               NaN\n",
              "529         Sajal Ali\n",
              "530               NaN\n",
              "Name: actor_2_name, Length: 531, dtype: object"
            ]
          },
          "metadata": {
            "tags": []
          },
          "execution_count": 25
        }
      ]
    },
    {
      "cell_type": "code",
      "metadata": {
        "id": "fIQ5TVO6hUMu"
      },
      "source": [
        "def get_actorN(x,N):\n",
        "  casts = []\n",
        "  st = \" \"\n",
        "  for i in x:\n",
        "    casts.append(i.get('name'))\n",
        "  if casts == [] or len(casts) < N:\n",
        "    return np.NaN\n",
        "  else:\n",
        "    return (casts[N-1])"
      ],
      "execution_count": 26,
      "outputs": []
    },
    {
      "cell_type": "code",
      "metadata": {
        "id": "fQ_60vcrjUz0"
      },
      "source": [
        "data['actor_3_name'] = data['cast'].map(lambda x: get_actorN(x,3))"
      ],
      "execution_count": 27,
      "outputs": []
    },
    {
      "cell_type": "code",
      "metadata": {
        "id": "dUlwTnXSjo60",
        "outputId": "f917bd9b-d9aa-4381-f48e-78b354814f60",
        "colab": {
          "base_uri": "https://localhost:8080/",
          "height": 216
        }
      },
      "source": [
        "data['actor_3_name']"
      ],
      "execution_count": 28,
      "outputs": [
        {
          "output_type": "execute_result",
          "data": {
            "text/plain": [
              "0        Geoffrey Rush\n",
              "1            Gal Gadot\n",
              "2       Cate Blanchett\n",
              "3        Dave Bautista\n",
              "4      Benjamin Walker\n",
              "            ...       \n",
              "526     Tiitus Rantala\n",
              "527        Gina Holden\n",
              "528                NaN\n",
              "529     Akshaye Khanna\n",
              "530                NaN\n",
              "Name: actor_3_name, Length: 531, dtype: object"
            ]
          },
          "metadata": {
            "tags": []
          },
          "execution_count": 28
        }
      ]
    },
    {
      "cell_type": "code",
      "metadata": {
        "id": "Odjjq0SlklEp"
      },
      "source": [
        "def get_director(x):\n",
        "  dt = []\n",
        "  st = \" \"\n",
        "  for i in x:\n",
        "    if i.get('job') == 'Director':\n",
        "      dt.append(i.get('name'))\n",
        "  if dt == []:\n",
        "    return np.NaN\n",
        "  else:\n",
        "    return st.join(dt)"
      ],
      "execution_count": 29,
      "outputs": []
    },
    {
      "cell_type": "code",
      "metadata": {
        "id": "vzZMPS-VlnjP"
      },
      "source": [
        "data['director_name'] = data['crew'].map(lambda x: get_director(x))"
      ],
      "execution_count": 30,
      "outputs": []
    },
    {
      "cell_type": "code",
      "metadata": {
        "id": "Ogdmj1ypmYGb",
        "outputId": "e87d4ec1-2ad8-45e0-d8c9-f5db91387312",
        "colab": {
          "base_uri": "https://localhost:8080/",
          "height": 216
        }
      },
      "source": [
        "data['director_name']"
      ],
      "execution_count": 31,
      "outputs": [
        {
          "output_type": "execute_result",
          "data": {
            "text/plain": [
              "0      Joachim Rønning Espen Sandberg\n",
              "1                         Zack Snyder\n",
              "2                       Taika Waititi\n",
              "3                          James Gunn\n",
              "4                       Sean McNamara\n",
              "                    ...              \n",
              "526                  Hannaleena Hauru\n",
              "527             Jonathan A. Rosenbaum\n",
              "528          Beth David Esteban Bravo\n",
              "529                      Ravi Udyawar\n",
              "530                     Daisy Asquith\n",
              "Name: director_name, Length: 531, dtype: object"
            ]
          },
          "metadata": {
            "tags": []
          },
          "execution_count": 31
        }
      ]
    },
    {
      "cell_type": "code",
      "metadata": {
        "id": "b7_tefP4mw2a"
      },
      "source": [
        "movie = data.loc[:, ['director_name', 'actor_1_name', 'actor_2_name', 'actor_3_name', 'genres_list', 'title']]"
      ],
      "execution_count": 32,
      "outputs": []
    },
    {
      "cell_type": "code",
      "metadata": {
        "id": "KGwAlDChpua0",
        "outputId": "eadebe73-a089-40e6-cea3-5940bc286d0b",
        "colab": {
          "base_uri": "https://localhost:8080/",
          "height": 301
        }
      },
      "source": [
        "movie.loc[0:3 , :]"
      ],
      "execution_count": 33,
      "outputs": [
        {
          "output_type": "execute_result",
          "data": {
            "text/html": [
              "<div>\n",
              "<style scoped>\n",
              "    .dataframe tbody tr th:only-of-type {\n",
              "        vertical-align: middle;\n",
              "    }\n",
              "\n",
              "    .dataframe tbody tr th {\n",
              "        vertical-align: top;\n",
              "    }\n",
              "\n",
              "    .dataframe thead th {\n",
              "        text-align: right;\n",
              "    }\n",
              "</style>\n",
              "<table border=\"1\" class=\"dataframe\">\n",
              "  <thead>\n",
              "    <tr style=\"text-align: right;\">\n",
              "      <th></th>\n",
              "      <th>director_name</th>\n",
              "      <th>actor_1_name</th>\n",
              "      <th>actor_2_name</th>\n",
              "      <th>actor_3_name</th>\n",
              "      <th>genres_list</th>\n",
              "      <th>title</th>\n",
              "    </tr>\n",
              "  </thead>\n",
              "  <tbody>\n",
              "    <tr>\n",
              "      <th>0</th>\n",
              "      <td>Joachim Rønning Espen Sandberg</td>\n",
              "      <td>Johnny Depp</td>\n",
              "      <td>Javier Bardem</td>\n",
              "      <td>Geoffrey Rush</td>\n",
              "      <td>Adventure Action Fantasy Comedy</td>\n",
              "      <td>Pirates of the Caribbean: Dead Men Tell No Tales</td>\n",
              "    </tr>\n",
              "    <tr>\n",
              "      <th>1</th>\n",
              "      <td>Zack Snyder</td>\n",
              "      <td>Ben Affleck</td>\n",
              "      <td>Henry Cavill</td>\n",
              "      <td>Gal Gadot</td>\n",
              "      <td>Action Adventure Fantasy Sci-Fi</td>\n",
              "      <td>Justice League</td>\n",
              "    </tr>\n",
              "    <tr>\n",
              "      <th>2</th>\n",
              "      <td>Taika Waititi</td>\n",
              "      <td>Chris Hemsworth</td>\n",
              "      <td>Tom Hiddleston</td>\n",
              "      <td>Cate Blanchett</td>\n",
              "      <td>Action Adventure Fantasy Sci-Fi</td>\n",
              "      <td>Thor: Ragnarok</td>\n",
              "    </tr>\n",
              "    <tr>\n",
              "      <th>3</th>\n",
              "      <td>James Gunn</td>\n",
              "      <td>Chris Pratt</td>\n",
              "      <td>Zoe Saldana</td>\n",
              "      <td>Dave Bautista</td>\n",
              "      <td>Action Adventure Comedy Sci-Fi</td>\n",
              "      <td>Guardians of the Galaxy Vol. 2</td>\n",
              "    </tr>\n",
              "  </tbody>\n",
              "</table>\n",
              "</div>"
            ],
            "text/plain": [
              "                    director_name  ...                                             title\n",
              "0  Joachim Rønning Espen Sandberg  ...  Pirates of the Caribbean: Dead Men Tell No Tales\n",
              "1                     Zack Snyder  ...                                    Justice League\n",
              "2                   Taika Waititi  ...                                    Thor: Ragnarok\n",
              "3                      James Gunn  ...                    Guardians of the Galaxy Vol. 2\n",
              "\n",
              "[4 rows x 6 columns]"
            ]
          },
          "metadata": {
            "tags": []
          },
          "execution_count": 33
        }
      ]
    },
    {
      "cell_type": "code",
      "metadata": {
        "id": "aBpWTF68qgb3",
        "outputId": "35269217-0085-4c00-c539-cf20ffb9aa8e",
        "colab": {
          "base_uri": "https://localhost:8080/",
          "height": 133
        }
      },
      "source": [
        "movie.isna().sum()"
      ],
      "execution_count": 34,
      "outputs": [
        {
          "output_type": "execute_result",
          "data": {
            "text/plain": [
              "director_name     4\n",
              "actor_1_name     22\n",
              "actor_2_name     55\n",
              "actor_3_name     70\n",
              "genres_list       7\n",
              "title             0\n",
              "dtype: int64"
            ]
          },
          "metadata": {
            "tags": []
          },
          "execution_count": 34
        }
      ]
    },
    {
      "cell_type": "code",
      "metadata": {
        "id": "dxzdpevdqn5H"
      },
      "source": [
        "movie = movie.dropna(how = 'any')"
      ],
      "execution_count": 35,
      "outputs": []
    },
    {
      "cell_type": "code",
      "metadata": {
        "id": "ftncmnVCq415",
        "outputId": "a298ea21-3400-4af9-f4e6-f55b1d0c01ad",
        "colab": {
          "base_uri": "https://localhost:8080/",
          "height": 133
        }
      },
      "source": [
        "movie.isna().sum()"
      ],
      "execution_count": 36,
      "outputs": [
        {
          "output_type": "execute_result",
          "data": {
            "text/plain": [
              "director_name    0\n",
              "actor_1_name     0\n",
              "actor_2_name     0\n",
              "actor_3_name     0\n",
              "genres_list      0\n",
              "title            0\n",
              "dtype: int64"
            ]
          },
          "metadata": {
            "tags": []
          },
          "execution_count": 36
        }
      ]
    },
    {
      "cell_type": "code",
      "metadata": {
        "id": "ZKCeK0I5rqpd"
      },
      "source": [
        "movie = movie.rename(columns={'genres_list': 'genres'})\n",
        "movie = movie.rename(columns={'title':'movie_title'})"
      ],
      "execution_count": 37,
      "outputs": []
    },
    {
      "cell_type": "code",
      "metadata": {
        "id": "T4hDtZnusThM"
      },
      "source": [
        "movie['movie_title']=movie['movie_title'].str.lower()"
      ],
      "execution_count": 38,
      "outputs": []
    },
    {
      "cell_type": "code",
      "metadata": {
        "id": "UgXMYhNGshJT"
      },
      "source": [
        "movie['comb'] = movie['actor_1_name'] + ' ' + movie['actor_2_name'] + ' ' + movie['actor_3_name'] + ' ' + movie['director_name'] + ' ' + movie['genres']"
      ],
      "execution_count": 39,
      "outputs": []
    },
    {
      "cell_type": "code",
      "metadata": {
        "id": "sP5djXHGtNgq",
        "outputId": "eed591bb-a35f-4c77-f3e9-cc5ccbdd006c",
        "colab": {
          "base_uri": "https://localhost:8080/",
          "height": 401
        }
      },
      "source": [
        "movie.loc[0:3,:]"
      ],
      "execution_count": 40,
      "outputs": [
        {
          "output_type": "execute_result",
          "data": {
            "text/html": [
              "<div>\n",
              "<style scoped>\n",
              "    .dataframe tbody tr th:only-of-type {\n",
              "        vertical-align: middle;\n",
              "    }\n",
              "\n",
              "    .dataframe tbody tr th {\n",
              "        vertical-align: top;\n",
              "    }\n",
              "\n",
              "    .dataframe thead th {\n",
              "        text-align: right;\n",
              "    }\n",
              "</style>\n",
              "<table border=\"1\" class=\"dataframe\">\n",
              "  <thead>\n",
              "    <tr style=\"text-align: right;\">\n",
              "      <th></th>\n",
              "      <th>director_name</th>\n",
              "      <th>actor_1_name</th>\n",
              "      <th>actor_2_name</th>\n",
              "      <th>actor_3_name</th>\n",
              "      <th>genres</th>\n",
              "      <th>movie_title</th>\n",
              "      <th>comb</th>\n",
              "    </tr>\n",
              "  </thead>\n",
              "  <tbody>\n",
              "    <tr>\n",
              "      <th>0</th>\n",
              "      <td>Joachim Rønning Espen Sandberg</td>\n",
              "      <td>Johnny Depp</td>\n",
              "      <td>Javier Bardem</td>\n",
              "      <td>Geoffrey Rush</td>\n",
              "      <td>Adventure Action Fantasy Comedy</td>\n",
              "      <td>pirates of the caribbean: dead men tell no tales</td>\n",
              "      <td>Johnny Depp Javier Bardem Geoffrey Rush Joachim Rønning Espen Sandberg ...</td>\n",
              "    </tr>\n",
              "    <tr>\n",
              "      <th>1</th>\n",
              "      <td>Zack Snyder</td>\n",
              "      <td>Ben Affleck</td>\n",
              "      <td>Henry Cavill</td>\n",
              "      <td>Gal Gadot</td>\n",
              "      <td>Action Adventure Fantasy Sci-Fi</td>\n",
              "      <td>justice league</td>\n",
              "      <td>Ben Affleck Henry Cavill Gal Gadot Zack Snyder Action Adventure Fantasy...</td>\n",
              "    </tr>\n",
              "    <tr>\n",
              "      <th>2</th>\n",
              "      <td>Taika Waititi</td>\n",
              "      <td>Chris Hemsworth</td>\n",
              "      <td>Tom Hiddleston</td>\n",
              "      <td>Cate Blanchett</td>\n",
              "      <td>Action Adventure Fantasy Sci-Fi</td>\n",
              "      <td>thor: ragnarok</td>\n",
              "      <td>Chris Hemsworth Tom Hiddleston Cate Blanchett Taika Waititi Action Adve...</td>\n",
              "    </tr>\n",
              "    <tr>\n",
              "      <th>3</th>\n",
              "      <td>James Gunn</td>\n",
              "      <td>Chris Pratt</td>\n",
              "      <td>Zoe Saldana</td>\n",
              "      <td>Dave Bautista</td>\n",
              "      <td>Action Adventure Comedy Sci-Fi</td>\n",
              "      <td>guardians of the galaxy vol. 2</td>\n",
              "      <td>Chris Pratt Zoe Saldana Dave Bautista James Gunn Action Adventure Comed...</td>\n",
              "    </tr>\n",
              "  </tbody>\n",
              "</table>\n",
              "</div>"
            ],
            "text/plain": [
              "                    director_name  ...                                                                        comb\n",
              "0  Joachim Rønning Espen Sandberg  ...  Johnny Depp Javier Bardem Geoffrey Rush Joachim Rønning Espen Sandberg ...\n",
              "1                     Zack Snyder  ...  Ben Affleck Henry Cavill Gal Gadot Zack Snyder Action Adventure Fantasy...\n",
              "2                   Taika Waititi  ...  Chris Hemsworth Tom Hiddleston Cate Blanchett Taika Waititi Action Adve...\n",
              "3                      James Gunn  ...  Chris Pratt Zoe Saldana Dave Bautista James Gunn Action Adventure Comed...\n",
              "\n",
              "[4 rows x 7 columns]"
            ]
          },
          "metadata": {
            "tags": []
          },
          "execution_count": 40
        }
      ]
    },
    {
      "cell_type": "code",
      "metadata": {
        "id": "SYEliNActtpY"
      },
      "source": [
        "old = pd.read_csv('/content/1.-inputs_movie_recomendation/outputs/preprocessed_1.csv')"
      ],
      "execution_count": 41,
      "outputs": []
    },
    {
      "cell_type": "code",
      "metadata": {
        "id": "Zc5XZ17cJEw_",
        "outputId": "a8f41fef-c9c0-464f-d0d6-b403118b1398",
        "colab": {
          "base_uri": "https://localhost:8080/",
          "height": 204
        }
      },
      "source": [
        "old.loc[0:2,:]"
      ],
      "execution_count": 42,
      "outputs": [
        {
          "output_type": "execute_result",
          "data": {
            "text/html": [
              "<div>\n",
              "<style scoped>\n",
              "    .dataframe tbody tr th:only-of-type {\n",
              "        vertical-align: middle;\n",
              "    }\n",
              "\n",
              "    .dataframe tbody tr th {\n",
              "        vertical-align: top;\n",
              "    }\n",
              "\n",
              "    .dataframe thead th {\n",
              "        text-align: right;\n",
              "    }\n",
              "</style>\n",
              "<table border=\"1\" class=\"dataframe\">\n",
              "  <thead>\n",
              "    <tr style=\"text-align: right;\">\n",
              "      <th></th>\n",
              "      <th>director_name</th>\n",
              "      <th>actor_1_name</th>\n",
              "      <th>actor_2_name</th>\n",
              "      <th>actor_3_name</th>\n",
              "      <th>genres</th>\n",
              "      <th>movie_title</th>\n",
              "    </tr>\n",
              "  </thead>\n",
              "  <tbody>\n",
              "    <tr>\n",
              "      <th>0</th>\n",
              "      <td>James Cameron</td>\n",
              "      <td>CCH Pounder</td>\n",
              "      <td>Joel David Moore</td>\n",
              "      <td>Wes Studi</td>\n",
              "      <td>Action|Adventure|Fantasy|Sci-Fi</td>\n",
              "      <td>avatar</td>\n",
              "    </tr>\n",
              "    <tr>\n",
              "      <th>1</th>\n",
              "      <td>Gore Verbinski</td>\n",
              "      <td>Johnny Depp</td>\n",
              "      <td>Orlando Bloom</td>\n",
              "      <td>Jack Davenport</td>\n",
              "      <td>Action|Adventure|Fantasy</td>\n",
              "      <td>pirates of the caribbean: at world's end</td>\n",
              "    </tr>\n",
              "    <tr>\n",
              "      <th>2</th>\n",
              "      <td>Sam Mendes</td>\n",
              "      <td>Christoph Waltz</td>\n",
              "      <td>Rory Kinnear</td>\n",
              "      <td>Stephanie Sigman</td>\n",
              "      <td>Action|Adventure|Thriller</td>\n",
              "      <td>spectre</td>\n",
              "    </tr>\n",
              "  </tbody>\n",
              "</table>\n",
              "</div>"
            ],
            "text/plain": [
              "    director_name  ...                               movie_title\n",
              "0   James Cameron  ...                                    avatar\n",
              "1  Gore Verbinski  ...  pirates of the caribbean: at world's end\n",
              "2      Sam Mendes  ...                                   spectre\n",
              "\n",
              "[3 rows x 6 columns]"
            ]
          },
          "metadata": {
            "tags": []
          },
          "execution_count": 42
        }
      ]
    },
    {
      "cell_type": "code",
      "metadata": {
        "id": "gH4ORTtJJitY"
      },
      "source": [
        "old['comb'] = old['actor_1_name'] + ' ' + old['actor_2_name'] + ' ' + old['actor_3_name'] + ' ' + old['director_name'] + ' ' + old['genres']"
      ],
      "execution_count": 43,
      "outputs": []
    },
    {
      "cell_type": "code",
      "metadata": {
        "id": "qrF_44nxJtDC",
        "outputId": "3c74f43d-3fb5-4d04-a90d-c013937c73e9",
        "colab": {
          "base_uri": "https://localhost:8080/",
          "height": 357
        }
      },
      "source": [
        "old.loc[0:2,:]"
      ],
      "execution_count": 44,
      "outputs": [
        {
          "output_type": "execute_result",
          "data": {
            "text/html": [
              "<div>\n",
              "<style scoped>\n",
              "    .dataframe tbody tr th:only-of-type {\n",
              "        vertical-align: middle;\n",
              "    }\n",
              "\n",
              "    .dataframe tbody tr th {\n",
              "        vertical-align: top;\n",
              "    }\n",
              "\n",
              "    .dataframe thead th {\n",
              "        text-align: right;\n",
              "    }\n",
              "</style>\n",
              "<table border=\"1\" class=\"dataframe\">\n",
              "  <thead>\n",
              "    <tr style=\"text-align: right;\">\n",
              "      <th></th>\n",
              "      <th>director_name</th>\n",
              "      <th>actor_1_name</th>\n",
              "      <th>actor_2_name</th>\n",
              "      <th>actor_3_name</th>\n",
              "      <th>genres</th>\n",
              "      <th>movie_title</th>\n",
              "      <th>comb</th>\n",
              "    </tr>\n",
              "  </thead>\n",
              "  <tbody>\n",
              "    <tr>\n",
              "      <th>0</th>\n",
              "      <td>James Cameron</td>\n",
              "      <td>CCH Pounder</td>\n",
              "      <td>Joel David Moore</td>\n",
              "      <td>Wes Studi</td>\n",
              "      <td>Action|Adventure|Fantasy|Sci-Fi</td>\n",
              "      <td>avatar</td>\n",
              "      <td>CCH Pounder Joel David Moore Wes Studi James Cameron Action|Adventure|F...</td>\n",
              "    </tr>\n",
              "    <tr>\n",
              "      <th>1</th>\n",
              "      <td>Gore Verbinski</td>\n",
              "      <td>Johnny Depp</td>\n",
              "      <td>Orlando Bloom</td>\n",
              "      <td>Jack Davenport</td>\n",
              "      <td>Action|Adventure|Fantasy</td>\n",
              "      <td>pirates of the caribbean: at world's end</td>\n",
              "      <td>Johnny Depp Orlando Bloom Jack Davenport Gore Verbinski Action|Adventur...</td>\n",
              "    </tr>\n",
              "    <tr>\n",
              "      <th>2</th>\n",
              "      <td>Sam Mendes</td>\n",
              "      <td>Christoph Waltz</td>\n",
              "      <td>Rory Kinnear</td>\n",
              "      <td>Stephanie Sigman</td>\n",
              "      <td>Action|Adventure|Thriller</td>\n",
              "      <td>spectre</td>\n",
              "      <td>Christoph Waltz Rory Kinnear Stephanie Sigman Sam Mendes Action|Adventu...</td>\n",
              "    </tr>\n",
              "  </tbody>\n",
              "</table>\n",
              "</div>"
            ],
            "text/plain": [
              "    director_name  ...                                                                        comb\n",
              "0   James Cameron  ...  CCH Pounder Joel David Moore Wes Studi James Cameron Action|Adventure|F...\n",
              "1  Gore Verbinski  ...  Johnny Depp Orlando Bloom Jack Davenport Gore Verbinski Action|Adventur...\n",
              "2      Sam Mendes  ...  Christoph Waltz Rory Kinnear Stephanie Sigman Sam Mendes Action|Adventu...\n",
              "\n",
              "[3 rows x 7 columns]"
            ]
          },
          "metadata": {
            "tags": []
          },
          "execution_count": 44
        }
      ]
    },
    {
      "cell_type": "code",
      "metadata": {
        "id": "mJhO1PLIJ4hw"
      },
      "source": [
        "new = old.append(movie)"
      ],
      "execution_count": 45,
      "outputs": []
    },
    {
      "cell_type": "code",
      "metadata": {
        "id": "nh4MFMZtJ_W3",
        "outputId": "c5f3bb1b-878a-4a28-a326-ba70a060486b",
        "colab": {
          "base_uri": "https://localhost:8080/",
          "height": 1000
        }
      },
      "source": [
        "new"
      ],
      "execution_count": 46,
      "outputs": [
        {
          "output_type": "execute_result",
          "data": {
            "text/html": [
              "<div>\n",
              "<style scoped>\n",
              "    .dataframe tbody tr th:only-of-type {\n",
              "        vertical-align: middle;\n",
              "    }\n",
              "\n",
              "    .dataframe tbody tr th {\n",
              "        vertical-align: top;\n",
              "    }\n",
              "\n",
              "    .dataframe thead th {\n",
              "        text-align: right;\n",
              "    }\n",
              "</style>\n",
              "<table border=\"1\" class=\"dataframe\">\n",
              "  <thead>\n",
              "    <tr style=\"text-align: right;\">\n",
              "      <th></th>\n",
              "      <th>director_name</th>\n",
              "      <th>actor_1_name</th>\n",
              "      <th>actor_2_name</th>\n",
              "      <th>actor_3_name</th>\n",
              "      <th>genres</th>\n",
              "      <th>movie_title</th>\n",
              "      <th>comb</th>\n",
              "    </tr>\n",
              "  </thead>\n",
              "  <tbody>\n",
              "    <tr>\n",
              "      <th>0</th>\n",
              "      <td>James Cameron</td>\n",
              "      <td>CCH Pounder</td>\n",
              "      <td>Joel David Moore</td>\n",
              "      <td>Wes Studi</td>\n",
              "      <td>Action|Adventure|Fantasy|Sci-Fi</td>\n",
              "      <td>avatar</td>\n",
              "      <td>CCH Pounder Joel David Moore Wes Studi James Cameron Action|Adventure|F...</td>\n",
              "    </tr>\n",
              "    <tr>\n",
              "      <th>1</th>\n",
              "      <td>Gore Verbinski</td>\n",
              "      <td>Johnny Depp</td>\n",
              "      <td>Orlando Bloom</td>\n",
              "      <td>Jack Davenport</td>\n",
              "      <td>Action|Adventure|Fantasy</td>\n",
              "      <td>pirates of the caribbean: at world's end</td>\n",
              "      <td>Johnny Depp Orlando Bloom Jack Davenport Gore Verbinski Action|Adventur...</td>\n",
              "    </tr>\n",
              "    <tr>\n",
              "      <th>2</th>\n",
              "      <td>Sam Mendes</td>\n",
              "      <td>Christoph Waltz</td>\n",
              "      <td>Rory Kinnear</td>\n",
              "      <td>Stephanie Sigman</td>\n",
              "      <td>Action|Adventure|Thriller</td>\n",
              "      <td>spectre</td>\n",
              "      <td>Christoph Waltz Rory Kinnear Stephanie Sigman Sam Mendes Action|Adventu...</td>\n",
              "    </tr>\n",
              "    <tr>\n",
              "      <th>3</th>\n",
              "      <td>Christopher Nolan</td>\n",
              "      <td>Tom Hardy</td>\n",
              "      <td>Christian Bale</td>\n",
              "      <td>Joseph Gordon-Levitt</td>\n",
              "      <td>Action|Thriller</td>\n",
              "      <td>the dark knight rises</td>\n",
              "      <td>Tom Hardy Christian Bale Joseph Gordon-Levitt Christopher Nolan Action|...</td>\n",
              "    </tr>\n",
              "    <tr>\n",
              "      <th>4</th>\n",
              "      <td>Doug Walker</td>\n",
              "      <td>Doug Walker</td>\n",
              "      <td>Rob Walker</td>\n",
              "      <td>unknown</td>\n",
              "      <td>Documentary</td>\n",
              "      <td>star wars: episode vii - the force awakens</td>\n",
              "      <td>Doug Walker Rob Walker unknown Doug Walker Documentary</td>\n",
              "    </tr>\n",
              "    <tr>\n",
              "      <th>...</th>\n",
              "      <td>...</td>\n",
              "      <td>...</td>\n",
              "      <td>...</td>\n",
              "      <td>...</td>\n",
              "      <td>...</td>\n",
              "      <td>...</td>\n",
              "      <td>...</td>\n",
              "    </tr>\n",
              "    <tr>\n",
              "      <th>524</th>\n",
              "      <td>Jim Strouse</td>\n",
              "      <td>Jessica Williams</td>\n",
              "      <td>Chris O'Dowd</td>\n",
              "      <td>Keith Stanfield</td>\n",
              "      <td>Romance Comedy</td>\n",
              "      <td>the incredible jessica james</td>\n",
              "      <td>Jessica Williams Chris O'Dowd Keith Stanfield Jim Strouse Romance Comedy</td>\n",
              "    </tr>\n",
              "    <tr>\n",
              "      <th>525</th>\n",
              "      <td>Farhad Mann</td>\n",
              "      <td>Adelaide Kane</td>\n",
              "      <td>Benjamin Hollingsworth</td>\n",
              "      <td>Jean Louisa Kelly</td>\n",
              "      <td>Romance</td>\n",
              "      <td>can't buy my love</td>\n",
              "      <td>Adelaide Kane Benjamin Hollingsworth Jean Louisa Kelly Farhad Mann Romance</td>\n",
              "    </tr>\n",
              "    <tr>\n",
              "      <th>526</th>\n",
              "      <td>Hannaleena Hauru</td>\n",
              "      <td>Inka Haapamäki</td>\n",
              "      <td>Rosa Honkonen</td>\n",
              "      <td>Tiitus Rantala</td>\n",
              "      <td>Romance Comedy</td>\n",
              "      <td>thick lashes of lauri mäntyvaara</td>\n",
              "      <td>Inka Haapamäki Rosa Honkonen Tiitus Rantala Hannaleena Hauru Romance Co...</td>\n",
              "    </tr>\n",
              "    <tr>\n",
              "      <th>527</th>\n",
              "      <td>Jonathan A. Rosenbaum</td>\n",
              "      <td>Lou Diamond Phillips</td>\n",
              "      <td>Wallace Shawn</td>\n",
              "      <td>Gina Holden</td>\n",
              "      <td>Crime Comedy Action Family</td>\n",
              "      <td>cop and a half: new recruit</td>\n",
              "      <td>Lou Diamond Phillips Wallace Shawn Gina Holden Jonathan A. Rosenbaum Cr...</td>\n",
              "    </tr>\n",
              "    <tr>\n",
              "      <th>529</th>\n",
              "      <td>Ravi Udyawar</td>\n",
              "      <td>Sridevi Kapoor</td>\n",
              "      <td>Sajal Ali</td>\n",
              "      <td>Akshaye Khanna</td>\n",
              "      <td>Crime Drama Thriller</td>\n",
              "      <td>mom</td>\n",
              "      <td>Sridevi Kapoor Sajal Ali Akshaye Khanna Ravi Udyawar Crime Drama Thriller</td>\n",
              "    </tr>\n",
              "  </tbody>\n",
              "</table>\n",
              "<p>5501 rows × 7 columns</p>\n",
              "</div>"
            ],
            "text/plain": [
              "             director_name  ...                                                                        comb\n",
              "0            James Cameron  ...  CCH Pounder Joel David Moore Wes Studi James Cameron Action|Adventure|F...\n",
              "1           Gore Verbinski  ...  Johnny Depp Orlando Bloom Jack Davenport Gore Verbinski Action|Adventur...\n",
              "2               Sam Mendes  ...  Christoph Waltz Rory Kinnear Stephanie Sigman Sam Mendes Action|Adventu...\n",
              "3        Christopher Nolan  ...  Tom Hardy Christian Bale Joseph Gordon-Levitt Christopher Nolan Action|...\n",
              "4              Doug Walker  ...                      Doug Walker Rob Walker unknown Doug Walker Documentary\n",
              "..                     ...  ...                                                                         ...\n",
              "524            Jim Strouse  ...    Jessica Williams Chris O'Dowd Keith Stanfield Jim Strouse Romance Comedy\n",
              "525            Farhad Mann  ...  Adelaide Kane Benjamin Hollingsworth Jean Louisa Kelly Farhad Mann Romance\n",
              "526       Hannaleena Hauru  ...  Inka Haapamäki Rosa Honkonen Tiitus Rantala Hannaleena Hauru Romance Co...\n",
              "527  Jonathan A. Rosenbaum  ...  Lou Diamond Phillips Wallace Shawn Gina Holden Jonathan A. Rosenbaum Cr...\n",
              "529           Ravi Udyawar  ...   Sridevi Kapoor Sajal Ali Akshaye Khanna Ravi Udyawar Crime Drama Thriller\n",
              "\n",
              "[5501 rows x 7 columns]"
            ]
          },
          "metadata": {
            "tags": []
          },
          "execution_count": 46
        }
      ]
    },
    {
      "cell_type": "code",
      "metadata": {
        "id": "qYPqgwCmP6te"
      },
      "source": [
        "new.drop_duplicates(subset=\"movie_title\", keep='last', inplace = True)"
      ],
      "execution_count": 47,
      "outputs": []
    },
    {
      "cell_type": "code",
      "metadata": {
        "id": "NOxHdLM7QOAb",
        "outputId": "c187e8f0-11a5-4cbe-f477-385e749b0749",
        "colab": {
          "base_uri": "https://localhost:8080/",
          "height": 1000
        }
      },
      "source": [
        "new"
      ],
      "execution_count": 48,
      "outputs": [
        {
          "output_type": "execute_result",
          "data": {
            "text/html": [
              "<div>\n",
              "<style scoped>\n",
              "    .dataframe tbody tr th:only-of-type {\n",
              "        vertical-align: middle;\n",
              "    }\n",
              "\n",
              "    .dataframe tbody tr th {\n",
              "        vertical-align: top;\n",
              "    }\n",
              "\n",
              "    .dataframe thead th {\n",
              "        text-align: right;\n",
              "    }\n",
              "</style>\n",
              "<table border=\"1\" class=\"dataframe\">\n",
              "  <thead>\n",
              "    <tr style=\"text-align: right;\">\n",
              "      <th></th>\n",
              "      <th>director_name</th>\n",
              "      <th>actor_1_name</th>\n",
              "      <th>actor_2_name</th>\n",
              "      <th>actor_3_name</th>\n",
              "      <th>genres</th>\n",
              "      <th>movie_title</th>\n",
              "      <th>comb</th>\n",
              "    </tr>\n",
              "  </thead>\n",
              "  <tbody>\n",
              "    <tr>\n",
              "      <th>0</th>\n",
              "      <td>James Cameron</td>\n",
              "      <td>CCH Pounder</td>\n",
              "      <td>Joel David Moore</td>\n",
              "      <td>Wes Studi</td>\n",
              "      <td>Action|Adventure|Fantasy|Sci-Fi</td>\n",
              "      <td>avatar</td>\n",
              "      <td>CCH Pounder Joel David Moore Wes Studi James Cameron Action|Adventure|F...</td>\n",
              "    </tr>\n",
              "    <tr>\n",
              "      <th>1</th>\n",
              "      <td>Gore Verbinski</td>\n",
              "      <td>Johnny Depp</td>\n",
              "      <td>Orlando Bloom</td>\n",
              "      <td>Jack Davenport</td>\n",
              "      <td>Action|Adventure|Fantasy</td>\n",
              "      <td>pirates of the caribbean: at world's end</td>\n",
              "      <td>Johnny Depp Orlando Bloom Jack Davenport Gore Verbinski Action|Adventur...</td>\n",
              "    </tr>\n",
              "    <tr>\n",
              "      <th>2</th>\n",
              "      <td>Sam Mendes</td>\n",
              "      <td>Christoph Waltz</td>\n",
              "      <td>Rory Kinnear</td>\n",
              "      <td>Stephanie Sigman</td>\n",
              "      <td>Action|Adventure|Thriller</td>\n",
              "      <td>spectre</td>\n",
              "      <td>Christoph Waltz Rory Kinnear Stephanie Sigman Sam Mendes Action|Adventu...</td>\n",
              "    </tr>\n",
              "    <tr>\n",
              "      <th>3</th>\n",
              "      <td>Christopher Nolan</td>\n",
              "      <td>Tom Hardy</td>\n",
              "      <td>Christian Bale</td>\n",
              "      <td>Joseph Gordon-Levitt</td>\n",
              "      <td>Action|Thriller</td>\n",
              "      <td>the dark knight rises</td>\n",
              "      <td>Tom Hardy Christian Bale Joseph Gordon-Levitt Christopher Nolan Action|...</td>\n",
              "    </tr>\n",
              "    <tr>\n",
              "      <th>4</th>\n",
              "      <td>Doug Walker</td>\n",
              "      <td>Doug Walker</td>\n",
              "      <td>Rob Walker</td>\n",
              "      <td>unknown</td>\n",
              "      <td>Documentary</td>\n",
              "      <td>star wars: episode vii - the force awakens</td>\n",
              "      <td>Doug Walker Rob Walker unknown Doug Walker Documentary</td>\n",
              "    </tr>\n",
              "    <tr>\n",
              "      <th>...</th>\n",
              "      <td>...</td>\n",
              "      <td>...</td>\n",
              "      <td>...</td>\n",
              "      <td>...</td>\n",
              "      <td>...</td>\n",
              "      <td>...</td>\n",
              "      <td>...</td>\n",
              "    </tr>\n",
              "    <tr>\n",
              "      <th>524</th>\n",
              "      <td>Jim Strouse</td>\n",
              "      <td>Jessica Williams</td>\n",
              "      <td>Chris O'Dowd</td>\n",
              "      <td>Keith Stanfield</td>\n",
              "      <td>Romance Comedy</td>\n",
              "      <td>the incredible jessica james</td>\n",
              "      <td>Jessica Williams Chris O'Dowd Keith Stanfield Jim Strouse Romance Comedy</td>\n",
              "    </tr>\n",
              "    <tr>\n",
              "      <th>525</th>\n",
              "      <td>Farhad Mann</td>\n",
              "      <td>Adelaide Kane</td>\n",
              "      <td>Benjamin Hollingsworth</td>\n",
              "      <td>Jean Louisa Kelly</td>\n",
              "      <td>Romance</td>\n",
              "      <td>can't buy my love</td>\n",
              "      <td>Adelaide Kane Benjamin Hollingsworth Jean Louisa Kelly Farhad Mann Romance</td>\n",
              "    </tr>\n",
              "    <tr>\n",
              "      <th>526</th>\n",
              "      <td>Hannaleena Hauru</td>\n",
              "      <td>Inka Haapamäki</td>\n",
              "      <td>Rosa Honkonen</td>\n",
              "      <td>Tiitus Rantala</td>\n",
              "      <td>Romance Comedy</td>\n",
              "      <td>thick lashes of lauri mäntyvaara</td>\n",
              "      <td>Inka Haapamäki Rosa Honkonen Tiitus Rantala Hannaleena Hauru Romance Co...</td>\n",
              "    </tr>\n",
              "    <tr>\n",
              "      <th>527</th>\n",
              "      <td>Jonathan A. Rosenbaum</td>\n",
              "      <td>Lou Diamond Phillips</td>\n",
              "      <td>Wallace Shawn</td>\n",
              "      <td>Gina Holden</td>\n",
              "      <td>Crime Comedy Action Family</td>\n",
              "      <td>cop and a half: new recruit</td>\n",
              "      <td>Lou Diamond Phillips Wallace Shawn Gina Holden Jonathan A. Rosenbaum Cr...</td>\n",
              "    </tr>\n",
              "    <tr>\n",
              "      <th>529</th>\n",
              "      <td>Ravi Udyawar</td>\n",
              "      <td>Sridevi Kapoor</td>\n",
              "      <td>Sajal Ali</td>\n",
              "      <td>Akshaye Khanna</td>\n",
              "      <td>Crime Drama Thriller</td>\n",
              "      <td>mom</td>\n",
              "      <td>Sridevi Kapoor Sajal Ali Akshaye Khanna Ravi Udyawar Crime Drama Thriller</td>\n",
              "    </tr>\n",
              "  </tbody>\n",
              "</table>\n",
              "<p>5364 rows × 7 columns</p>\n",
              "</div>"
            ],
            "text/plain": [
              "             director_name  ...                                                                        comb\n",
              "0            James Cameron  ...  CCH Pounder Joel David Moore Wes Studi James Cameron Action|Adventure|F...\n",
              "1           Gore Verbinski  ...  Johnny Depp Orlando Bloom Jack Davenport Gore Verbinski Action|Adventur...\n",
              "2               Sam Mendes  ...  Christoph Waltz Rory Kinnear Stephanie Sigman Sam Mendes Action|Adventu...\n",
              "3        Christopher Nolan  ...  Tom Hardy Christian Bale Joseph Gordon-Levitt Christopher Nolan Action|...\n",
              "4              Doug Walker  ...                      Doug Walker Rob Walker unknown Doug Walker Documentary\n",
              "..                     ...  ...                                                                         ...\n",
              "524            Jim Strouse  ...    Jessica Williams Chris O'Dowd Keith Stanfield Jim Strouse Romance Comedy\n",
              "525            Farhad Mann  ...  Adelaide Kane Benjamin Hollingsworth Jean Louisa Kelly Farhad Mann Romance\n",
              "526       Hannaleena Hauru  ...  Inka Haapamäki Rosa Honkonen Tiitus Rantala Hannaleena Hauru Romance Co...\n",
              "527  Jonathan A. Rosenbaum  ...  Lou Diamond Phillips Wallace Shawn Gina Holden Jonathan A. Rosenbaum Cr...\n",
              "529           Ravi Udyawar  ...   Sridevi Kapoor Sajal Ali Akshaye Khanna Ravi Udyawar Crime Drama Thriller\n",
              "\n",
              "[5364 rows x 7 columns]"
            ]
          },
          "metadata": {
            "tags": []
          },
          "execution_count": 48
        }
      ]
    },
    {
      "cell_type": "code",
      "metadata": {
        "id": "fXKBb5rdQWs_"
      },
      "source": [
        "new.to_csv('preprocessed_2.csv', index = False)"
      ],
      "execution_count": 49,
      "outputs": []
    }
  ]
}