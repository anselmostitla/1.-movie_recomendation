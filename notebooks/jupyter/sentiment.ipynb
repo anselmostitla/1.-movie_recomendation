{
  "nbformat": 4,
  "nbformat_minor": 0,
  "metadata": {
    "colab": {
      "name": "sentiment.ipynb",
      "provenance": []
    },
    "kernelspec": {
      "name": "Python 3.8.5 32-bit",
      "display_name": "Python 3.8.5 32-bit",
      "metadata": {
        "interpreter": {
          "hash": "f2a3fae363c7820dc78d52d4a4cb2853e81f77ff0f3cb01bedf8e2a35df624b9"
        }
      }
    }
  },
  "cells": [
    {
      "cell_type": "code",
      "metadata": {
        "id": "EfSBDj3eQWHZ"
      },
      "source": [
        "import pandas as pd\n",
        "import numpy as np\n",
        "import nltk\n",
        "from nltk.corpus import stopwords\n",
        "from sklearn.feature_extraction.text import TfidfVectorizer\n",
        "from sklearn.model_selection import train_test_split\n",
        "from sklearn import naive_bayes\n",
        "from sklearn.metrics import roc_auc_score, accuracy_score\n",
        "import pickle"
      ],
      "execution_count": 1,
      "outputs": []
    },
    {
      "cell_type": "code",
      "metadata": {
        "id": "0aK_izwwRdZq",
        "outputId": "f21d6797-ad26-4944-c379-1eae701ee6f9",
        "colab": {
          "base_uri": "https://localhost:8080/",
          "height": 66
        }
      },
      "source": [
        "nltk.download(\"stopwords\")"
      ],
      "execution_count": 2,
      "outputs": [
        {
          "output_type": "stream",
          "name": "stderr",
          "text": [
            "[nltk_data] Downloading package stopwords to\n[nltk_data]     C:\\Users\\HP_530\\AppData\\Roaming\\nltk_data...\n[nltk_data]   Package stopwords is already up-to-date!\n"
          ]
        },
        {
          "output_type": "execute_result",
          "data": {
            "text/plain": [
              "True"
            ]
          },
          "metadata": {},
          "execution_count": 2
        }
      ]
    },
    {
      "cell_type": "code",
      "metadata": {
        "id": "tsJCBuAYRkTv",
        "outputId": "64811751-77f2-4e23-f71d-47ce08554437",
        "colab": {
          "base_uri": "https://localhost:8080/",
          "height": 116
        }
      },
      "source": [
        "import os\n",
        "# path = '/content'\n",
        "# dir_name = 'Input_Movie_Recomendation_System'\n",
        "dir_name = '1.-inputs_movie_recomendation'\n",
        "# if not os.path.isdir(path + '/' + dir_name + '/'):\n",
        "if not os.path.isdir('./' + dir_name + '/'):\n",
        "  os.mkdir('./' + dir_name + '/')\n",
        "\n",
        "  # !git clone https://github.com/anselmostitla/Input_Movie_Recomendation_System.git\n",
        "\n",
        "  # !git clone https://github.com/anselmostitla/inputs.git\n",
        "  !git clone https://github.com/anselmostitla/1.-inputs_movie_recomendation.git"
      ],
      "execution_count": 3,
      "outputs": [
        {
          "output_type": "stream",
          "name": "stderr",
          "text": [
            "Cloning into '1.-inputs_movie_recomendation'...\n"
          ]
        }
      ]
    },
    {
      "cell_type": "code",
      "metadata": {
        "id": "1hDVa4GwUaTR",
        "outputId": "8701aa20-2040-4140-9a51-e9cb9dc00757",
        "colab": {
          "base_uri": "https://localhost:8080/",
          "height": 406
        }
      },
      "source": [
        "\n",
        "# dataset = pd.read_csv(path + '/' + dir_name + '/' + 'reviews.txt', sep='\\t', names = ['Revies','Comments'])\n",
        "dataset = pd.read_csv('./' + dir_name + '/' + 'inputs' + '/' + 'reviews.txt', sep='\\t', names = ['Revies','Comments'])\n",
        "dataset"
      ],
      "execution_count": 4,
      "outputs": [
        {
          "output_type": "execute_result",
          "data": {
            "text/plain": [
              "      Revies                                           Comments\n",
              "0          1            The Da Vinci Code book is just awesome.\n",
              "1          1  this was the first clive cussler i've ever rea...\n",
              "2          1                   i liked the Da Vinci Code a lot.\n",
              "3          1                   i liked the Da Vinci Code a lot.\n",
              "4          1  I liked the Da Vinci Code but it ultimatly did...\n",
              "...      ...                                                ...\n",
              "6913       0                     Brokeback Mountain was boring.\n",
              "6914       0       So Brokeback Mountain was really depressing.\n",
              "6915       0  As I sit here, watching the MTV Movie Awards, ...\n",
              "6916       0    Ok brokeback mountain is such a horrible movie.\n",
              "6917       0   Oh, and Brokeback Mountain was a terrible movie.\n",
              "\n",
              "[6918 rows x 2 columns]"
            ],
            "text/html": "<div>\n<style scoped>\n    .dataframe tbody tr th:only-of-type {\n        vertical-align: middle;\n    }\n\n    .dataframe tbody tr th {\n        vertical-align: top;\n    }\n\n    .dataframe thead th {\n        text-align: right;\n    }\n</style>\n<table border=\"1\" class=\"dataframe\">\n  <thead>\n    <tr style=\"text-align: right;\">\n      <th></th>\n      <th>Revies</th>\n      <th>Comments</th>\n    </tr>\n  </thead>\n  <tbody>\n    <tr>\n      <th>0</th>\n      <td>1</td>\n      <td>The Da Vinci Code book is just awesome.</td>\n    </tr>\n    <tr>\n      <th>1</th>\n      <td>1</td>\n      <td>this was the first clive cussler i've ever rea...</td>\n    </tr>\n    <tr>\n      <th>2</th>\n      <td>1</td>\n      <td>i liked the Da Vinci Code a lot.</td>\n    </tr>\n    <tr>\n      <th>3</th>\n      <td>1</td>\n      <td>i liked the Da Vinci Code a lot.</td>\n    </tr>\n    <tr>\n      <th>4</th>\n      <td>1</td>\n      <td>I liked the Da Vinci Code but it ultimatly did...</td>\n    </tr>\n    <tr>\n      <th>...</th>\n      <td>...</td>\n      <td>...</td>\n    </tr>\n    <tr>\n      <th>6913</th>\n      <td>0</td>\n      <td>Brokeback Mountain was boring.</td>\n    </tr>\n    <tr>\n      <th>6914</th>\n      <td>0</td>\n      <td>So Brokeback Mountain was really depressing.</td>\n    </tr>\n    <tr>\n      <th>6915</th>\n      <td>0</td>\n      <td>As I sit here, watching the MTV Movie Awards, ...</td>\n    </tr>\n    <tr>\n      <th>6916</th>\n      <td>0</td>\n      <td>Ok brokeback mountain is such a horrible movie.</td>\n    </tr>\n    <tr>\n      <th>6917</th>\n      <td>0</td>\n      <td>Oh, and Brokeback Mountain was a terrible movie.</td>\n    </tr>\n  </tbody>\n</table>\n<p>6918 rows × 2 columns</p>\n</div>"
          },
          "metadata": {},
          "execution_count": 4
        }
      ]
    },
    {
      "cell_type": "code",
      "metadata": {
        "id": "upShtLj0VUn9"
      },
      "source": [
        "stopset = set(stopwords.words('english'))"
      ],
      "execution_count": 5,
      "outputs": []
    },
    {
      "cell_type": "code",
      "metadata": {
        "id": "pkZWvErvVvgM"
      },
      "source": [
        "vectorizer = TfidfVectorizer(use_idf=True, lowercase=True,strip_accents='ascii',\n",
        "                             stop_words=stopset)"
      ],
      "execution_count": 6,
      "outputs": []
    },
    {
      "cell_type": "code",
      "execution_count": 13,
      "metadata": {},
      "outputs": [],
      "source": [
        "os.chdir(\"C:/Projects/Project2/\")"
      ]
    },
    {
      "cell_type": "code",
      "metadata": {
        "id": "hHHhB1SdWntR"
      },
      "source": [
        "X = vectorizer.fit_transform(dataset.Comments)\n",
        "y = dataset.Revies\n",
        "pickle.dump(vectorizer, open('tranform.pkl','wb'))"
      ],
      "execution_count": 14,
      "outputs": []
    },
    {
      "cell_type": "code",
      "metadata": {
        "id": "6Pg1BW76b-5P"
      },
      "source": [
        "X_train, X_test, y_train, y_test = train_test_split(X, y, test_size = .20, random_state=42)"
      ],
      "execution_count": 15,
      "outputs": []
    },
    {
      "cell_type": "code",
      "metadata": {
        "id": "brkJb4ZPb_6-",
        "outputId": "2e2ab6fb-f2d9-47f7-e3c4-537519cb6738",
        "colab": {
          "base_uri": "https://localhost:8080/",
          "height": 33
        }
      },
      "source": [
        "clf = naive_bayes.MultinomialNB()\n",
        "clf.fit(X_train,y_train)"
      ],
      "execution_count": 17,
      "outputs": [
        {
          "output_type": "execute_result",
          "data": {
            "text/plain": [
              "MultinomialNB()"
            ]
          },
          "metadata": {},
          "execution_count": 17
        }
      ]
    },
    {
      "cell_type": "code",
      "metadata": {
        "id": "9cQIqmuPcALJ",
        "outputId": "8a9370e1-e35a-418b-b972-5cccbc190b24",
        "colab": {
          "base_uri": "https://localhost:8080/",
          "height": 33
        }
      },
      "source": [
        "accuracy_score(y_test, clf.predict(X_test))*100"
      ],
      "execution_count": 18,
      "outputs": [
        {
          "output_type": "execute_result",
          "data": {
            "text/plain": [
              "97.47109826589595"
            ]
          },
          "metadata": {},
          "execution_count": 18
        }
      ]
    },
    {
      "cell_type": "code",
      "metadata": {
        "id": "28qDyXuJcAe4"
      },
      "source": [
        "filename = 'nlp_model.pkl'\n",
        "pickle.dump(clf, open(filename,'wb'))"
      ],
      "execution_count": 19,
      "outputs": []
    }
  ]
}